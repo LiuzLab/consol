{
 "cells": [
  {
   "cell_type": "code",
   "execution_count": 2,
   "id": "76435d03-1365-4215-a74f-02c33ecac66e",
   "metadata": {
    "tags": []
   },
   "outputs": [],
   "source": [
    "import pandas as pd\n",
    "import glob"
   ]
  },
  {
   "cell_type": "code",
   "execution_count": 3,
   "id": "0d3e2603-564b-4dbd-8d2a-67d166a35fa6",
   "metadata": {
    "tags": []
   },
   "outputs": [],
   "source": [
    "import random\n",
    "\n",
    "SEED = 42\n",
    "random.seed(SEED)\n",
    "\n",
    "df = pd.read_csv(\"resources/data/gpqa_diamond.csv\")\n",
    "\n",
    "answer_columns = [\n",
    "    \"Pre-Revision Correct Answer\",\n",
    "    \"Pre-Revision Incorrect Answer 1\",\n",
    "    \"Pre-Revision Incorrect Answer 2\",\n",
    "    \"Pre-Revision Incorrect Answer 3\"\n",
    "]\n",
    "\n",
    "options_labels = [\"A\", \"B\", \"C\", \"D\"]\n",
    "\n",
    "formatted_questions = []\n",
    "correct_answers = []\n",
    "\n",
    "for _, row in df.iterrows():\n",
    "\n",
    "    shuffled_columns = random.sample(answer_columns, len(answer_columns))\n",
    "\n",
    "    shuffled_options = {opt: row[col] for opt, col in zip(options_labels, shuffled_columns)}\n",
    "\n",
    "    question_text = f\"Question: {row['Pre-Revision Question']}\\\\n\"\n",
    "    choices_text = \"\\\\n\".join([f\"{opt}. {shuffled_options[opt]}\" for opt in options_labels])\n",
    "    prompt_text = f\"{question_text}{choices_text}\"\n",
    "\n",
    "    correct_option = [opt for opt, col in zip(options_labels, shuffled_columns) if col == \"Pre-Revision Correct Answer\"][0]\n",
    "\n",
    "    formatted_questions.append(prompt_text)\n",
    "    correct_answers.append(correct_option)\n",
    "\n",
    "gpqa_df = pd.DataFrame({\n",
    "    \"input\": formatted_questions,\n",
    "    \"target\": correct_answers\n",
    "})"
   ]
  },
  {
   "cell_type": "code",
   "execution_count": 4,
   "id": "524d5f2a-a303-4dad-91da-ac89e43c1a0d",
   "metadata": {
    "tags": []
   },
   "outputs": [],
   "source": [
    "def get_model_problem_summary(globpath, n=256):\n",
    "    df = pd.concat([pd.read_csv(filepath, index_col=0).head(n).assign(id=int(filepath.split(\"/\")[-1].split('.')[0])) for filepath in sorted(glob.glob(globpath))]).reset_index(drop=True)\n",
    "    df2 = gpqa_df.target.to_frame()\n",
    "    df2['answer'] = df.groupby('id').answer.agg(lambda x: x.value_counts().index[0])\n",
    "    df2['trials'] = df.groupby('id').token_usage.count()\n",
    "    df2['token_usage'] = df.groupby('id').token_usage.sum()\n",
    "    return df2\n",
    "\n",
    "def get_model_summary(df):\n",
    "    return pd.Series({\n",
    "        \"mean_token_usage\": df.token_usage.mean(),\n",
    "        \"estimated_price\": df.token_usage.sum() * 4.40 / 1e6,\n",
    "        \"accuracy\": (df.target == df.answer).mean(),\n",
    "    })"
   ]
  },
  {
   "cell_type": "code",
   "execution_count": null,
   "id": "d1ad52e0-9cd9-4999-9f0d-825a29e421cf",
   "metadata": {
    "tags": []
   },
   "outputs": [
    {
     "data": {
      "text/html": [
       "<div>\n",
       "<style scoped>\n",
       "    .dataframe tbody tr th:only-of-type {\n",
       "        vertical-align: middle;\n",
       "    }\n",
       "\n",
       "    .dataframe tbody tr th {\n",
       "        vertical-align: top;\n",
       "    }\n",
       "\n",
       "    .dataframe thead th {\n",
       "        text-align: right;\n",
       "    }\n",
       "</style>\n",
       "<table border=\"1\" class=\"dataframe\">\n",
       "  <thead>\n",
       "    <tr style=\"text-align: right;\">\n",
       "      <th></th>\n",
       "      <th>answer</th>\n",
       "      <th>token_usage</th>\n",
       "    </tr>\n",
       "  </thead>\n",
       "  <tbody>\n",
       "    <tr>\n",
       "      <th>0</th>\n",
       "      <td>A</td>\n",
       "      <td>145</td>\n",
       "    </tr>\n",
       "    <tr>\n",
       "      <th>1</th>\n",
       "      <td>A</td>\n",
       "      <td>145</td>\n",
       "    </tr>\n",
       "    <tr>\n",
       "      <th>2</th>\n",
       "      <td>A</td>\n",
       "      <td>210</td>\n",
       "    </tr>\n",
       "    <tr>\n",
       "      <th>3</th>\n",
       "      <td>A</td>\n",
       "      <td>405</td>\n",
       "    </tr>\n",
       "  </tbody>\n",
       "</table>\n",
       "</div>"
      ],
      "text/plain": [
       "  answer  token_usage\n",
       "0      A          145\n",
       "1      A          145\n",
       "2      A          210\n",
       "3      A          405"
      ]
     },
     "execution_count": 32,
     "metadata": {},
     "output_type": "execute_result"
    }
   ],
   "source": [
    "pd.read_csv(\"resource/gpqa_diamond/gpqa_msprt/0.csv\", index_col=0)"
   ]
  },
  {
   "cell_type": "code",
   "execution_count": null,
   "id": "34e494f2-22d9-4801-a972-ea9b5b3632a1",
   "metadata": {
    "tags": []
   },
   "outputs": [
    {
     "data": {
      "text/html": [
       "<div>\n",
       "<style scoped>\n",
       "    .dataframe tbody tr th:only-of-type {\n",
       "        vertical-align: middle;\n",
       "    }\n",
       "\n",
       "    .dataframe tbody tr th {\n",
       "        vertical-align: top;\n",
       "    }\n",
       "\n",
       "    .dataframe thead th {\n",
       "        text-align: right;\n",
       "    }\n",
       "</style>\n",
       "<table border=\"1\" class=\"dataframe\">\n",
       "  <thead>\n",
       "    <tr style=\"text-align: right;\">\n",
       "      <th></th>\n",
       "      <th>answer</th>\n",
       "      <th>token_usage</th>\n",
       "    </tr>\n",
       "  </thead>\n",
       "  <tbody>\n",
       "    <tr>\n",
       "      <th>0</th>\n",
       "      <td>A</td>\n",
       "      <td>81</td>\n",
       "    </tr>\n",
       "    <tr>\n",
       "      <th>1</th>\n",
       "      <td>A</td>\n",
       "      <td>145</td>\n",
       "    </tr>\n",
       "    <tr>\n",
       "      <th>2</th>\n",
       "      <td>A</td>\n",
       "      <td>145</td>\n",
       "    </tr>\n",
       "    <tr>\n",
       "      <th>3</th>\n",
       "      <td>A</td>\n",
       "      <td>273</td>\n",
       "    </tr>\n",
       "  </tbody>\n",
       "</table>\n",
       "</div>"
      ],
      "text/plain": [
       "  answer  token_usage\n",
       "0      A           81\n",
       "1      A          145\n",
       "2      A          145\n",
       "3      A          273"
      ]
     },
     "execution_count": 38,
     "metadata": {},
     "output_type": "execute_result"
    }
   ],
   "source": [
    "pd.read_csv(\"resource/gpqa_diamond/gpqa_bayesian_posterior/0.csv\", index_col=0)"
   ]
  },
  {
   "cell_type": "code",
   "execution_count": 9,
   "id": "b7772b95-7a7e-4bc7-a0c8-5a80eea9cbb1",
   "metadata": {
    "tags": []
   },
   "outputs": [],
   "source": [
    "import matplotlib.pyplot as plt\n",
    "import seaborn as sns\n",
    "sns.set_theme(style=\"whitegrid\", palette=\"pastel\")"
   ]
  },
  {
   "cell_type": "code",
   "execution_count": null,
   "id": "90376be2-854a-4cd2-8056-b0ed0842d59c",
   "metadata": {
    "tags": []
   },
   "outputs": [
    {
     "data": {
      "text/plain": [
       "Text(0.5, 1.0, 'Token Usage')"
      ]
     },
     "execution_count": 10,
     "metadata": {},
     "output_type": "execute_result"
    },
    {
     "data": {
      "image/png": "[encoded data removed]",
      "text/plain": [
       "<Figure size 640x480 with 1 Axes>"
      ]
     },
     "metadata": {},
     "output_type": "display_data"
    }
   ],
   "source": [
    "ax = (pd.Series([\n",
    "    get_model_summary(get_model_problem_summary(\"resource/gpqa_diamond/gpqa_bayesian_posterior/*\")).mean_token_usage,\n",
    "    get_model_summary(get_model_problem_summary(\"resource/gpqa_diamond/gpqa_msprt/*\")).mean_token_usage,\n",
    "    get_model_summary(get_model_problem_summary(\"resource/gpqa_diamond/gpqa_10_trail/*\")).mean_token_usage,\n",
    "    get_model_summary(get_model_problem_summary(\"resource/gpqa_diamond/gpqa_one_trail/*\")).mean_token_usage,\n",
    "])[::-1]).to_frame().assign(label=[\"one_trail\", \"ten_trail\",\"msprt\",\"bayesian_posterior\"]).set_index('label').plot.bar(ylabel=\"Token Usage\", xlabel=\"\", rot=0, legend=False)\n",
    "\n",
    "plt.title(\"Token Usage\")"
   ]
  },
  {
   "cell_type": "code",
   "execution_count": null,
   "id": "720ae581-0db0-4e5e-967c-b1e1e9c09865",
   "metadata": {},
   "outputs": [
    {
     "data": {
      "text/plain": [
       "Text(0.5, 1.0, 'Accuracy')"
      ]
     },
     "execution_count": 12,
     "metadata": {},
     "output_type": "execute_result"
    },
    {
     "data": {
      "image/png": "[encoded data removed]",
      "text/plain": [
       "<Figure size 640x480 with 1 Axes>"
      ]
     },
     "metadata": {},
     "output_type": "display_data"
    }
   ],
   "source": [
    "ax = (pd.Series([\n",
    "    get_model_summary(get_model_problem_summary(\"resource/gpqa_diamond/gpqa_bayesian_posterior/*\")).accuracy,\n",
    "    get_model_summary(get_model_problem_summary(\"resource/gpqa_diamond/gpqa_msprt/*\")).accuracy,\n",
    "    get_model_summary(get_model_problem_summary(\"resource/gpqa_diamond/gpqa_10_trail/*\")).accuracy,\n",
    "    get_model_summary(get_model_problem_summary(\"resource/gpqa_diamond/gpqa_one_trail/*\")).accuracy,\n",
    "])[::-1]).to_frame().assign(label=[\"one_trail\",\"ten_trail\", \"msprt\",\"bayesian_posterior\"]).set_index('label').plot.bar(ylabel=\"Token Usage\", xlabel=\"\", rot=0, legend=False)\n",
    "\n",
    "plt.title(\"Accuracy\")"
   ]
  }
 ],
 "metadata": {
  "kernelspec": {
   "display_name": "Python 3 (ipykernel)",
   "language": "python",
   "name": "python3"
  },
  "language_info": {
   "codemirror_mode": {
    "name": "ipython",
    "version": 3
   },
   "file_extension": ".py",
   "mimetype": "text/x-python",
   "name": "python",
   "nbconvert_exporter": "python",
   "pygments_lexer": "ipython3",
   "version": "3.11.5"
  }
 },
 "nbformat": 4,
 "nbformat_minor": 5
}
