{
 "cells": [
  {
   "cell_type": "code",
   "execution_count": null,
   "metadata": {},
   "outputs": [],
   "source": [
    "import glob\n",
    "import pandas as pd\n",
    "import seaborn as sns\n",
    "import numpy as np\n",
    "import re\n",
    "import matplotlib.pyplot as plt\n"
   ]
  },
  {
   "cell_type": "code",
   "execution_count": null,
   "metadata": {},
   "outputs": [],
   "source": [
    "aime24df = pd.read_parquet(\"hf://datasets/Maxwell-Jia/AIME_2024/aime_2024_problems.parquet\")\n",
    "\n",
    "def sort_key(file_name):\n",
    "    match = re.search(r'(\\d+)\\.csv$', file_name)\n",
    "    return int(match.group(1)) if match else -1\n",
    "\n",
    "def process_folder(folder_path):\n",
    "    csv_files = sorted(glob.glob(f\"{folder_path}/*.csv\"), key=sort_key)\n",
    "    results = []\n",
    "\n",
    "    for csv in csv_files:\n",
    "        df = pd.read_csv(csv)\n",
    "        target = aime24df.iloc[int(csv.split(\"/\")[-1].split(\".\")[0])].Answer\n",
    "        value_counts = df['answer'].value_counts(normalize=True)\n",
    "        answers = value_counts.nlargest(2).index.tolist()\n",
    "        while len(answers) < 2:\n",
    "            answers.append(None)\n",
    "\n",
    "        p_max = value_counts.max()\n",
    "        p_second = value_counts.nlargest(2).iloc[1] if len(value_counts) > 1 else 0\n",
    "        entropy = -(value_counts * np.log2(value_counts)).sum()\n",
    "        file_index = int(re.search(r'(\\d+)\\.csv$', csv).group(1))\n",
    "        if target == answers[0]:\n",
    "            colorlabel = \"first\"\n",
    "        elif target == answers[1]:\n",
    "            colorlabel = \"second\"\n",
    "        else:\n",
    "            colorlabel = \"neither\"\n",
    "        results.append({'file_index': file_index, 'p_max': p_max, 'p_second': p_second, 'entropy': entropy, 'colorlabel': colorlabel, })\n",
    "\n",
    "    results_df = pd.DataFrame(results)\n",
    "    return results_df\n",
    "\n",
    "# Process each folder\n",
    "folders = [\"../../aime24/o3minilow-aime24-vote\", \"../../aime24/o3minimedium-aime24-vote\", \"../../aime24/o3minihigh-aime24-vote\"]\n",
    "all_results = []\n",
    "\n",
    "for folder in folders:\n",
    "    folder_results = process_folder(folder)\n",
    "    folder_results['model'] = folder.split('/')[-1]\n",
    "    all_results.append(folder_results)\n",
    "\n",
    "# Combine all results into a single dataframe\n",
    "combined_results_df = pd.concat(all_results, ignore_index=True)\n",
    "\n",
    "# combined_results_df\n",
    "\n",
    "unique_models = combined_results_df['model'].unique()\n",
    "\n",
    "plt.figure(figsize=(12, 4))\n",
    "plt.suptitle(\"Scatter Plot between p_1 and p_2\")\n",
    "\n",
    "for i, model_name in enumerate(unique_models):\n",
    "    model_name2 = {\n",
    "        \"o3minilow\": \"AIME24 / o3-mini-low\",\n",
    "        \"o3minimedium\": \"AIME24 / o3-mini-medium\",\n",
    "        \"o3minihigh\": \"AIME24 / o3-mini-high\",\n",
    "    }[model_name.split('-')[0]]\n",
    "\n",
    "    plt.subplot(1, 3, i + 1)\n",
    "    model_df = combined_results_df[combined_results_df['model'] == model_name]\n",
    "    sns.scatterplot(data=model_df, x='p_max', y='p_second', hue='colorlabel', palette='muted')\n",
    "    # plt.axvspan(0.3, 0.5, color='yellow', alpha=0.3)\n",
    "    plt.plot([0, 1], [0, 1], linestyle='--', color='red')  # Add y=x line\n",
    "    plt.xlim(0, 1)\n",
    "    plt.ylim(0, 1)\n",
    "    plt.title(model_name2)\n",
    "    plt.xlabel('p_1')\n",
    "    plt.ylabel('p_2')\n",
    "    plt.legend(title='Model')\n",
    "\n",
    "plt.tight_layout()\n",
    "plt.savefig(\"./Untitled.pdf\", dpi=300)\n",
    "plt.show()\n"
   ]
  },
  {
   "cell_type": "code",
   "execution_count": null,
   "metadata": {},
   "outputs": [],
   "source": []
  },
  {
   "cell_type": "code",
   "execution_count": null,
   "metadata": {},
   "outputs": [],
   "source": [
    "print(\"\"\"\n",
    "Figure X. Scatterplot for the two most frequent responses by Open AI o3-mini reasoning models.\n",
    "\n",
    "When p_1 is lower than 0.5, neither of the most frequent responses are likely not to be answer.\n",
    "This observation justifies our approaches to allow early stopping by accepting H_0, concluding there's no dominating response, even with a weak evidence.\n",
    "\"\"\".strip())"
   ]
  },
  {
   "cell_type": "markdown",
   "metadata": {},
   "source": []
  },
  {
   "cell_type": "code",
   "execution_count": null,
   "metadata": {},
   "outputs": [],
   "source": []
  }
 ],
 "metadata": {
  "kernelspec": {
   "display_name": "base",
   "language": "python",
   "name": "python3"
  },
  "language_info": {
   "codemirror_mode": {
    "name": "ipython",
    "version": 3
   },
   "file_extension": ".py",
   "mimetype": "text/x-python",
   "name": "python",
   "nbconvert_exporter": "python",
   "pygments_lexer": "ipython3",
   "version": "3.11.5"
  }
 },
 "nbformat": 4,
 "nbformat_minor": 2
}
