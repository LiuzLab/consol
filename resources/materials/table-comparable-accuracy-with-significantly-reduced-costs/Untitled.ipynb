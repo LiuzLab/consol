{
 "cells": [
  {
   "cell_type": "code",
   "execution_count": 1,
   "metadata": {},
   "outputs": [
    {
     "name": "stderr",
     "output_type": "stream",
     "text": [
      "/home/jaeyeonl/.local/lib/python3.11/site-packages/pandas/core/arrays/masked.py:60: UserWarning: Pandas requires version '1.3.6' or newer of 'bottleneck' (version '1.3.5' currently installed).\n",
      "  from pandas.core import (\n"
     ]
    }
   ],
   "source": [
    "import pandas as pd\n",
    "import glob"
   ]
  },
  {
   "cell_type": "code",
   "execution_count": 2,
   "metadata": {},
   "outputs": [],
   "source": [
    "import matplotlib.pyplot as plt\n",
    "import seaborn as sns\n",
    "sns.set_theme(style=\"whitegrid\", palette=\"pastel\")\n"
   ]
  },
  {
   "cell_type": "code",
   "execution_count": null,
   "metadata": {},
   "outputs": [],
   "source": []
  },
  {
   "cell_type": "code",
   "execution_count": null,
   "metadata": {},
   "outputs": [],
   "source": []
  },
  {
   "cell_type": "code",
   "execution_count": 3,
   "metadata": {},
   "outputs": [
    {
     "data": {
      "application/vnd.microsoft.datawrangler.viewer.v0+json": {
       "columns": [
        {
         "name": "index",
         "rawType": "int64",
         "type": "integer"
        },
        {
         "name": "mean_trials",
         "rawType": "float64",
         "type": "float"
        },
        {
         "name": "accuracy",
         "rawType": "float64",
         "type": "float"
        },
        {
         "name": "method",
         "rawType": "object",
         "type": "string"
        },
        {
         "name": "benchmark",
         "rawType": "object",
         "type": "string"
        }
       ],
       "conversionMethod": "pd.DataFrame",
       "ref": "c75cf6a0-1c18-40b1-a2a1-3f233edd720f",
       "rows": [
        [
         "0",
         "40.0",
         "0.7",
         "Self-Cons@40",
         "AIME24 / o3-mini-low"
        ],
        [
         "0",
         "16.4",
         "0.7",
         "p-value",
         "AIME24 / o3-mini-low"
        ],
        [
         "0",
         "16.266666666666666",
         "0.7",
         "Ada-Cons",
         "AIME24 / o3-mini-low"
        ],
        [
         "0",
         "11.466666666666667",
         "0.8",
         "SPRT (Ours)",
         "AIME24 / o3-mini-low"
        ],
        [
         "0",
         "13.866666666666667",
         "0.7666666666666667",
         "mSPRT (Ours)",
         "AIME24 / o3-mini-low"
        ],
        [
         "0",
         "40.0",
         "0.9",
         "Self-Cons@40",
         "AIME24 / o3-mini-medium"
        ],
        [
         "0",
         "11.2",
         "0.9333333333333333",
         "p-value",
         "AIME24 / o3-mini-medium"
        ],
        [
         "0",
         "10.366666666666667",
         "0.9",
         "Ada-Cons",
         "AIME24 / o3-mini-medium"
        ],
        [
         "0",
         "4.733333333333333",
         "0.9",
         "SPRT (Ours)",
         "AIME24 / o3-mini-medium"
        ],
        [
         "0",
         "6.5",
         "0.9",
         "mSPRT (Ours)",
         "AIME24 / o3-mini-medium"
        ],
        [
         "0",
         "40.0",
         "0.9666666666666667",
         "Self-Cons@40",
         "AIME24 / o3-mini-high"
        ],
        [
         "0",
         "9.733333333333333",
         "0.9666666666666667",
         "p-value",
         "AIME24 / o3-mini-high"
        ],
        [
         "0",
         "7.4",
         "0.9666666666666667",
         "Ada-Cons",
         "AIME24 / o3-mini-high"
        ],
        [
         "0",
         "4.133333333333334",
         "0.9666666666666667",
         "SPRT (Ours)",
         "AIME24 / o3-mini-high"
        ],
        [
         "0",
         "4.366666666666666",
         "0.9666666666666667",
         "mSPRT (Ours)",
         "AIME24 / o3-mini-high"
        ]
       ],
       "shape": {
        "columns": 4,
        "rows": 15
       }
      },
      "text/html": [
       "<div>\n",
       "<style scoped>\n",
       "    .dataframe tbody tr th:only-of-type {\n",
       "        vertical-align: middle;\n",
       "    }\n",
       "\n",
       "    .dataframe tbody tr th {\n",
       "        vertical-align: top;\n",
       "    }\n",
       "\n",
       "    .dataframe thead th {\n",
       "        text-align: right;\n",
       "    }\n",
       "</style>\n",
       "<table border=\"1\" class=\"dataframe\">\n",
       "  <thead>\n",
       "    <tr style=\"text-align: right;\">\n",
       "      <th></th>\n",
       "      <th>mean_trials</th>\n",
       "      <th>accuracy</th>\n",
       "      <th>method</th>\n",
       "      <th>benchmark</th>\n",
       "    </tr>\n",
       "  </thead>\n",
       "  <tbody>\n",
       "    <tr>\n",
       "      <th>0</th>\n",
       "      <td>40.000000</td>\n",
       "      <td>0.700000</td>\n",
       "      <td>Self-Cons@40</td>\n",
       "      <td>AIME24 / o3-mini-low</td>\n",
       "    </tr>\n",
       "    <tr>\n",
       "      <th>0</th>\n",
       "      <td>16.400000</td>\n",
       "      <td>0.700000</td>\n",
       "      <td>p-value</td>\n",
       "      <td>AIME24 / o3-mini-low</td>\n",
       "    </tr>\n",
       "    <tr>\n",
       "      <th>0</th>\n",
       "      <td>16.266667</td>\n",
       "      <td>0.700000</td>\n",
       "      <td>Ada-Cons</td>\n",
       "      <td>AIME24 / o3-mini-low</td>\n",
       "    </tr>\n",
       "    <tr>\n",
       "      <th>0</th>\n",
       "      <td>11.466667</td>\n",
       "      <td>0.800000</td>\n",
       "      <td>SPRT (Ours)</td>\n",
       "      <td>AIME24 / o3-mini-low</td>\n",
       "    </tr>\n",
       "    <tr>\n",
       "      <th>0</th>\n",
       "      <td>13.866667</td>\n",
       "      <td>0.766667</td>\n",
       "      <td>mSPRT (Ours)</td>\n",
       "      <td>AIME24 / o3-mini-low</td>\n",
       "    </tr>\n",
       "    <tr>\n",
       "      <th>0</th>\n",
       "      <td>40.000000</td>\n",
       "      <td>0.900000</td>\n",
       "      <td>Self-Cons@40</td>\n",
       "      <td>AIME24 / o3-mini-medium</td>\n",
       "    </tr>\n",
       "    <tr>\n",
       "      <th>0</th>\n",
       "      <td>11.200000</td>\n",
       "      <td>0.933333</td>\n",
       "      <td>p-value</td>\n",
       "      <td>AIME24 / o3-mini-medium</td>\n",
       "    </tr>\n",
       "    <tr>\n",
       "      <th>0</th>\n",
       "      <td>10.366667</td>\n",
       "      <td>0.900000</td>\n",
       "      <td>Ada-Cons</td>\n",
       "      <td>AIME24 / o3-mini-medium</td>\n",
       "    </tr>\n",
       "    <tr>\n",
       "      <th>0</th>\n",
       "      <td>4.733333</td>\n",
       "      <td>0.900000</td>\n",
       "      <td>SPRT (Ours)</td>\n",
       "      <td>AIME24 / o3-mini-medium</td>\n",
       "    </tr>\n",
       "    <tr>\n",
       "      <th>0</th>\n",
       "      <td>6.500000</td>\n",
       "      <td>0.900000</td>\n",
       "      <td>mSPRT (Ours)</td>\n",
       "      <td>AIME24 / o3-mini-medium</td>\n",
       "    </tr>\n",
       "    <tr>\n",
       "      <th>0</th>\n",
       "      <td>40.000000</td>\n",
       "      <td>0.966667</td>\n",
       "      <td>Self-Cons@40</td>\n",
       "      <td>AIME24 / o3-mini-high</td>\n",
       "    </tr>\n",
       "    <tr>\n",
       "      <th>0</th>\n",
       "      <td>9.733333</td>\n",
       "      <td>0.966667</td>\n",
       "      <td>p-value</td>\n",
       "      <td>AIME24 / o3-mini-high</td>\n",
       "    </tr>\n",
       "    <tr>\n",
       "      <th>0</th>\n",
       "      <td>7.400000</td>\n",
       "      <td>0.966667</td>\n",
       "      <td>Ada-Cons</td>\n",
       "      <td>AIME24 / o3-mini-high</td>\n",
       "    </tr>\n",
       "    <tr>\n",
       "      <th>0</th>\n",
       "      <td>4.133333</td>\n",
       "      <td>0.966667</td>\n",
       "      <td>SPRT (Ours)</td>\n",
       "      <td>AIME24 / o3-mini-high</td>\n",
       "    </tr>\n",
       "    <tr>\n",
       "      <th>0</th>\n",
       "      <td>4.366667</td>\n",
       "      <td>0.966667</td>\n",
       "      <td>mSPRT (Ours)</td>\n",
       "      <td>AIME24 / o3-mini-high</td>\n",
       "    </tr>\n",
       "  </tbody>\n",
       "</table>\n",
       "</div>"
      ],
      "text/plain": [
       "   mean_trials  accuracy        method                benchmark\n",
       "0    40.000000  0.700000  Self-Cons@40     AIME24 / o3-mini-low\n",
       "0    16.400000  0.700000       p-value     AIME24 / o3-mini-low\n",
       "0    16.266667  0.700000      Ada-Cons     AIME24 / o3-mini-low\n",
       "0    11.466667  0.800000   SPRT (Ours)     AIME24 / o3-mini-low\n",
       "0    13.866667  0.766667  mSPRT (Ours)     AIME24 / o3-mini-low\n",
       "0    40.000000  0.900000  Self-Cons@40  AIME24 / o3-mini-medium\n",
       "0    11.200000  0.933333       p-value  AIME24 / o3-mini-medium\n",
       "0    10.366667  0.900000      Ada-Cons  AIME24 / o3-mini-medium\n",
       "0     4.733333  0.900000   SPRT (Ours)  AIME24 / o3-mini-medium\n",
       "0     6.500000  0.900000  mSPRT (Ours)  AIME24 / o3-mini-medium\n",
       "0    40.000000  0.966667  Self-Cons@40    AIME24 / o3-mini-high\n",
       "0     9.733333  0.966667       p-value    AIME24 / o3-mini-high\n",
       "0     7.400000  0.966667      Ada-Cons    AIME24 / o3-mini-high\n",
       "0     4.133333  0.966667   SPRT (Ours)    AIME24 / o3-mini-high\n",
       "0     4.366667  0.966667  mSPRT (Ours)    AIME24 / o3-mini-high"
      ]
     },
     "execution_count": 3,
     "metadata": {},
     "output_type": "execute_result"
    }
   ],
   "source": [
    "aime24df = pd.read_parquet(\"hf://datasets/Maxwell-Jia/AIME_2024/aime_2024_problems.parquet\")\n",
    "aime24df = aime24df.rename(columns={'Problem': 'input', 'Answer': 'target'})\n",
    "aime24df = aime24df[['input', 'target']]\n",
    "\n",
    "def get_model_problem_summary(globpath):\n",
    "    df = pd.concat([pd.read_csv(filepath, index_col=0).assign(id=int(filepath.split(\"/\")[-1].split('.')[0])) for filepath in sorted(glob.glob(globpath))]).reset_index(drop=True)\n",
    "    df2 = aime24df.target.to_frame()\n",
    "    df2['answer'] = df.groupby('id').answer.agg(lambda x: x.value_counts().index[0])\n",
    "    df2['trials'] = df.groupby('id').token_usage.count()\n",
    "    df2['token_usage'] = df.groupby('id').token_usage.sum()\n",
    "    # print(df2)\n",
    "    return df2\n",
    "\n",
    "def get_model_summary(df):\n",
    "    return pd.Series({\n",
    "        \"mean_trials\": df.trials.mean(),\n",
    "        \"accuracy\": (df.target == df.answer).mean(),\n",
    "    }).to_frame()\n",
    "\n",
    "\n",
    "aime_dfs = []\n",
    "aime_dfs += [get_model_summary(get_model_problem_summary(\"../../aime24/o3minilow-aime24-vote/*\")).T.assign(method=\"Self-Cons@40\", benchmark=\"AIME24 / o3-mini-low\")]\n",
    "aime_dfs += [get_model_summary(get_model_problem_summary(\"../../aime24/o3minilow-aime24-pvalue/*\")).T.assign(method=\"p-value\", benchmark=\"AIME24 / o3-mini-low\")]\n",
    "aime_dfs += [get_model_summary(get_model_problem_summary(\"../../aime24/o3minilow-aime24-bayesian/*\")).T.assign(method=\"Ada-Cons\", benchmark=\"AIME24 / o3-mini-low\")]\n",
    "aime_dfs += [get_model_summary(get_model_problem_summary(\"../../aime24/o3minilow-aime24-sprt-050010050949976/*\")).T.assign(method=\"SPRT (Ours)\", benchmark=\"AIME24 / o3-mini-low\")]\n",
    "aime_dfs += [get_model_summary(get_model_problem_summary(\"../../aime24/o3minilow-aime24-msprt-1e61e6005094994-3/*\")).T.assign(method=\"mSPRT (Ours)\", benchmark=\"AIME24 / o3-mini-low\")]\n",
    "aime_dfs += [get_model_summary(get_model_problem_summary(\"../../aime24/o3minimedium-aime24-vote/*\")).T.assign(method=\"Self-Cons@40\", benchmark=\"AIME24 / o3-mini-medium\")]\n",
    "aime_dfs += [get_model_summary(get_model_problem_summary(\"../../aime24/o3minimedium-aime24-pvalue/*\")).T.assign(method=\"p-value\", benchmark=\"AIME24 / o3-mini-medium\")]\n",
    "aime_dfs += [get_model_summary(get_model_problem_summary(\"../../aime24/o3minimedium-aime24-bayesian/*\")).T.assign(method=\"Ada-Cons\", benchmark=\"AIME24 / o3-mini-medium\")]\n",
    "aime_dfs += [get_model_summary(get_model_problem_summary(\"../../aime24/o3minimedium-aime24-sprt-050010050949976/*\")).T.assign(method=\"SPRT (Ours)\", benchmark=\"AIME24 / o3-mini-medium\")]\n",
    "aime_dfs += [get_model_summary(get_model_problem_summary(\"../../aime24/o3minimedium-aime24-msprt-1e61e6005094994/*\")).T.assign(method=\"mSPRT (Ours)\", benchmark=\"AIME24 / o3-mini-medium\")]\n",
    "aime_dfs += [get_model_summary(get_model_problem_summary(\"../../aime24/o3minihigh-aime24-vote/*\")).T.assign(method=\"Self-Cons@40\", benchmark=\"AIME24 / o3-mini-high\")]\n",
    "aime_dfs += [get_model_summary(get_model_problem_summary(\"../../aime24/o3minihigh-aime24-pvalue/*\")).T.assign(method=\"p-value\", benchmark=\"AIME24 / o3-mini-high\")]\n",
    "aime_dfs += [get_model_summary(get_model_problem_summary(\"../../aime24/o3minihigh-aime24-bayesian/*\")).T.assign(method=\"Ada-Cons\", benchmark=\"AIME24 / o3-mini-high\")]\n",
    "aime_dfs += [get_model_summary(get_model_problem_summary(\"../../aime24/o3minihigh-aime24-sprt-050010050949976/*\")).T.assign(method=\"SPRT (Ours)\", benchmark=\"AIME24 / o3-mini-high\")]\n",
    "aime_dfs += [get_model_summary(get_model_problem_summary(\"../../aime24/o3minihigh-aime24-msprt-1e61e6005094994/*\")).T.assign(method=\"mSPRT (Ours)\", benchmark=\"AIME24 / o3-mini-high\")]\n",
    "\n",
    "pd.concat(aime_dfs)"
   ]
  },
  {
   "cell_type": "code",
   "execution_count": 4,
   "metadata": {},
   "outputs": [
    {
     "data": {
      "application/vnd.microsoft.datawrangler.viewer.v0+json": {
       "columns": [
        {
         "name": "index",
         "rawType": "int64",
         "type": "integer"
        },
        {
         "name": "mean_trials",
         "rawType": "float64",
         "type": "float"
        },
        {
         "name": "accuracy",
         "rawType": "float64",
         "type": "float"
        },
        {
         "name": "method",
         "rawType": "object",
         "type": "string"
        },
        {
         "name": "benchmark",
         "rawType": "object",
         "type": "string"
        }
       ],
       "conversionMethod": "pd.DataFrame",
       "ref": "94857b45-90c4-4b14-b73d-54902d773bc0",
       "rows": [
        [
         "0",
         "40.0",
         "0.6818181818181818",
         "Self-Cons@40",
         "GPQA Diamond / o3-mini-low"
        ],
        [
         "0",
         "8.878787878787879",
         "0.6717171717171717",
         "Ada-Cons",
         "GPQA Diamond / o3-mini-low"
        ],
        [
         "0",
         "4.52020202020202",
         "0.6868686868686869",
         "mSPRT (Ours)",
         "GPQA Diamond / o3-mini-low"
        ]
       ],
       "shape": {
        "columns": 4,
        "rows": 3
       }
      },
      "text/html": [
       "<div>\n",
       "<style scoped>\n",
       "    .dataframe tbody tr th:only-of-type {\n",
       "        vertical-align: middle;\n",
       "    }\n",
       "\n",
       "    .dataframe tbody tr th {\n",
       "        vertical-align: top;\n",
       "    }\n",
       "\n",
       "    .dataframe thead th {\n",
       "        text-align: right;\n",
       "    }\n",
       "</style>\n",
       "<table border=\"1\" class=\"dataframe\">\n",
       "  <thead>\n",
       "    <tr style=\"text-align: right;\">\n",
       "      <th></th>\n",
       "      <th>mean_trials</th>\n",
       "      <th>accuracy</th>\n",
       "      <th>method</th>\n",
       "      <th>benchmark</th>\n",
       "    </tr>\n",
       "  </thead>\n",
       "  <tbody>\n",
       "    <tr>\n",
       "      <th>0</th>\n",
       "      <td>40.000000</td>\n",
       "      <td>0.681818</td>\n",
       "      <td>Self-Cons@40</td>\n",
       "      <td>GPQA Diamond / o3-mini-low</td>\n",
       "    </tr>\n",
       "    <tr>\n",
       "      <th>0</th>\n",
       "      <td>8.878788</td>\n",
       "      <td>0.671717</td>\n",
       "      <td>Ada-Cons</td>\n",
       "      <td>GPQA Diamond / o3-mini-low</td>\n",
       "    </tr>\n",
       "    <tr>\n",
       "      <th>0</th>\n",
       "      <td>4.520202</td>\n",
       "      <td>0.686869</td>\n",
       "      <td>mSPRT (Ours)</td>\n",
       "      <td>GPQA Diamond / o3-mini-low</td>\n",
       "    </tr>\n",
       "  </tbody>\n",
       "</table>\n",
       "</div>"
      ],
      "text/plain": [
       "   mean_trials  accuracy        method                   benchmark\n",
       "0    40.000000  0.681818  Self-Cons@40  GPQA Diamond / o3-mini-low\n",
       "0     8.878788  0.671717      Ada-Cons  GPQA Diamond / o3-mini-low\n",
       "0     4.520202  0.686869  mSPRT (Ours)  GPQA Diamond / o3-mini-low"
      ]
     },
     "execution_count": 4,
     "metadata": {},
     "output_type": "execute_result"
    }
   ],
   "source": [
    "import random\n",
    "SEED = 42\n",
    "random.seed(SEED)\n",
    "\n",
    "df = pd.read_csv(\"../../data/gpqa_diamond.csv\")\n",
    "\n",
    "answer_columns = [\n",
    "    \"Correct Answer\",\n",
    "    \"Incorrect Answer 1\",\n",
    "    \"Incorrect Answer 2\",\n",
    "    \"Incorrect Answer 3\"\n",
    "]\n",
    "\n",
    "options_labels = [\"A\", \"B\", \"C\", \"D\"]\n",
    "\n",
    "formatted_questions = []\n",
    "correct_answers = []\n",
    "\n",
    "for _, row in df.iterrows():\n",
    "    shuffled_columns = random.sample(answer_columns, len(answer_columns))\n",
    "\n",
    "    shuffled_options = {opt: row[col] for opt, col in zip(options_labels, shuffled_columns)}\n",
    "\n",
    "    question_text = f\"Question: {row['Pre-Revision Question']}\\\\n\"\n",
    "    choices_text = \"\\\\n\".join([f\"{opt}. {shuffled_options[opt]}\" for opt in options_labels])\n",
    "    prompt_text = f\"{question_text}{choices_text}\"\n",
    "\n",
    "    correct_option = [opt for opt, col in zip(options_labels, shuffled_columns) if col == \"Correct Answer\"][0]\n",
    "\n",
    "    formatted_questions.append(prompt_text)\n",
    "    correct_answers.append(correct_option)\n",
    "\n",
    "gpqa_df = pd.DataFrame({\n",
    "    \"input\": formatted_questions,\n",
    "    \"target\": correct_answers\n",
    "})\n",
    "gpqa_df\n",
    "\n",
    "def get_model_problem_summary(globpath):\n",
    "    df = pd.concat([pd.read_csv(filepath, index_col=0).assign(id=int(filepath.split(\"/\")[-1].split('.')[0])) for filepath in sorted(glob.glob(globpath))]).reset_index(drop=True)\n",
    "    df2 = gpqa_df.target.to_frame()\n",
    "    df2['answer'] = df.groupby('id').answer.agg(lambda x: x.value_counts().index[0])\n",
    "    df2['trials'] = df.groupby('id').token_usage.count()\n",
    "    df2['token_usage'] = df.groupby('id').token_usage.sum()\n",
    "    # print(df2)\n",
    "    return df2\n",
    "\n",
    "def get_model_summary(df):\n",
    "    return pd.Series({\n",
    "        \"mean_trials\": df.trials.mean(),\n",
    "        \"accuracy\": (df.target == df.answer).mean(),\n",
    "    }).to_frame()\n",
    "\n",
    "\n",
    "gpqa_dfs = []\n",
    "gpqa_dfs += [get_model_summary(get_model_problem_summary(\"../../gpqa_diamond/gpqa_40_trail_multi_choice/*\")).T.assign(method=\"Self-Cons@40\", benchmark=\"GPQA Diamond / o3-mini-low\")]\n",
    "gpqa_dfs += [get_model_summary(get_model_problem_summary(\"../../gpqa_diamond/gpqa_bayesian_posterior_multi_choice/*\")).T.assign(method=\"Ada-Cons\", benchmark=\"GPQA Diamond / o3-mini-low\")]\n",
    "gpqa_dfs += [get_model_summary(get_model_problem_summary(\"../../gpqa_diamond/gpqa_msprt_multi_choice/*\")).T.assign(method=\"mSPRT (Ours)\", benchmark=\"GPQA Diamond / o3-mini-low\")]\n",
    "pd.concat(gpqa_dfs)\n"
   ]
  },
  {
   "cell_type": "code",
   "execution_count": null,
   "metadata": {},
   "outputs": [],
   "source": [
    "gsm_df = pd.read_json('../../data/gsm.jsonl', lines=True)\n",
    "\n",
    "def get_model_problem_summary(globpath):\n",
    "    df = pd.concat([pd.read_csv(filepath, index_col=0).assign(id=int(filepath.split(\"/\")[-1].split('.')[0])) for filepath in sorted(glob.glob(globpath))]).reset_index(drop=True)\n",
    "    df2 = gsm_df.target.to_frame()\n",
    "    df2['answer'] = df.groupby('id').answer.agg(lambda x: x.value_counts().index[0])\n",
    "    df2['trials'] = df.groupby('id').token_usage.count()\n",
    "    df2['token_usage'] = df.groupby('id').token_usage.sum()\n",
    "    # print(df2)\n",
    "    return df2\n",
    "\n",
    "def get_model_summary(df):\n",
    "    return pd.Series({\n",
    "        \"mean_trials\": df.trials.mean(),\n",
    "        \"accuracy\": (df.target == df.answer).mean(),\n",
    "    }).to_frame()\n",
    "\n",
    "\n",
    "gsm_dfs = []\n",
    "gsm_dfs += [get_model_summary(get_model_problem_summary(\"../../gsm/gpt4omini-gsm-vote/*\")).T.assign(method=\"Self-Cons@40\", benchmark=\"GSM / gpt-4o-mini\")]\n",
    "gsm_dfs += [get_model_summary(get_model_problem_summary(\"../../gsm/gpt4omini-gsm-bayesian/*\")).T.assign(method=\"Ada-Cons\", benchmark=\"GSM / gpt-4o-mini\")]\n",
    "gsm_dfs += [get_model_summary(get_model_problem_summary(\"../../gsm/gpt4omini-gsm-sprt-0510050947/*\")).T.assign(method=\"SPRT (Ours)\", benchmark=\"GSM / gpt-4o-mini\")]\n",
    "gsm_dfs += [get_model_summary(get_model_problem_summary(\"../../gsm/gpt4omini-gsm-msprt-25600509446/*\")).T.assign(method=\"mSPRT (Ours)\", benchmark=\"GSM / gpt-4o-mini\")]\n",
    "pd.concat(gsm_dfs)\n"
   ]
  },
  {
   "cell_type": "code",
   "execution_count": null,
   "metadata": {},
   "outputs": [],
   "source": []
  },
  {
   "cell_type": "code",
   "execution_count": null,
   "metadata": {},
   "outputs": [],
   "source": []
  },
  {
   "cell_type": "code",
   "execution_count": null,
   "metadata": {},
   "outputs": [],
   "source": []
  },
  {
   "cell_type": "code",
   "execution_count": null,
   "metadata": {},
   "outputs": [
    {
     "data": {
      "application/vnd.microsoft.datawrangler.viewer.v0+json": {
       "columns": [
        {
         "name": "Benchmark and LLM",
         "rawType": "object",
         "type": "string"
        },
        {
         "name": "('Num. Trials', 'Self-Cons@40')",
         "rawType": "float64",
         "type": "float"
        },
        {
         "name": "('Num. Trials', 'p-value')",
         "rawType": "float64",
         "type": "float"
        },
        {
         "name": "('Num. Trials', 'Ada-Cons')",
         "rawType": "float64",
         "type": "float"
        },
        {
         "name": "('Num. Trials', 'SPRT (Ours)')",
         "rawType": "float64",
         "type": "float"
        },
        {
         "name": "('Num. Trials', 'mSPRT (Ours)')",
         "rawType": "float64",
         "type": "float"
        },
        {
         "name": "('Accuracy', 'Self-Cons@40')",
         "rawType": "float64",
         "type": "float"
        },
        {
         "name": "('Accuracy', 'p-value')",
         "rawType": "float64",
         "type": "float"
        },
        {
         "name": "('Accuracy', 'Ada-Cons')",
         "rawType": "float64",
         "type": "float"
        },
        {
         "name": "('Accuracy', 'SPRT (Ours)')",
         "rawType": "float64",
         "type": "float"
        },
        {
         "name": "('Accuracy', 'mSPRT (Ours)')",
         "rawType": "float64",
         "type": "float"
        }
       ],
       "conversionMethod": "pd.DataFrame",
       "ref": "cbdaebff-4d9d-439f-a59d-2fc966376c71",
       "rows": [
        [
         "AIME24 / o3-mini-low",
         "40.0",
         "16.4",
         "16.266666666666666",
         "11.466666666666667",
         "11.366666666666667",
         "0.7",
         "0.7",
         "0.7",
         "0.8",
         "0.6333333333333333"
        ],
        [
         "AIME24 / o3-mini-medium",
         "40.0",
         "11.2",
         "10.366666666666667",
         "4.733333333333333",
         "6.5",
         "0.9",
         "0.9333333333333333",
         "0.9",
         "0.9",
         "0.9"
        ],
        [
         "AIME24 / o3-mini-high",
         "40.0",
         "9.733333333333333",
         "7.4",
         "4.133333333333334",
         "4.366666666666666",
         "0.9666666666666667",
         "0.9666666666666667",
         "0.9666666666666667",
         "0.9666666666666667",
         "0.9666666666666667"
        ],
        [
         "GPQA Diamond / o3-mini-low",
         "40.0",
         null,
         "8.878787878787879",
         null,
         "4.52020202020202",
         "0.6818181818181818",
         null,
         "0.6717171717171717",
         null,
         "0.6868686868686869"
        ],
        [
         "GSM / gpt-4o-mini",
         "40.0",
         null,
         "6.399545109931767",
         "4.24109173616376",
         "4.1235784685367705",
         "0.9416224412433661",
         null,
         "0.9416224412433661",
         "0.9378316906747536",
         "0.9363153904473086"
        ]
       ],
       "shape": {
        "columns": 10,
        "rows": 5
       }
      },
      "text/html": [
       "<div>\n",
       "<style scoped>\n",
       "    .dataframe tbody tr th:only-of-type {\n",
       "        vertical-align: middle;\n",
       "    }\n",
       "\n",
       "    .dataframe tbody tr th {\n",
       "        vertical-align: top;\n",
       "    }\n",
       "\n",
       "    .dataframe thead tr th {\n",
       "        text-align: left;\n",
       "    }\n",
       "\n",
       "    .dataframe thead tr:last-of-type th {\n",
       "        text-align: right;\n",
       "    }\n",
       "</style>\n",
       "<table border=\"1\" class=\"dataframe\">\n",
       "  <thead>\n",
       "    <tr>\n",
       "      <th></th>\n",
       "      <th colspan=\"5\" halign=\"left\">Num. Trials</th>\n",
       "      <th colspan=\"5\" halign=\"left\">Accuracy</th>\n",
       "    </tr>\n",
       "    <tr>\n",
       "      <th>Method</th>\n",
       "      <th>Self-Cons@40</th>\n",
       "      <th>p-value</th>\n",
       "      <th>Ada-Cons</th>\n",
       "      <th>SPRT (Ours)</th>\n",
       "      <th>mSPRT (Ours)</th>\n",
       "      <th>Self-Cons@40</th>\n",
       "      <th>p-value</th>\n",
       "      <th>Ada-Cons</th>\n",
       "      <th>SPRT (Ours)</th>\n",
       "      <th>mSPRT (Ours)</th>\n",
       "    </tr>\n",
       "    <tr>\n",
       "      <th>Benchmark and LLM</th>\n",
       "      <th></th>\n",
       "      <th></th>\n",
       "      <th></th>\n",
       "      <th></th>\n",
       "      <th></th>\n",
       "      <th></th>\n",
       "      <th></th>\n",
       "      <th></th>\n",
       "      <th></th>\n",
       "      <th></th>\n",
       "    </tr>\n",
       "  </thead>\n",
       "  <tbody>\n",
       "    <tr>\n",
       "      <th>AIME24 / o3-mini-low</th>\n",
       "      <td>40.0</td>\n",
       "      <td>16.400000</td>\n",
       "      <td>16.266667</td>\n",
       "      <td>11.466667</td>\n",
       "      <td>11.366667</td>\n",
       "      <td>0.700000</td>\n",
       "      <td>0.700000</td>\n",
       "      <td>0.700000</td>\n",
       "      <td>0.800000</td>\n",
       "      <td>0.633333</td>\n",
       "    </tr>\n",
       "    <tr>\n",
       "      <th>AIME24 / o3-mini-medium</th>\n",
       "      <td>40.0</td>\n",
       "      <td>11.200000</td>\n",
       "      <td>10.366667</td>\n",
       "      <td>4.733333</td>\n",
       "      <td>6.500000</td>\n",
       "      <td>0.900000</td>\n",
       "      <td>0.933333</td>\n",
       "      <td>0.900000</td>\n",
       "      <td>0.900000</td>\n",
       "      <td>0.900000</td>\n",
       "    </tr>\n",
       "    <tr>\n",
       "      <th>AIME24 / o3-mini-high</th>\n",
       "      <td>40.0</td>\n",
       "      <td>9.733333</td>\n",
       "      <td>7.400000</td>\n",
       "      <td>4.133333</td>\n",
       "      <td>4.366667</td>\n",
       "      <td>0.966667</td>\n",
       "      <td>0.966667</td>\n",
       "      <td>0.966667</td>\n",
       "      <td>0.966667</td>\n",
       "      <td>0.966667</td>\n",
       "    </tr>\n",
       "    <tr>\n",
       "      <th>GPQA Diamond / o3-mini-low</th>\n",
       "      <td>40.0</td>\n",
       "      <td>NaN</td>\n",
       "      <td>8.878788</td>\n",
       "      <td>NaN</td>\n",
       "      <td>4.520202</td>\n",
       "      <td>0.681818</td>\n",
       "      <td>NaN</td>\n",
       "      <td>0.671717</td>\n",
       "      <td>NaN</td>\n",
       "      <td>0.686869</td>\n",
       "    </tr>\n",
       "    <tr>\n",
       "      <th>GSM / gpt-4o-mini</th>\n",
       "      <td>40.0</td>\n",
       "      <td>NaN</td>\n",
       "      <td>6.399545</td>\n",
       "      <td>4.241092</td>\n",
       "      <td>4.123578</td>\n",
       "      <td>0.941622</td>\n",
       "      <td>NaN</td>\n",
       "      <td>0.941622</td>\n",
       "      <td>0.937832</td>\n",
       "      <td>0.936315</td>\n",
       "    </tr>\n",
       "  </tbody>\n",
       "</table>\n",
       "</div>"
      ],
      "text/plain": [
       "                            Num. Trials                                    \\\n",
       "Method                     Self-Cons@40    p-value   Ada-Cons SPRT (Ours)   \n",
       "Benchmark and LLM                                                           \n",
       "AIME24 / o3-mini-low               40.0  16.400000  16.266667   11.466667   \n",
       "AIME24 / o3-mini-medium            40.0  11.200000  10.366667    4.733333   \n",
       "AIME24 / o3-mini-high              40.0   9.733333   7.400000    4.133333   \n",
       "GPQA Diamond / o3-mini-low         40.0        NaN   8.878788         NaN   \n",
       "GSM / gpt-4o-mini                  40.0        NaN   6.399545    4.241092   \n",
       "\n",
       "                                            Accuracy                      \\\n",
       "Method                     mSPRT (Ours) Self-Cons@40   p-value  Ada-Cons   \n",
       "Benchmark and LLM                                                          \n",
       "AIME24 / o3-mini-low          11.366667     0.700000  0.700000  0.700000   \n",
       "AIME24 / o3-mini-medium        6.500000     0.900000  0.933333  0.900000   \n",
       "AIME24 / o3-mini-high          4.366667     0.966667  0.966667  0.966667   \n",
       "GPQA Diamond / o3-mini-low     4.520202     0.681818       NaN  0.671717   \n",
       "GSM / gpt-4o-mini              4.123578     0.941622       NaN  0.941622   \n",
       "\n",
       "                                                     \n",
       "Method                     SPRT (Ours) mSPRT (Ours)  \n",
       "Benchmark and LLM                                    \n",
       "AIME24 / o3-mini-low          0.800000     0.633333  \n",
       "AIME24 / o3-mini-medium       0.900000     0.900000  \n",
       "AIME24 / o3-mini-high         0.966667     0.966667  \n",
       "GPQA Diamond / o3-mini-low         NaN     0.686869  \n",
       "GSM / gpt-4o-mini             0.937832     0.936315  "
      ]
     },
     "execution_count": 19,
     "metadata": {},
     "output_type": "execute_result"
    }
   ],
   "source": [
    "df2 = pd.concat(aime_dfs + gpqa_dfs + gsm_dfs).pivot_table(values=[\"accuracy\", \"mean_trials\"], columns=\"method\", index=\"benchmark\", sort=False)\n",
    "df2 = df2.rename(columns={\"accuracy\": \"Accuracy\", \"mean_trials\": \"Num. Trials\"})\n",
    "df2.index = df2.index.set_names(\"Benchmark and LLM\")\n",
    "df2.columns = df2.columns.set_names([None, \"Method\"])\n",
    "df2"
   ]
  },
  {
   "cell_type": "code",
   "execution_count": null,
   "metadata": {},
   "outputs": [
    {
     "name": "stdout",
     "output_type": "stream",
     "text": [
      "\\begin{tabular}{lrrrrr}\n",
      "\\toprule\n",
      "Method & Self-Cons@40 & p-value & Ada-Cons & SPRT (Ours) & mSPRT (Ours) \\\\\n",
      "Benchmark and LLM &  &  &  &  &  \\\\\n",
      "\\midrule\n",
      "AIME24 / o3-mini-low & 70.0\\% & 70.0\\% & 70.0\\% & 80.0\\% & 63.3\\% \\\\\n",
      "AIME24 / o3-mini-medium & 90.0\\% & 93.3\\% & 90.0\\% & 90.0\\% & 90.0\\% \\\\\n",
      "AIME24 / o3-mini-high & 96.7\\% & 96.7\\% & 96.7\\% & 96.7\\% & 96.7\\% \\\\\n",
      "GPQA Diamond / o3-mini-low & 68.2\\% & NaN & 67.2\\% & NaN & 68.7\\% \\\\\n",
      "GSM / gpt-4o-mini & 94.2\\% & NaN & 94.2\\% & 93.8\\% & 93.6\\% \\\\\n",
      "\\bottomrule\n",
      "\\end{tabular}\n",
      "\n",
      "\\begin{tabular}{lrrrrr}\n",
      "\\toprule\n",
      "Method & Self-Cons@40 & p-value & Ada-Cons & SPRT (Ours) & mSPRT (Ours) \\\\\n",
      "Benchmark and LLM &  &  &  &  &  \\\\\n",
      "\\midrule\n",
      "AIME24 / o3-mini-low & 40.00 & 16.40 & 16.27 & 11.47 & 11.37 \\\\\n",
      "AIME24 / o3-mini-medium & 40.00 & 11.20 & 10.37 & 4.73 & 6.50 \\\\\n",
      "AIME24 / o3-mini-high & 40.00 & 9.73 & 7.40 & 4.13 & 4.37 \\\\\n",
      "GPQA Diamond / o3-mini-low & 40.00 & NaN & 8.88 & NaN & 4.52 \\\\\n",
      "GSM / gpt-4o-mini & 40.00 & NaN & 6.40 & 4.24 & 4.12 \\\\\n",
      "\\bottomrule\n",
      "\\end{tabular}\n",
      "\n"
     ]
    }
   ],
   "source": [
    "print((df2[\"Accuracy\"]*100).to_latex(float_format=\"%.1f\\\\%%\"))\n",
    "print(df2[\"Num. Trials\"].to_latex(float_format=\"%.2f\"))"
   ]
  },
  {
   "cell_type": "markdown",
   "metadata": {},
   "source": [
    "> **Note**: Copy the above result and put \\bf to the remark our result."
   ]
  },
  {
   "cell_type": "code",
   "execution_count": null,
   "metadata": {},
   "outputs": [],
   "source": []
  },
  {
   "cell_type": "code",
   "execution_count": null,
   "metadata": {},
   "outputs": [],
   "source": []
  }
 ],
 "metadata": {
  "kernelspec": {
   "display_name": "base",
   "language": "python",
   "name": "python3"
  },
  "language_info": {
   "codemirror_mode": {
    "name": "ipython",
    "version": 3
   },
   "file_extension": ".py",
   "mimetype": "text/x-python",
   "name": "python",
   "nbconvert_exporter": "python",
   "pygments_lexer": "ipython3",
   "version": "3.11.5"
  }
 },
 "nbformat": 4,
 "nbformat_minor": 2
}
