{
 "cells": [
  {
   "cell_type": "code",
   "execution_count": 7,
   "metadata": {},
   "outputs": [],
   "source": [
    "import pandas as pd\n",
    "df = pd.read_json('./resources/data/medqa.jsonl', lines=True)\n",
    "\n",
    "instruction_text = 'Tell me the given answer to the question below is correct or not. Tell me as 1 or 0. 1 means correct, 0 means incorrect.'\n",
    "\n",
    "formatted_question = []\n",
    "\n",
    "answer_number = []\n",
    "for i, row in df.iterrows():\n",
    "    q = row['question']\n",
    "    for k, v in row['options'].items():\n",
    "        formatted_question.append(\n",
    "            f'**{instruction_text}**\\\\n\\\\n{q}\\\\n\\\\n\\\\n\\\\nAnswer: {v}'\n",
    "        ) \n",
    "        answer_number.append(1 if v.strip().lower() == row['answer'].strip().lower() else 0)\n",
    "            \n",
    "df = pd.DataFrame({\n",
    "    \"input\": formatted_question,\n",
    "    \"target\": answer_number\n",
    "})"
   ]
  },
  {
   "cell_type": "code",
   "execution_count": 9,
   "metadata": {},
   "outputs": [
    {
     "name": "stdout",
     "output_type": "stream",
     "text": [
      "**Tell me the given answer to the question below is correct or not. Tell me as 1 or 0. 1 means correct, 0 means incorrect.**\n",
      "A junior orthopaedic surgery resident is completing a carpal tunnel repair with the department chairman as the attending physician. During the case, the resident inadvertently cuts a flexor tendon. The tendon is repaired without complication. The attending tells the resident that the patient will do fine, and there is no need to report this minor complication that will not harm the patient, as he does not want to make the patient worry unnecessarily. He tells the resident to leave this complication out of the operative report. Which of the following is the correct next action for the resident to take?\n",
      "\n",
      "Answer: Disclose the error to the patient but leave it out of the operative report\n"
     ]
    }
   ],
   "source": [
    "print(df[\"input\"][0].replace(\"\\\\n\\\\n\", \"\\n\"))"
   ]
  },
  {
   "cell_type": "code",
   "execution_count": null,
   "metadata": {},
   "outputs": [],
   "source": []
  }
 ],
 "metadata": {
  "kernelspec": {
   "display_name": "pytorch",
   "language": "python",
   "name": "python3"
  },
  "language_info": {
   "codemirror_mode": {
    "name": "ipython",
    "version": 3
   },
   "file_extension": ".py",
   "mimetype": "text/x-python",
   "name": "python",
   "nbconvert_exporter": "python",
   "pygments_lexer": "ipython3",
   "version": "3.12.8"
  }
 },
 "nbformat": 4,
 "nbformat_minor": 2
}
