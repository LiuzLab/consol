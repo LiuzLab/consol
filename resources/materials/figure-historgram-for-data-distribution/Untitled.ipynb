{
 "cells": [
  {
   "cell_type": "code",
   "execution_count": null,
   "metadata": {},
   "outputs": [],
   "source": [
    "import glob\n",
    "import pandas as pd\n",
    "import seaborn as sns\n",
    "import numpy as np\n",
    "import re\n",
    "import matplotlib.pyplot as plt\n"
   ]
  },
  {
   "cell_type": "code",
   "execution_count": null,
   "metadata": {},
   "outputs": [],
   "source": [
    "\n",
    "def sort_key(file_name):\n",
    "    match = re.search(r'(\\d+)\\.csv$', file_name)\n",
    "    return int(match.group(1)) if match else -1\n",
    "\n",
    "def process_folder(folder_path):\n",
    "    csv_files = sorted(glob.glob(f\"{folder_path}/*.csv\"), key=sort_key)\n",
    "    results = []\n",
    "\n",
    "    for csv in csv_files:\n",
    "        df = pd.read_csv(csv)\n",
    "        unique_answers = df['answer'].nunique()\n",
    "        value_counts = df['answer'].value_counts(normalize=True)\n",
    "        p_max = value_counts.max()\n",
    "        p_second = value_counts.nlargest(2).iloc[1] if len(value_counts) > 1 else 0\n",
    "        entropy = -(value_counts * np.log2(value_counts)).sum()\n",
    "        file_index = int(re.search(r'(\\d+)\\.csv$', csv).group(1))\n",
    "        results.append({'file_index': file_index, 'unique_answers': unique_answers, 'p_max': p_max, 'p_second': p_second, 'entropy': entropy})\n",
    "\n",
    "    results_df = pd.DataFrame(results)\n",
    "    return results_df\n",
    "\n",
    "# Process each folder\n",
    "folders = [\"../../aime24/o3minilow-aime24-vote\", \"../../aime24/o3minimedium-aime24-vote\", \"../../aime24/o3minihigh-aime24-vote\"]\n",
    "all_results = []\n",
    "\n",
    "for folder in folders:\n",
    "    folder_results = process_folder(folder)\n",
    "    folder_results['model'] = folder.split('/')[-1]\n",
    "    all_results.append(folder_results)\n",
    "\n",
    "# Combine all results into a single dataframe\n",
    "combined_results_df = pd.concat(all_results, ignore_index=True)\n",
    "\n",
    "# Plot the results\n",
    "plt.figure(figsize=(18, 12))\n",
    "plt.suptitle('Distribution of Probabilities and Entropy for Different Models', fontsize=16)\n",
    "\n",
    "for i, model in enumerate(folders):\n",
    "    model_name = model.split('/')[-1]\n",
    "    model_df = combined_results_df[combined_results_df['model'] == model_name]\n",
    "\n",
    "    model_name2 = {\n",
    "        \"o3minilow\": \"AIME24 / o3-mini-low\",\n",
    "        \"o3minimedium\": \"AIME24 / o3-mini-medium\",\n",
    "        \"o3minihigh\": \"AIME24 / o3-mini-high\",\n",
    "    }[model_name.split('-')[0]]\n",
    "\n",
    "    plt.subplot(3, 3, 3*i + 1)\n",
    "    sns.histplot(model_df['p_max'], kde=True, binrange=(0, 1), bins=16)\n",
    "    plt.xlabel(\"p_1\")\n",
    "    plt.title(model_name2)\n",
    "\n",
    "    plt.subplot(3, 3, 3*i + 2)\n",
    "    sns.histplot(model_df['p_max'] / ( model_df['p_max'] + model_df['p_second'] ), kde=True, binrange=(0.5, 1), bins=16)\n",
    "    plt.xlabel(\"p_1 / (p_1 + p_2)\")\n",
    "    plt.title(model_name2)\n",
    "\n",
    "    plt.subplot(3, 3, 3*i + 3)\n",
    "    sns.histplot(model_df['entropy'], kde=True, bins=16)\n",
    "    plt.title(model_name2)\n",
    "\n",
    "plt.tight_layout()\n",
    "plt.savefig(\"./Untitled.pdf\")\n",
    "plt.show()\n"
   ]
  },
  {
   "cell_type": "code",
   "execution_count": null,
   "metadata": {},
   "outputs": [],
   "source": [
    "print(\"\"\"\n",
    "Figure X. Distribution of probabilities and entropy for Open AI o3-mini reasoning models' responses.\n",
    "We can observe most of p_1 is over 0.5, which means only one response dominates the others, and this tendency becomes evident when we are using stronger models comparing to the difficulty of benchmark. (Left).\n",
    "The ratio beween p_1 to p_2 is skewed to the right, some of them .... (Middle)\n",
    "\n",
    "Note the distribution is drawn with 40 samples.\n",
    "\"\"\".strip())"
   ]
  },
  {
   "cell_type": "markdown",
   "metadata": {},
   "source": []
  },
  {
   "cell_type": "code",
   "execution_count": null,
   "metadata": {},
   "outputs": [],
   "source": []
  }
 ],
 "metadata": {
  "kernelspec": {
   "display_name": "base",
   "language": "python",
   "name": "python3"
  },
  "language_info": {
   "codemirror_mode": {
    "name": "ipython",
    "version": 3
   },
   "file_extension": ".py",
   "mimetype": "text/x-python",
   "name": "python",
   "nbconvert_exporter": "python",
   "pygments_lexer": "ipython3",
   "version": "3.11.5"
  }
 },
 "nbformat": 4,
 "nbformat_minor": 2
}
