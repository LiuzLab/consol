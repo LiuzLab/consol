{
 "cells": [
  {
   "cell_type": "code",
   "execution_count": 1,
   "metadata": {},
   "outputs": [],
   "source": [
    "import pandas as pd\n",
    "import glob\n",
    "import os\n",
    "\n",
    "paths = [\n",
    "    \"resources/aime24/o3minilow-aime24-sprt-050010050949976\",\n",
    "    \"resources/aime24/o3minilow-aime24-msprt-1e61e6005094994-3\",\n",
    "    \"resources/aime24/o3minimedium-aime24-sprt-050010050949976\",\n",
    "    \"resources/aime24/o3minimedium-aime24-msprt-1e61e6005094994\",\n",
    "    \"resources/aime24/o3minihigh-aime24-sprt-050010050949976\",\n",
    "    \"resources/aime24/o3minihigh-aime24-msprt-1e61e6005094994\"\n",
    "]"
   ]
  },
  {
   "cell_type": "code",
   "execution_count": 2,
   "metadata": {},
   "outputs": [
    {
     "name": "stderr",
     "output_type": "stream",
     "text": [
      "/Users/hyun-hwanjeong/miniforge3/envs/pytorch/lib/python3.12/site-packages/tqdm/auto.py:21: TqdmWarning: IProgress not found. Please update jupyter and ipywidgets. See https://ipywidgets.readthedocs.io/en/stable/user_install.html\n",
      "  from .autonotebook import tqdm as notebook_tqdm\n"
     ]
    }
   ],
   "source": [
    "from consol.confident_solver import *"
   ]
  },
  {
   "cell_type": "code",
   "execution_count": 3,
   "metadata": {},
   "outputs": [],
   "source": [
    "solver = ConfidentSolver(llm_model=\"o3-mini-low\", confidence_model=\"msprt\", output_schema=\"float\")\n"
   ]
  },
  {
   "cell_type": "code",
   "execution_count": 4,
   "metadata": {},
   "outputs": [],
   "source": [
    "from itertools import cycle\n",
    "def _get_messages(msg):\n",
    "    for x in msg:\n",
    "        yield x\n",
    "\n",
    "def _get_top_two_answers(total_outputs):\n",
    "    total_ss = pd.Series(total_outputs).value_counts()\n",
    "    two = total_ss.sort_values(ascending=False).head(2).to_list()\n",
    "    while len(two) < 2:\n",
    "        two += [0]\n",
    "    return two[0], two[1]\n",
    "\n",
    "def _determine_trials(solver, first, second, max_trials, current_trials):\n",
    "    for trials in range(0, max_trials + 1):\n",
    "        if first + trials == 0:\n",
    "            continue\n",
    "        if solver.confidence_model.test(first + trials, second):\n",
    "            break\n",
    "    if trials >= max_trials - current_trials:\n",
    "        trials = max_trials - current_trials\n",
    "    return trials\n",
    "\n",
    "def _collect_raw_outputs(trials, func_msg):\n",
    "    raw_outputs = []\n",
    "    while len(raw_outputs) < trials:\n",
    "        k = trials - len(raw_outputs)\n",
    "        partial_raw_outputs = [next(func_msg) for i in range(k)]\n",
    "        raw_outputs += partial_raw_outputs\n",
    "    return raw_outputs\n",
    "\n",
    "\n",
    "def invoke(solver, messages):\n",
    "    num_turns = 0\n",
    "    max_trials = solver.confidence_model.config.max_trials\n",
    "    total_raw_outputs = []\n",
    "    msg_func = _get_messages(messages)\n",
    "    while True:\n",
    "        num_turns += 1\n",
    "        # print(total_raw_outputs)\n",
    "        first, second = _get_top_two_answers(total_raw_outputs)\n",
    "        trials = _determine_trials(solver, first, second, max_trials, len(total_raw_outputs))\n",
    "        if trials == 0:\n",
    "            break\n",
    "        raw_outputs = _collect_raw_outputs(trials, msg_func)\n",
    "        total_raw_outputs += raw_outputs\n",
    "    \n",
    "    assert None == next(msg_func, None)  # Print the last message\n",
    "    return num_turns\n"
   ]
  },
  {
   "cell_type": "code",
   "execution_count": 6,
   "metadata": {},
   "outputs": [],
   "source": [
    " \n",
    "solver = ConfidentSolver(llm_model=\"o3-mini-low\", confidence_model=\"msprt\", output_schema=\"float\")\n",
    "\n",
    "df = []\n",
    "for path in paths:\n",
    "    run = path.split(\"/\")[-1]\n",
    "\n",
    "    model = \"msprt\" if \"msprt\" in run else \"sprt\"\n",
    "    solver = ConfidentSolver(llm_model=\"o3-mini-low\", confidence_model=model, output_schema=\"float\")\n",
    "    path = os.path.join(\"../../..\", path, \"*.csv\")\n",
    "    result_files = glob.glob(path)\n",
    "    solver = ConfidentSolver(llm_model=\"o3-mini-low\", confidence_model=\"msprt\", output_schema=\"float\")\n",
    "    total_turns = [invoke(solver, pd.read_csv(f, index_col=0).answer) for f in result_files]\n",
    "    df.append(pd.DataFrame({\n",
    "        \"run\": run,\n",
    "        \"model\": model,\n",
    "        \"total_turns\": total_turns\n",
    "    }))"
   ]
  },
  {
   "cell_type": "code",
   "execution_count": 8,
   "metadata": {},
   "outputs": [
    {
     "data": {
      "application/vnd.microsoft.datawrangler.viewer.v0+json": {
       "columns": [
        {
         "name": "run",
         "rawType": "object",
         "type": "string"
        },
        {
         "name": "('total_turns', 'mean')",
         "rawType": "float64",
         "type": "float"
        },
        {
         "name": "('total_turns', 'std')",
         "rawType": "float64",
         "type": "float"
        }
       ],
       "conversionMethod": "pd.DataFrame",
       "ref": "3b9cece2-efee-458f-b6a5-04c5d485ff54",
       "rows": [
        [
         "o3minihigh-aime24-msprt-1e61e6005094994",
         "2.6666666666666665",
         "1.844532149509656"
        ],
        [
         "o3minihigh-aime24-sprt-050010050949976",
         "2.6",
         "1.2484473115254693"
        ],
        [
         "o3minilow-aime24-msprt-1e61e6005094994-3",
         "7.733333333333333",
         "11.67648191387532"
        ],
        [
         "o3minilow-aime24-sprt-050010050949976",
         "6.066666666666666",
         "8.349822766375647"
        ],
        [
         "o3minimedium-aime24-msprt-1e61e6005094994",
         "3.8333333333333335",
         "4.026492726699121"
        ],
        [
         "o3minimedium-aime24-sprt-050010050949976",
         "3.0",
         "1.8569533817705186"
        ]
       ],
       "shape": {
        "columns": 2,
        "rows": 6
       }
      },
      "text/html": [
       "<div>\n",
       "<style scoped>\n",
       "    .dataframe tbody tr th:only-of-type {\n",
       "        vertical-align: middle;\n",
       "    }\n",
       "\n",
       "    .dataframe tbody tr th {\n",
       "        vertical-align: top;\n",
       "    }\n",
       "\n",
       "    .dataframe thead tr th {\n",
       "        text-align: left;\n",
       "    }\n",
       "\n",
       "    .dataframe thead tr:last-of-type th {\n",
       "        text-align: right;\n",
       "    }\n",
       "</style>\n",
       "<table border=\"1\" class=\"dataframe\">\n",
       "  <thead>\n",
       "    <tr>\n",
       "      <th></th>\n",
       "      <th colspan=\"2\" halign=\"left\">total_turns</th>\n",
       "    </tr>\n",
       "    <tr>\n",
       "      <th></th>\n",
       "      <th>mean</th>\n",
       "      <th>std</th>\n",
       "    </tr>\n",
       "    <tr>\n",
       "      <th>run</th>\n",
       "      <th></th>\n",
       "      <th></th>\n",
       "    </tr>\n",
       "  </thead>\n",
       "  <tbody>\n",
       "    <tr>\n",
       "      <th>o3minihigh-aime24-msprt-1e61e6005094994</th>\n",
       "      <td>2.666667</td>\n",
       "      <td>1.844532</td>\n",
       "    </tr>\n",
       "    <tr>\n",
       "      <th>o3minihigh-aime24-sprt-050010050949976</th>\n",
       "      <td>2.600000</td>\n",
       "      <td>1.248447</td>\n",
       "    </tr>\n",
       "    <tr>\n",
       "      <th>o3minilow-aime24-msprt-1e61e6005094994-3</th>\n",
       "      <td>7.733333</td>\n",
       "      <td>11.676482</td>\n",
       "    </tr>\n",
       "    <tr>\n",
       "      <th>o3minilow-aime24-sprt-050010050949976</th>\n",
       "      <td>6.066667</td>\n",
       "      <td>8.349823</td>\n",
       "    </tr>\n",
       "    <tr>\n",
       "      <th>o3minimedium-aime24-msprt-1e61e6005094994</th>\n",
       "      <td>3.833333</td>\n",
       "      <td>4.026493</td>\n",
       "    </tr>\n",
       "    <tr>\n",
       "      <th>o3minimedium-aime24-sprt-050010050949976</th>\n",
       "      <td>3.000000</td>\n",
       "      <td>1.856953</td>\n",
       "    </tr>\n",
       "  </tbody>\n",
       "</table>\n",
       "</div>"
      ],
      "text/plain": [
       "                                          total_turns           \n",
       "                                                 mean        std\n",
       "run                                                             \n",
       "o3minihigh-aime24-msprt-1e61e6005094994      2.666667   1.844532\n",
       "o3minihigh-aime24-sprt-050010050949976       2.600000   1.248447\n",
       "o3minilow-aime24-msprt-1e61e6005094994-3     7.733333  11.676482\n",
       "o3minilow-aime24-sprt-050010050949976        6.066667   8.349823\n",
       "o3minimedium-aime24-msprt-1e61e6005094994    3.833333   4.026493\n",
       "o3minimedium-aime24-sprt-050010050949976     3.000000   1.856953"
      ]
     },
     "execution_count": 8,
     "metadata": {},
     "output_type": "execute_result"
    }
   ],
   "source": [
    "pd.concat(df).groupby([\"run\"]).agg({\"total_turns\": [\"mean\", \"std\"]})"
   ]
  },
  {
   "cell_type": "code",
   "execution_count": 9,
   "metadata": {},
   "outputs": [],
   "source": [
    "import seaborn as sns\n",
    "import matplotlib.pyplot as plt"
   ]
  },
  {
   "cell_type": "code",
   "execution_count": 25,
   "metadata": {},
   "outputs": [
    {
     "name": "stderr",
     "output_type": "stream",
     "text": [
      "/var/folders/7y/fy_b33wn4jjcvgnn60w2l_xc0000gn/T/ipykernel_37590/3704445201.py:19: FutureWarning: \n",
      "\n",
      "Setting a gradient palette using color= is deprecated and will be removed in v0.14.0. Set `palette='dark:black'` for the same effect.\n",
      "\n",
      "  sns.stripplot(\n"
     ]
    },
    {
     "data": {
      "image/png": "[encoded data removed]",
      "text/plain": [
       "<Figure size 640x480 with 1 Axes>"
      ]
     },
     "metadata": {},
     "output_type": "display_data"
    }
   ],
   "source": [
    "import re\n",
    "\n",
    "# Combine the list of DataFrames\n",
    "df_concat = pd.concat(df)\n",
    "\n",
    "# Process the run labels:\n",
    "# 1. Remove \"-aime24\"\n",
    "df_concat[\"run\"] = df_concat[\"run\"].str.replace(\"-aime24\", \"\", regex=False)\n",
    "df_concat[\"run\"] = df_concat[\"run\"].str.replace(\"o3mini\", \"o3-mini-\", regex=False)\n",
    "# 2. Remove the numbers (and any extra characters) after \"sprt\" or \"msprt\"\n",
    "df_concat[\"run\"] = df_concat[\"run\"].str.replace(r\"(-(?:m)?sprt).*\", r\"\\1\", regex=True)\n",
    "\n",
    "# Create the boxplot without fliers\n",
    "ax = sns.boxplot(\n",
    "    data=df_concat, y=\"run\", x=\"total_turns\", hue=\"model\", showfliers=False\n",
    ")\n",
    "\n",
    "# Overlay with jittered points\n",
    "sns.stripplot(\n",
    "    data=df_concat,\n",
    "    y=\"run\",\n",
    "    x=\"total_turns\",\n",
    "    hue=\"model\",\n",
    "    jitter=True,\n",
    "    dodge=True,\n",
    "    marker=\"o\",\n",
    "    color=\"black\",\n",
    "    alpha=0.5,\n",
    ")\n",
    "\n",
    "# Remove duplicate legends\n",
    "handles, labels = ax.get_legend_handles_labels()\n",
    "plt.legend(handles[0:len(handles)//2], labels[0:len(labels)//2])\n",
    "plt.xlabel(\"Total Turns (AIME24)\")\n",
    "plt.ylabel(\"Runs\")\n",
    "\n",
    "plt.savefig(\"total_turns.pdf\", bbox_inches='tight')\n",
    "plt.show()\n"
   ]
  },
  {
   "cell_type": "code",
   "execution_count": null,
   "metadata": {},
   "outputs": [],
   "source": []
  }
 ],
 "metadata": {
  "kernelspec": {
   "display_name": "pytorch",
   "language": "python",
   "name": "python3"
  },
  "language_info": {
   "codemirror_mode": {
    "name": "ipython",
    "version": 3
   },
   "file_extension": ".py",
   "mimetype": "text/x-python",
   "name": "python",
   "nbconvert_exporter": "python",
   "pygments_lexer": "ipython3",
   "version": "3.12.8"
  }
 },
 "nbformat": 4,
 "nbformat_minor": 2
}
