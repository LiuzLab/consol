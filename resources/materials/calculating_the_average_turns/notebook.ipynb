{
 "cells": [
  {
   "cell_type": "code",
   "execution_count": 1,
   "metadata": {},
   "outputs": [],
   "source": [
    "import pandas as pd\n",
    "import glob\n",
    "import os\n",
    "\n",
    "paths = [\n",
    "    \"resources/aime24/o3minilow-aime24-sprt-050010050949976\",\n",
    "    \"resources/aime24/o3minilow-aime24-msprt-1e61e6005094994-3\",\n",
    "    \"resources/aime24/o3minimedium-aime24-sprt-050010050949976\",\n",
    "    \"resources/aime24/o3minimedium-aime24-msprt-1e61e6005094994\",\n",
    "    \"resources/aime24/o3minihigh-aime24-sprt-050010050949976\",\n",
    "    \"resources/aime24/o3minihigh-aime24-msprt-1e61e6005094994\"\n",
    "]"
   ]
  },
  {
   "cell_type": "code",
   "execution_count": 2,
   "metadata": {},
   "outputs": [
    {
     "name": "stderr",
     "output_type": "stream",
     "text": [
      "/Users/hyun-hwanjeong/miniforge3/envs/pytorch/lib/python3.12/site-packages/tqdm/auto.py:21: TqdmWarning: IProgress not found. Please update jupyter and ipywidgets. See https://ipywidgets.readthedocs.io/en/stable/user_install.html\n",
      "  from .autonotebook import tqdm as notebook_tqdm\n"
     ]
    }
   ],
   "source": [
    "from consol.confident_solver import *"
   ]
  },
  {
   "cell_type": "code",
   "execution_count": 3,
   "metadata": {},
   "outputs": [],
   "source": [
    "solver = ConfidentSolver(llm_model=\"o3-mini-low\", confidence_model=\"msprt\", output_schema=\"float\")\n"
   ]
  },
  {
   "cell_type": "code",
   "execution_count": 35,
   "metadata": {},
   "outputs": [],
   "source": [
    "from itertools import cycle\n",
    "def _get_messages(msg):\n",
    "    for x in msg:\n",
    "        yield x\n",
    "\n",
    "def _get_top_two_answers(total_outputs):\n",
    "    total_ss = pd.Series(total_outputs).value_counts()\n",
    "    two = total_ss.sort_values(ascending=False).head(2).to_list()\n",
    "    while len(two) < 2:\n",
    "        two += [0]\n",
    "    return two[0], two[1]\n",
    "\n",
    "def _determine_trials(solver, first, second, max_trials, current_trials):\n",
    "    for trials in range(0, max_trials + 1):\n",
    "        if first + trials == 0:\n",
    "            continue\n",
    "        if solver.confidence_model.test(first + trials, second):\n",
    "            break\n",
    "    if trials >= max_trials - current_trials:\n",
    "        trials = max_trials - current_trials\n",
    "    return trials\n",
    "\n",
    "def _collect_raw_outputs(trials, func_msg):\n",
    "    raw_outputs = []\n",
    "    while len(raw_outputs) < trials:\n",
    "        k = trials - len(raw_outputs)\n",
    "        partial_raw_outputs = [next(func_msg) for i in range(k)]\n",
    "        raw_outputs += partial_raw_outputs\n",
    "    return raw_outputs\n",
    "\n",
    "\n",
    "def invoke(solver, messages):\n",
    "    num_turns = 0\n",
    "    max_trials = solver.confidence_model.config.max_trials\n",
    "    total_raw_outputs = []\n",
    "    msg_func = _get_messages(messages)\n",
    "    all_turns = []\n",
    "    while True:\n",
    "        # print(total_raw_outputs)\n",
    "        first, second = _get_top_two_answers(total_raw_outputs)\n",
    "        trials = _determine_trials(solver, first, second, max_trials, len(total_raw_outputs))\n",
    "        if trials == 0:\n",
    "            break\n",
    "        raw_outputs = _collect_raw_outputs(trials, msg_func)\n",
    "        num_turns += 1\n",
    "\n",
    "        all_turns.append(len(raw_outputs))\n",
    "        total_raw_outputs += raw_outputs\n",
    "    \n",
    "    assert None == next(msg_func, None)  # Print the last message\n",
    "\n",
    "    assert len(all_turns) ==  num_turns\n",
    "    return sum(all_turns) / len(all_turns)\n"
   ]
  },
  {
   "cell_type": "code",
   "execution_count": 36,
   "metadata": {},
   "outputs": [],
   "source": [
    " \n",
    "solver = ConfidentSolver(llm_model=\"o3-mini-low\", confidence_model=\"msprt\", output_schema=\"float\")\n",
    "\n",
    "df = []\n",
    "for path in paths:\n",
    "    run = path.split(\"/\")[-1]\n",
    "\n",
    "    model = \"msprt\" if \"msprt\" in run else \"sprt\"\n",
    "    solver = ConfidentSolver(llm_model=\"o3-mini-low\", confidence_model=model, output_schema=\"float\")\n",
    "    path = os.path.join(\"../../..\", path, \"*.csv\")\n",
    "    result_files = glob.glob(path)\n",
    "    solver = ConfidentSolver(llm_model=\"o3-mini-low\", confidence_model=\"msprt\", output_schema=\"float\")\n",
    "    total_turns = [invoke(solver, pd.read_csv(f, index_col=0).answer) for f in result_files]\n",
    "    df.append(pd.DataFrame({\n",
    "        \"run\": run,\n",
    "        \"model\": model,\n",
    "        \"Generations Per Turn\": total_turns\n",
    "    }))"
   ]
  },
  {
   "cell_type": "code",
   "execution_count": 37,
   "metadata": {},
   "outputs": [
    {
     "data": {
      "application/vnd.microsoft.datawrangler.viewer.v0+json": {
       "columns": [
        {
         "name": "run",
         "rawType": "object",
         "type": "string"
        },
        {
         "name": "('Generations Per Turn', 'mean')",
         "rawType": "float64",
         "type": "float"
        },
        {
         "name": "('Generations Per Turn', 'std')",
         "rawType": "float64",
         "type": "float"
        }
       ],
       "conversionMethod": "pd.DataFrame",
       "ref": "c5b57361-e628-4b33-927a-563c206183fa",
       "rows": [
        [
         "o3minihigh-aime24-msprt-1e61e6005094994",
         "2.8777777777777778",
         "0.2859525096992865"
        ],
        [
         "o3minihigh-aime24-sprt-050010050949976",
         "2.81",
         "0.34443023082773383"
        ],
        [
         "o3minilow-aime24-msprt-1e61e6005094994-3",
         "2.584256266609208",
         "0.4671327266628008"
        ],
        [
         "o3minilow-aime24-sprt-050010050949976",
         "2.5838359788359786",
         "0.4156190851692576"
        ],
        [
         "o3minimedium-aime24-msprt-1e61e6005094994",
         "2.7286111111111113",
         "0.44894343467203224"
        ],
        [
         "o3minimedium-aime24-sprt-050010050949976",
         "2.729206349206349",
         "0.4563446324227599"
        ]
       ],
       "shape": {
        "columns": 2,
        "rows": 6
       }
      },
      "text/html": [
       "<div>\n",
       "<style scoped>\n",
       "    .dataframe tbody tr th:only-of-type {\n",
       "        vertical-align: middle;\n",
       "    }\n",
       "\n",
       "    .dataframe tbody tr th {\n",
       "        vertical-align: top;\n",
       "    }\n",
       "\n",
       "    .dataframe thead tr th {\n",
       "        text-align: left;\n",
       "    }\n",
       "\n",
       "    .dataframe thead tr:last-of-type th {\n",
       "        text-align: right;\n",
       "    }\n",
       "</style>\n",
       "<table border=\"1\" class=\"dataframe\">\n",
       "  <thead>\n",
       "    <tr>\n",
       "      <th></th>\n",
       "      <th colspan=\"2\" halign=\"left\">Generations Per Turn</th>\n",
       "    </tr>\n",
       "    <tr>\n",
       "      <th></th>\n",
       "      <th>mean</th>\n",
       "      <th>std</th>\n",
       "    </tr>\n",
       "    <tr>\n",
       "      <th>run</th>\n",
       "      <th></th>\n",
       "      <th></th>\n",
       "    </tr>\n",
       "  </thead>\n",
       "  <tbody>\n",
       "    <tr>\n",
       "      <th>o3minihigh-aime24-msprt-1e61e6005094994</th>\n",
       "      <td>2.877778</td>\n",
       "      <td>0.285953</td>\n",
       "    </tr>\n",
       "    <tr>\n",
       "      <th>o3minihigh-aime24-sprt-050010050949976</th>\n",
       "      <td>2.810000</td>\n",
       "      <td>0.344430</td>\n",
       "    </tr>\n",
       "    <tr>\n",
       "      <th>o3minilow-aime24-msprt-1e61e6005094994-3</th>\n",
       "      <td>2.584256</td>\n",
       "      <td>0.467133</td>\n",
       "    </tr>\n",
       "    <tr>\n",
       "      <th>o3minilow-aime24-sprt-050010050949976</th>\n",
       "      <td>2.583836</td>\n",
       "      <td>0.415619</td>\n",
       "    </tr>\n",
       "    <tr>\n",
       "      <th>o3minimedium-aime24-msprt-1e61e6005094994</th>\n",
       "      <td>2.728611</td>\n",
       "      <td>0.448943</td>\n",
       "    </tr>\n",
       "    <tr>\n",
       "      <th>o3minimedium-aime24-sprt-050010050949976</th>\n",
       "      <td>2.729206</td>\n",
       "      <td>0.456345</td>\n",
       "    </tr>\n",
       "  </tbody>\n",
       "</table>\n",
       "</div>"
      ],
      "text/plain": [
       "                                          Generations Per Turn          \n",
       "                                                          mean       std\n",
       "run                                                                     \n",
       "o3minihigh-aime24-msprt-1e61e6005094994               2.877778  0.285953\n",
       "o3minihigh-aime24-sprt-050010050949976                2.810000  0.344430\n",
       "o3minilow-aime24-msprt-1e61e6005094994-3              2.584256  0.467133\n",
       "o3minilow-aime24-sprt-050010050949976                 2.583836  0.415619\n",
       "o3minimedium-aime24-msprt-1e61e6005094994             2.728611  0.448943\n",
       "o3minimedium-aime24-sprt-050010050949976              2.729206  0.456345"
      ]
     },
     "execution_count": 37,
     "metadata": {},
     "output_type": "execute_result"
    }
   ],
   "source": [
    "pd.concat(df).groupby([\"run\"]).agg({\"Generations Per Turn\": [\"mean\", \"std\"]})"
   ]
  },
  {
   "cell_type": "code",
   "execution_count": 38,
   "metadata": {},
   "outputs": [],
   "source": [
    "import seaborn as sns\n",
    "import matplotlib.pyplot as plt"
   ]
  },
  {
   "cell_type": "code",
   "execution_count": 39,
   "metadata": {},
   "outputs": [
    {
     "name": "stderr",
     "output_type": "stream",
     "text": [
      "/var/folders/7y/fy_b33wn4jjcvgnn60w2l_xc0000gn/T/ipykernel_42676/1083842516.py:19: FutureWarning: \n",
      "\n",
      "Setting a gradient palette using color= is deprecated and will be removed in v0.14.0. Set `palette='dark:black'` for the same effect.\n",
      "\n",
      "  sns.stripplot(\n"
     ]
    },
    {
     "data": {
      "image/png": "[encoded data removed]",
      "text/plain": [
       "<Figure size 640x480 with 1 Axes>"
      ]
     },
     "metadata": {},
     "output_type": "display_data"
    }
   ],
   "source": [
    "import re\n",
    "\n",
    "# Combine the list of DataFrames\n",
    "df_concat = pd.concat(df)\n",
    "\n",
    "# Process the run labels:\n",
    "# 1. Remove \"-aime24\"\n",
    "df_concat[\"run\"] = df_concat[\"run\"].str.replace(\"-aime24\", \"\", regex=False)\n",
    "df_concat[\"run\"] = df_concat[\"run\"].str.replace(\"o3mini\", \"o3-mini-\", regex=False)\n",
    "# 2. Remove the numbers (and any extra characters) after \"sprt\" or \"msprt\"\n",
    "df_concat[\"run\"] = df_concat[\"run\"].str.replace(r\"(-(?:m)?sprt).*\", r\"\\1\", regex=True)\n",
    "\n",
    "# Create the boxplot without fliers\n",
    "ax = sns.boxplot(\n",
    "    data=df_concat, y=\"run\", x=\"Generations Per Turn\", hue=\"model\", showfliers=False\n",
    ")\n",
    "\n",
    "# Overlay with jittered points\n",
    "sns.stripplot(\n",
    "    data=df_concat,\n",
    "    y=\"run\",\n",
    "    x=\"Generations Per Turn\",\n",
    "    hue=\"model\",\n",
    "    jitter=True,\n",
    "    dodge=True,\n",
    "    marker=\"o\",\n",
    "    color=\"black\",\n",
    "    alpha=0.5,\n",
    ")\n",
    "\n",
    "# Remove duplicate legends\n",
    "handles, labels = ax.get_legend_handles_labels()\n",
    "plt.legend(handles[0:len(handles)//2], labels[0:len(labels)//2])\n",
    "plt.xlabel(\"Total Turns (AIME24)\")\n",
    "plt.ylabel(\"Runs\")\n",
    "\n",
    "plt.savefig(\"total_turns.pdf\", bbox_inches='tight')\n",
    "plt.show()\n"
   ]
  },
  {
   "cell_type": "code",
   "execution_count": null,
   "metadata": {},
   "outputs": [],
   "source": []
  }
 ],
 "metadata": {
  "kernelspec": {
   "display_name": "pytorch",
   "language": "python",
   "name": "python3"
  },
  "language_info": {
   "codemirror_mode": {
    "name": "ipython",
    "version": 3
   },
   "file_extension": ".py",
   "mimetype": "text/x-python",
   "name": "python",
   "nbconvert_exporter": "python",
   "pygments_lexer": "ipython3",
   "version": "3.12.8"
  }
 },
 "nbformat": 4,
 "nbformat_minor": 2
}
