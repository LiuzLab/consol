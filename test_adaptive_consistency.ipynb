{
 "cells": [
  {
   "cell_type": "code",
   "execution_count": 1,
   "id": "e511f7db-07ef-4c83-a860-ff258df531c5",
   "metadata": {},
   "outputs": [
    {
     "name": "stderr",
     "output_type": "stream",
     "text": [
      "/home/hwan/tch/envs/py312/lib/python3.12/site-packages/tqdm/auto.py:21: TqdmWarning: IProgress not found. Please update jupyter and ipywidgets. See https://ipywidgets.readthedocs.io/en/stable/user_install.html\n",
      "  from .autonotebook import tqdm as notebook_tqdm\n"
     ]
    }
   ],
   "source": [
    "import adaptive_consistency\n",
    "import pandas as pd\n",
    "from adaptive_consistency import BetaStoppingCriteria\n",
    "import consol\n",
    "import langchain_openai\n",
    "import langchain_core\n",
    "import os\n"
   ]
  },
  {
   "cell_type": "code",
   "execution_count": 4,
   "id": "16d28075-42a6-483f-907b-26940e780782",
   "metadata": {},
   "outputs": [],
   "source": [
    "df = pd.read_parquet(\"hf://datasets/Maxwell-Jia/AIME_2024/aime_2024_problems.parquet\")\n",
    "df = df.rename(columns={'Problem': 'input', 'Answer': 'target'})\n",
    "df = df[['input', 'target']]"
   ]
  },
  {
   "cell_type": "code",
   "execution_count": 25,
   "id": "3e59bff6-37de-4e11-ab2c-a3f6f15073f2",
   "metadata": {},
   "outputs": [],
   "source": [
    "llm = langchain_openai.ChatOpenAI(\n",
    "    model=\"o3-mini\",\n",
    "    openai_api_key=os.getenv(\"OPENAI_API_KEY\"),\n",
    "    reasoning_effort=\"low\"\n",
    ")"
   ]
  },
  {
   "cell_type": "code",
   "execution_count": 14,
   "id": "ab8a4d12-d394-41df-8cd7-bddafbc66285",
   "metadata": {},
   "outputs": [],
   "source": [
    "import abc\n",
    "import pydantic\n",
    "import typing\n",
    "\n",
    "class AbstractOutput(pydantic.BaseModel, abc.ABC):\n",
    "    answer: str\n",
    "\n",
    "class ReasonedMixin(abc.ABC):\n",
    "    reasons: typing.List[str]\n",
    "\n",
    "class FloatOutput(AbstractOutput):\n",
    "    answer: float\n",
    "\n",
    "class ABCDEOutput(AbstractOutput):\n",
    "    answer: typing.Literal[\"A\", \"B\", \"C\", \"D\", \"E\"]\n",
    "    \n",
    "\n",
    "llm_with_structured_output = llm.with_structured_output(FloatOutput, include_raw=True)"
   ]
  },
  {
   "cell_type": "code",
   "execution_count": 97,
   "id": "46c9c90d-59e0-47ae-bbbf-d7281f1d307c",
   "metadata": {},
   "outputs": [],
   "source": [
    "beta = BetaStoppingCriteria(0.95)"
   ]
  },
  {
   "cell_type": "code",
   "execution_count": null,
   "id": "25127833-2a67-4a6f-ac2f-bcb8ed5b50bc",
   "metadata": {},
   "outputs": [
    {
     "name": "stderr",
     "output_type": "stream",
     "text": [
      "  8%|████████▊                                                                                                             | 3/40 [10:27<1:46:06, 172.06s/it]"
     ]
    },
    {
     "name": "stdout",
     "output_type": "stream",
     "text": [
      "error at 5 at 2-th iteration\n",
      "{'raw': AIMessage(content='', additional_kwargs={'parsed': None, 'refusal': '{\\n  \"answer\": 14\\n} \\n\\n/* Explanation:\\n\\nWe will explain briefly one way to “see” the answer.\\n\\nDefine\\n\\u2003\\u2003f(x) = ||x| – ½|\\u2003\\u2003and\\u2003\\u2003g(x) = ||x| – ¼|.\\nThen the two curves may be written as\\n\\n\\u2003\\u2003y = 4 g(f( sin(2πx) ))\\n\\u2003\\u2003x = 4 g(f( cos(3πy) )).\\n\\nA short (but non‐trivial) analysis shows that, in every “period‐cell” (in fact, one may prove that the range of both functions is [0,1] so that both graphs lie in the unit square) the “sin–curve”\\n\\u2003\\u2003C₁ = { (x, y) : y = 4 g(f( sin(2πx) )),  x ∈ ℝ }\\noscillates in a “double‐W” pattern (its “W” arises because f and g are “V–shaped”) while the “cos–curve”\\n\\u2003\\u2003C₂ = { (x, y) : x = 4 g(f( cos(3πy) )),  y ∈ ℝ }\\noscillates in a “triple–W” pattern. A careful (piece‐wise linear) count then shows that the curves meet in exactly 14 points.\\n\\nFor example, one may show that after “unfolding” the absolute–values the problem becomes equivalent to solving a pair of linear equations on 14 “pieces” (each coming from a different choice of signs). An overall count yields 14 intersections.\\n\\nThus, the final answer is 14. */\\n'}, response_metadata={'token_usage': {'completion_tokens': 13167, 'prompt_tokens': 122, 'total_tokens': 13289, 'completion_tokens_details': {'accepted_prediction_tokens': 0, 'audio_tokens': 0, 'reasoning_tokens': 12800, 'rejected_prediction_tokens': 0}, 'prompt_tokens_details': {'audio_tokens': 0, 'cached_tokens': 0}}, 'model_name': 'o3-mini-2025-01-31', 'system_fingerprint': 'fp_42bfad963b', 'finish_reason': 'stop', 'logprobs': None}, id='run-9111fe01-d40a-42d8-ace5-65d90e9dd4db-0', usage_metadata={'input_tokens': 122, 'output_tokens': 13167, 'total_tokens': 13289, 'input_token_details': {'audio': 0, 'cache_read': 0}, 'output_token_details': {'audio': 0, 'reasoning': 12800}}), 'parsing_error': OpenAIRefusalError('{\\n  \"answer\": 14\\n} \\n\\n/* Explanation:\\n\\nWe will explain briefly one way to “see” the answer.\\n\\nDefine\\n\\u2003\\u2003f(x) = ||x| – ½|\\u2003\\u2003and\\u2003\\u2003g(x) = ||x| – ¼|.\\nThen the two curves may be written as\\n\\n\\u2003\\u2003y = 4 g(f( sin(2πx) ))\\n\\u2003\\u2003x = 4 g(f( cos(3πy) )).\\n\\nA short (but non‐trivial) analysis shows that, in every “period‐cell” (in fact, one may prove that the range of both functions is [0,1] so that both graphs lie in the unit square) the “sin–curve”\\n\\u2003\\u2003C₁ = { (x, y) : y = 4 g(f( sin(2πx) )),  x ∈ ℝ }\\noscillates in a “double‐W” pattern (its “W” arises because f and g are “V–shaped”) while the “cos–curve”\\n\\u2003\\u2003C₂ = { (x, y) : x = 4 g(f( cos(3πy) )),  y ∈ ℝ }\\noscillates in a “triple–W” pattern. A careful (piece‐wise linear) count then shows that the curves meet in exactly 14 points.\\n\\nFor example, one may show that after “unfolding” the absolute–values the problem becomes equivalent to solving a pair of linear equations on 14 “pieces” (each coming from a different choice of signs). An overall count yields 14 intersections.\\n\\nThus, the final answer is 14. */\\n'), 'parsed': None}\n"
     ]
    },
    {
     "name": "stderr",
     "output_type": "stream",
     "text": [
      " 10%|███████████▊                                                                                                          | 4/40 [13:06<1:40:01, 166.71s/it]"
     ]
    },
    {
     "name": "stdout",
     "output_type": "stream",
     "text": [
      "error at 4 at 3-th iteration\n",
      "{'raw': AIMessage(content='', additional_kwargs={'parsed': None, 'refusal': '{\\n  \"answer\": 1763\\n}'}, response_metadata={'token_usage': {'completion_tokens': 16923, 'prompt_tokens': 132, 'total_tokens': 17055, 'completion_tokens_details': {'accepted_prediction_tokens': 0, 'audio_tokens': 0, 'reasoning_tokens': 16896, 'rejected_prediction_tokens': 0}, 'prompt_tokens_details': {'audio_tokens': 0, 'cached_tokens': 0}}, 'model_name': 'o3-mini-2025-01-31', 'system_fingerprint': 'fp_42bfad963b', 'finish_reason': 'stop', 'logprobs': None}, id='run-4e4a2cae-ac0e-43fc-a809-21987d8d8f33-0', usage_metadata={'input_tokens': 132, 'output_tokens': 16923, 'total_tokens': 17055, 'input_token_details': {'audio': 0, 'cache_read': 0}, 'output_token_details': {'audio': 0, 'reasoning': 16896}}), 'parsing_error': OpenAIRefusalError('{\\n  \"answer\": 1763\\n}'), 'parsed': None}\n"
     ]
    },
    {
     "name": "stderr",
     "output_type": "stream",
     "text": [
      " 42%|█████████████████████████████████████████████████▋                                                                   | 17/40 [43:53<1:00:18, 157.31s/it]"
     ]
    },
    {
     "name": "stdout",
     "output_type": "stream",
     "text": [
      "error at 5 at 16-th iteration\n",
      "{'raw': AIMessage(content='', additional_kwargs={'parsed': None, 'refusal': '{\\n  \"answer\": 48\\n} \\n\\n/* Explanation:\\n\\nWe will show that the two‐curve system\\n       y = 4·g(f(sin(2πx)))\\u2003\\u2003and\\u2003\\u2003x = 4·g(f(cos(3πy)))\\n(where\\n       f(t)= ||t| – ½|\\u2003\\u2003and\\u2003\\u2003g(t)= ||t| – ¼| )\\nhas exactly 48 solutions (pairs (x,y) in ℝ²). \\n\\nA very brief outline of one rigorous approach is as follows.\\n\\nStep\\xa01. Notice that because f and g are “V–shaped” (even functions) and because\\n       |sin(2πx)| ≤ 1  and  |cos(3πy)| ≤ 1,\\none may show that \\n       4g(f(sin(2πx))) ∈ [0,1]  and  4g(f(cos(3πy))) ∈ [0,1].\\nThus any solution (x,y) must have x,y ∈ [0,1].\\n\\nStep\\xa02. A short computation shows that\\n       f(sin(2πx)) = ||sin(2πx)| – ½|\\nand then\\n       g(f(sin(2πx))) = | ||sin(2πx)| – ½| – ¼ |.\\nThus writing\\n       y = 4| ||sin(2πx)| – ½| – ¼ |,\\none may verify (by “book‐keeping” the critical values – namely the numbers\\n0, ¼, ½, ¾ and 1 which are achieved when |sin(2πx)| takes the values\\n0, ¼, ½, ¾ and 1) that as a function of x, the “sin–curve” oscillates\\nin [0,1] so that (after accounting for the symmetry of the “V’s” in f and g)\\nthe graph of\\n       y = 4g(f(sin(2πx)))\\nconsists of 8 “nice” monotone pieces.\\nA similar analysis shows that the graph of\\n       x = 4g(f(cos(3πy)))\\nin the square [0,1]×[0,1] is obtained from |cos(3πy)| – and since\\n3πy runs from 0 to 3π on y ∈ [0,1] – one gets 6 monotone pieces.\\n\\nStep\\xa03. Writing the equations in “case–by–case” form (that is, writing\\n       | ||sin(2πx)| – ½| – ¼ | = (1 ± |sin(2πx)|)/4\\nand similarly for the cosine–expression)\\none finds that the original system is equivalent to one of four “core”\\nsystems – one for each choice of the “+” or “–” sign in each equation.\\nA brief examination shows that for a given “core” system the equations\\nreduce to\\n       |sin(2πx)| = (1 ± y)/4\\u2003\\u2003and\\u2003\\u2003|cos(3πy)| = (1 ± x)/4,\\nand then (using the fact that for t in (0,1) the equation |sin(2πx)| = t\\nhas exactly 2 solutions in x ∈ [0,1] while |cos(3πy)| = s has exactly 6 solutions\\nin y ∈ [0,1]) one deduces that each of the four cases gives 12 solutions.\\nThus the total number is 4·12 = 48.\\n\\nMore details can be supplied upon request. The final answer is 48.\\n*/\\n'}, response_metadata={'token_usage': {'completion_tokens': 19169, 'prompt_tokens': 122, 'total_tokens': 19291, 'completion_tokens_details': {'accepted_prediction_tokens': 0, 'audio_tokens': 0, 'reasoning_tokens': 18368, 'rejected_prediction_tokens': 0}, 'prompt_tokens_details': {'audio_tokens': 0, 'cached_tokens': 0}}, 'model_name': 'o3-mini-2025-01-31', 'system_fingerprint': 'fp_42bfad963b', 'finish_reason': 'stop', 'logprobs': None}, id='run-c240afcc-6db3-4d89-8356-6ae788659f09-0', usage_metadata={'input_tokens': 122, 'output_tokens': 19169, 'total_tokens': 19291, 'input_token_details': {'audio': 0, 'cache_read': 0}, 'output_token_details': {'audio': 0, 'reasoning': 18368}}), 'parsing_error': OpenAIRefusalError('{\\n  \"answer\": 48\\n} \\n\\n/* Explanation:\\n\\nWe will show that the two‐curve system\\n       y = 4·g(f(sin(2πx)))\\u2003\\u2003and\\u2003\\u2003x = 4·g(f(cos(3πy)))\\n(where\\n       f(t)= ||t| – ½|\\u2003\\u2003and\\u2003\\u2003g(t)= ||t| – ¼| )\\nhas exactly 48 solutions (pairs (x,y) in ℝ²). \\n\\nA very brief outline of one rigorous approach is as follows.\\n\\nStep\\xa01. Notice that because f and g are “V–shaped” (even functions) and because\\n       |sin(2πx)| ≤ 1  and  |cos(3πy)| ≤ 1,\\none may show that \\n       4g(f(sin(2πx))) ∈ [0,1]  and  4g(f(cos(3πy))) ∈ [0,1].\\nThus any solution (x,y) must have x,y ∈ [0,1].\\n\\nStep\\xa02. A short computation shows that\\n       f(sin(2πx)) = ||sin(2πx)| – ½|\\nand then\\n       g(f(sin(2πx))) = | ||sin(2πx)| – ½| – ¼ |.\\nThus writing\\n       y = 4| ||sin(2πx)| – ½| – ¼ |,\\none may verify (by “book‐keeping” the critical values – namely the numbers\\n0, ¼, ½, ¾ and 1 which are achieved when |sin(2πx)| takes the values\\n0, ¼, ½, ¾ and 1) that as a function of x, the “sin–curve” oscillates\\nin [0,1] so that (after accounting for the symmetry of the “V’s” in f and g)\\nthe graph of\\n       y = 4g(f(sin(2πx)))\\nconsists of 8 “nice” monotone pieces.\\nA similar analysis shows that the graph of\\n       x = 4g(f(cos(3πy)))\\nin the square [0,1]×[0,1] is obtained from |cos(3πy)| – and since\\n3πy runs from 0 to 3π on y ∈ [0,1] – one gets 6 monotone pieces.\\n\\nStep\\xa03. Writing the equations in “case–by–case” form (that is, writing\\n       | ||sin(2πx)| – ½| – ¼ | = (1 ± |sin(2πx)|)/4\\nand similarly for the cosine–expression)\\none finds that the original system is equivalent to one of four “core”\\nsystems – one for each choice of the “+” or “–” sign in each equation.\\nA brief examination shows that for a given “core” system the equations\\nreduce to\\n       |sin(2πx)| = (1 ± y)/4\\u2003\\u2003and\\u2003\\u2003|cos(3πy)| = (1 ± x)/4,\\nand then (using the fact that for t in (0,1) the equation |sin(2πx)| = t\\nhas exactly 2 solutions in x ∈ [0,1] while |cos(3πy)| = s has exactly 6 solutions\\nin y ∈ [0,1]) one deduces that each of the four cases gives 12 solutions.\\nThus the total number is 4·12 = 48.\\n\\nMore details can be supplied upon request. The final answer is 48.\\n*/\\n'), 'parsed': None}\n"
     ]
    },
    {
     "name": "stderr",
     "output_type": "stream",
     "text": [
      " 60%|███████████████████████████████████████████████████████████████████████▍                                               | 24/40 [58:28<35:14, 132.18s/it]"
     ]
    }
   ],
   "source": [
    "import tqdm\n",
    "stopped = {}\n",
    "answers = {}\n",
    "logs = {}\n",
    "response = {}\n",
    "for i, problem in enumerate(df.input):\n",
    "    stopped[i] = False\n",
    "    answers[i] = []\n",
    "    logs[i] = []\n",
    "    response[i] = []\n",
    "N = len(df.input)\n",
    "\n",
    "for k in tqdm.tqdm(range(40)):\n",
    "    if all(stopped): break\n",
    "\n",
    "    need_to_idx = [i for i in range(N) if not stopped[i]]\n",
    "    messages = [langchain_core.messages.HumanMessage(df.input[x]) for x in need_to_idx]    \n",
    "    output = llm_with_structured_output.batch([str(x.content) for x in messages])\n",
    "\n",
    "    for i in range(len(need_to_idx)):\n",
    "        try:\n",
    "            answers[need_to_idx[i]].append(output[i]['parsed'].answer)\n",
    "            logs[need_to_idx[i]].append(output[i])\n",
    "        except Exception as e:\n",
    "            print(f\"error at {need_to_idx[i]} at {k}-th iteration\")\n",
    "            print(output[i])\n",
    "            continue\n",
    "\n",
    "    for i in range(N):\n",
    "        if stopped[i]: continue\n",
    "        if len(answers[i]) <= 0: continue\n",
    "        if beta.should_stop(answers[i])['stop']:\n",
    "            response[i] = beta.should_stop(answers[i])['most_common']\n",
    "            stopped[i] = True"
   ]
  },
  {
   "cell_type": "code",
   "execution_count": 73,
   "id": "430d281e-402b-43c3-81eb-c75e685197c1",
   "metadata": {
    "editable": true,
    "slideshow": {
     "slide_type": ""
    },
    "tags": []
   },
   "outputs": [
    {
     "data": {
      "text/plain": [
       "{0: True,\n",
       " 1: True,\n",
       " 2: True,\n",
       " 3: True,\n",
       " 4: True,\n",
       " 5: True,\n",
       " 6: False,\n",
       " 7: True,\n",
       " 8: True,\n",
       " 9: True,\n",
       " 10: True,\n",
       " 11: True,\n",
       " 12: True,\n",
       " 13: True,\n",
       " 14: True,\n",
       " 15: True,\n",
       " 16: True,\n",
       " 17: False,\n",
       " 18: True,\n",
       " 19: True,\n",
       " 20: True,\n",
       " 21: True,\n",
       " 22: True,\n",
       " 23: True,\n",
       " 24: True,\n",
       " 25: True,\n",
       " 26: True,\n",
       " 27: False,\n",
       " 28: True,\n",
       " 29: True}"
      ]
     },
     "execution_count": 73,
     "metadata": {},
     "output_type": "execute_result"
    }
   ],
   "source": [
    "stopped"
   ]
  },
  {
   "cell_type": "code",
   "execution_count": 75,
   "id": "f86b3476-963e-4f8b-8ad0-82e82c1fe8a0",
   "metadata": {},
   "outputs": [
    {
     "name": "stdout",
     "output_type": "stream",
     "text": [
      "0 4\n",
      "1 4\n",
      "2 4\n",
      "3 4\n",
      "4 4\n",
      "5 16\n",
      "6 40\n",
      "7 4\n",
      "8 4\n",
      "9 4\n",
      "10 4\n",
      "11 4\n",
      "12 4\n",
      "13 4\n",
      "14 4\n",
      "15 7\n",
      "16 4\n",
      "17 40\n",
      "18 9\n",
      "19 4\n",
      "20 4\n",
      "21 8\n",
      "22 7\n",
      "23 4\n",
      "24 4\n",
      "25 31\n",
      "26 4\n",
      "27 40\n",
      "28 15\n",
      "29 4\n"
     ]
    }
   ],
   "source": [
    "for i in range(30):\n",
    "    print(i, len(answers[i]))"
   ]
  },
  {
   "cell_type": "code",
   "execution_count": 63,
   "id": "e77bb97d-2c78-4745-b613-cff756e702a3",
   "metadata": {},
   "outputs": [
    {
     "data": {
      "text/plain": [
       "{'most_common': 23.0, 'prob': 0.75, 'stop': False}"
      ]
     },
     "execution_count": 63,
     "metadata": {},
     "output_type": "execute_result"
    }
   ],
   "source": [
    "beta.should_stop(answers[1])"
   ]
  },
  {
   "cell_type": "code",
   "execution_count": 76,
   "id": "891990e8-67df-43ac-b812-f7df41a18597",
   "metadata": {},
   "outputs": [
    {
     "data": {
      "text/plain": [
       "{0: 33.0,\n",
       " 1: 23.0,\n",
       " 2: 116.0,\n",
       " 3: 809.0,\n",
       " 4: 197.0,\n",
       " 5: 24.0,\n",
       " 6: [],\n",
       " 7: 601.0,\n",
       " 8: 25.0,\n",
       " 9: 55.0,\n",
       " 10: 540.0,\n",
       " 11: 45.0,\n",
       " 12: 204.0,\n",
       " 13: 699.0,\n",
       " 14: 294.0,\n",
       " 15: 110.0,\n",
       " 16: 721.0,\n",
       " 17: [],\n",
       " 18: 468.0,\n",
       " 19: 902.0,\n",
       " 20: 211.0,\n",
       " 21: 80.0,\n",
       " 22: 480.0,\n",
       " 23: 236.0,\n",
       " 24: 73.0,\n",
       " 25: 113.0,\n",
       " 26: 127.0,\n",
       " 27: [],\n",
       " 28: 104.0,\n",
       " 29: 321.0}"
      ]
     },
     "execution_count": 76,
     "metadata": {},
     "output_type": "execute_result"
    }
   ],
   "source": [
    "response"
   ]
  },
  {
   "cell_type": "code",
   "execution_count": 77,
   "id": "559d9b5f-ba78-43d8-9372-d6e7c21f6b6a",
   "metadata": {},
   "outputs": [
    {
     "data": {
      "text/plain": [
       "{'most_common': 371.0, 'prob': 0.5, 'stop': False}"
      ]
     },
     "execution_count": 77,
     "metadata": {},
     "output_type": "execute_result"
    }
   ],
   "source": [
    "beta.should_stop(answers[6])"
   ]
  },
  {
   "cell_type": "code",
   "execution_count": 78,
   "id": "7a45f2b0-ac7f-4f66-b43c-59e9685e8040",
   "metadata": {},
   "outputs": [],
   "source": [
    "response[6] = 371.0"
   ]
  },
  {
   "cell_type": "code",
   "execution_count": 79,
   "id": "6a2a24ef-b851-4dff-9818-5214c30ebf8f",
   "metadata": {},
   "outputs": [
    {
     "data": {
      "text/plain": [
       "{'most_common': 30.0, 'prob': 0.7382664680480958, 'stop': False}"
      ]
     },
     "execution_count": 79,
     "metadata": {},
     "output_type": "execute_result"
    }
   ],
   "source": [
    "beta.should_stop(answers[17])"
   ]
  },
  {
   "cell_type": "code",
   "execution_count": 80,
   "id": "bc65a29e-104b-4942-bd57-a281354b06fc",
   "metadata": {},
   "outputs": [],
   "source": [
    "response[17] = 30.0"
   ]
  },
  {
   "cell_type": "code",
   "execution_count": 81,
   "id": "366283b5-be26-4d73-a2cb-5e294f642d14",
   "metadata": {},
   "outputs": [
    {
     "data": {
      "text/plain": [
       "{'most_common': 104.0, 'prob': 0.7789658308029176, 'stop': False}"
      ]
     },
     "execution_count": 81,
     "metadata": {},
     "output_type": "execute_result"
    }
   ],
   "source": [
    "beta.should_stop(answers[27])"
   ]
  },
  {
   "cell_type": "code",
   "execution_count": 82,
   "id": "53283b95-0288-44da-82f4-06cf7accf956",
   "metadata": {},
   "outputs": [],
   "source": [
    "response[27] = 104.0"
   ]
  },
  {
   "cell_type": "code",
   "execution_count": 83,
   "id": "c30abacd-f7b8-43f4-97cf-08b03a7e5b7b",
   "metadata": {},
   "outputs": [
    {
     "data": {
      "text/plain": [
       "{0: 33.0,\n",
       " 1: 23.0,\n",
       " 2: 116.0,\n",
       " 3: 809.0,\n",
       " 4: 197.0,\n",
       " 5: 24.0,\n",
       " 6: 371.0,\n",
       " 7: 601.0,\n",
       " 8: 25.0,\n",
       " 9: 55.0,\n",
       " 10: 540.0,\n",
       " 11: 45.0,\n",
       " 12: 204.0,\n",
       " 13: 699.0,\n",
       " 14: 294.0,\n",
       " 15: 110.0,\n",
       " 16: 721.0,\n",
       " 17: 30.0,\n",
       " 18: 468.0,\n",
       " 19: 902.0,\n",
       " 20: 211.0,\n",
       " 21: 80.0,\n",
       " 22: 480.0,\n",
       " 23: 236.0,\n",
       " 24: 73.0,\n",
       " 25: 113.0,\n",
       " 26: 127.0,\n",
       " 27: 104.0,\n",
       " 28: 104.0,\n",
       " 29: 321.0}"
      ]
     },
     "execution_count": 83,
     "metadata": {},
     "output_type": "execute_result"
    }
   ],
   "source": [
    "response"
   ]
  },
  {
   "cell_type": "code",
   "execution_count": 89,
   "id": "5fb7e0ef-63f4-48c9-b65b-92359e5a9286",
   "metadata": {},
   "outputs": [
    {
     "name": "stdout",
     "output_type": "stream",
     "text": [
      "5 385 24.0\n",
      "17 315 30.0\n"
     ]
    }
   ],
   "source": [
    "for i, row in df.iterrows():\n",
    "    is_correct = row['target'] == response[i]\n",
    "    if not is_correct:\n",
    "        print(i, row['target'], response[i])"
   ]
  },
  {
   "cell_type": "code",
   "execution_count": 90,
   "id": "b50e3556-05cd-47f6-b0a1-12288e4d6307",
   "metadata": {},
   "outputs": [
    {
     "data": {
      "text/plain": [
       "[12.0,\n",
       " 8.0,\n",
       " 24.0,\n",
       " 20.0,\n",
       " 24.0,\n",
       " 6.0,\n",
       " 0.0,\n",
       " 24.0,\n",
       " 8.0,\n",
       " 24.0,\n",
       " 24.0,\n",
       " 16.0,\n",
       " 24.0,\n",
       " 96.0,\n",
       " 24.0,\n",
       " 24.0]"
      ]
     },
     "execution_count": 90,
     "metadata": {},
     "output_type": "execute_result"
    }
   ],
   "source": [
    "answers[5]"
   ]
  },
  {
   "cell_type": "code",
   "execution_count": 92,
   "id": "7d084ead-41af-4300-a97e-efa611a12603",
   "metadata": {},
   "outputs": [
    {
     "data": {
      "text/plain": [
       "30.0     12\n",
       "245.0     9\n",
       "54.0      3\n",
       "45.0      3\n",
       "975.0     2\n",
       "153.0     2\n",
       "85.0      1\n",
       "69.0      1\n",
       "39.0      1\n",
       "81.0      1\n",
       "585.0     1\n",
       "15.0      1\n",
       "75.0      1\n",
       "36.0      1\n",
       "55.0      1\n",
       "Name: count, dtype: int64"
      ]
     },
     "execution_count": 92,
     "metadata": {},
     "output_type": "execute_result"
    }
   ],
   "source": [
    "pd.Series(answers[17]).value_counts()"
   ]
  },
  {
   "cell_type": "code",
   "execution_count": 96,
   "id": "398490da-57ac-48ae-95b0-576a5c79a8ec",
   "metadata": {},
   "outputs": [
    {
     "data": {
      "text/plain": [
       "0.95"
      ]
     },
     "execution_count": 96,
     "metadata": {},
     "output_type": "execute_result"
    }
   ],
   "source": [
    "beta.conf_thresh"
   ]
  },
  {
   "cell_type": "code",
   "execution_count": 99,
   "id": "d7c3d91c-4e4a-4c1f-bd6e-df707d8746cc",
   "metadata": {},
   "outputs": [],
   "source": [
    "bayesian_posterior = consol.confidence_models.BayesianPosteriorConfidenceModel()"
   ]
  },
  {
   "cell_type": "code",
   "execution_count": 102,
   "id": "001fe476-0b88-4c33-b45b-437c4094f1ee",
   "metadata": {},
   "outputs": [
    {
     "data": {
      "text/plain": [
       "True"
      ]
     },
     "execution_count": 102,
     "metadata": {},
     "output_type": "execute_result"
    }
   ],
   "source": [
    "bayesian_posterior.test(4,0)"
   ]
  },
  {
   "cell_type": "code",
   "execution_count": 103,
   "id": "26e9c200-c795-46ba-b129-8a5c2db04c53",
   "metadata": {},
   "outputs": [
    {
     "data": {
      "text/plain": [
       "False"
      ]
     },
     "execution_count": 103,
     "metadata": {},
     "output_type": "execute_result"
    }
   ],
   "source": [
    "bayesian_posterior.test(1,0)"
   ]
  },
  {
   "cell_type": "code",
   "execution_count": 106,
   "id": "b8a6e809-38cb-4a79-8f2a-20bbdf710786",
   "metadata": {},
   "outputs": [
    {
     "data": {
      "text/plain": [
       "False"
      ]
     },
     "execution_count": 106,
     "metadata": {},
     "output_type": "execute_result"
    }
   ],
   "source": [
    "bayesian_posterior.test(4,1)"
   ]
  },
  {
   "cell_type": "code",
   "execution_count": 107,
   "id": "ea53b80e-5b0f-4b28-b7ab-b8ebf457cc3d",
   "metadata": {},
   "outputs": [],
   "source": [
    "sprt_posterior = consol.confidence_models.SprtConfidenceModel()"
   ]
  },
  {
   "cell_type": "code",
   "execution_count": 110,
   "id": "34ceee7a-8016-4fc1-a7fa-1753d6a7b3c5",
   "metadata": {},
   "outputs": [
    {
     "data": {
      "text/plain": [
       "False"
      ]
     },
     "execution_count": 110,
     "metadata": {},
     "output_type": "execute_result"
    }
   ],
   "source": [
    "sprt_posterior.test(4,0)"
   ]
  },
  {
   "cell_type": "code",
   "execution_count": 111,
   "id": "6c105ba4-56d8-4073-9183-67db91eab9f4",
   "metadata": {},
   "outputs": [
    {
     "data": {
      "text/plain": [
       "False"
      ]
     },
     "execution_count": 111,
     "metadata": {},
     "output_type": "execute_result"
    }
   ],
   "source": [
    "sprt_posterior.test(5,0)"
   ]
  },
  {
   "cell_type": "code",
   "execution_count": 114,
   "id": "287b4792-0eff-418d-bda6-0d862abee506",
   "metadata": {},
   "outputs": [
    {
     "data": {
      "text/plain": [
       "True"
      ]
     },
     "execution_count": 114,
     "metadata": {},
     "output_type": "execute_result"
    }
   ],
   "source": [
    "sprt_posterior.test(16,0)"
   ]
  },
  {
   "cell_type": "code",
   "execution_count": 115,
   "id": "319d4d99-b3d6-46c9-9dd3-6312c693d72a",
   "metadata": {},
   "outputs": [],
   "source": [
    "mSprt_posterior = consol.confidence_models.MsprtConfidenceModel()"
   ]
  },
  {
   "cell_type": "code",
   "execution_count": 117,
   "id": "3859a454-61aa-46b7-beac-cc4e521e8e41",
   "metadata": {},
   "outputs": [
    {
     "data": {
      "text/plain": [
       "False"
      ]
     },
     "execution_count": 117,
     "metadata": {},
     "output_type": "execute_result"
    }
   ],
   "source": [
    "sprt_posterior.test(6,0)"
   ]
  },
  {
   "cell_type": "code",
   "execution_count": 125,
   "id": "936ce7dd-010f-4508-a0ad-fc21b7a6d59d",
   "metadata": {},
   "outputs": [],
   "source": [
    "for i in range(0,40):\n",
    "    for j in range(0,i+1):\n",
    "        if i + j == 0: \n",
    "            break\n",
    "        ac = beta.should_stop([10] * i + [20] * j)\n",
    "        ours = bayesian_posterior.test(i,j) \n",
    "\n",
    "        if ac['stop'] != ours:\n",
    "            print(i, j, ac['stop'], ours)"
   ]
  }
 ],
 "metadata": {
  "kernelspec": {
   "display_name": "Python (py312)",
   "language": "python",
   "name": "myenv"
  },
  "language_info": {
   "codemirror_mode": {
    "name": "ipython",
    "version": 3
   },
   "file_extension": ".py",
   "mimetype": "text/x-python",
   "name": "python",
   "nbconvert_exporter": "python",
   "pygments_lexer": "ipython3",
   "version": "3.12.9"
  }
 },
 "nbformat": 4,
 "nbformat_minor": 5
}
