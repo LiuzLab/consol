{
 "cells": [
  {
   "cell_type": "code",
   "execution_count": 326,
   "metadata": {},
   "outputs": [],
   "source": [
    "import scipy\n",
    "import scipy.stats\n",
    "import numpy as np"
   ]
  },
  {
   "cell_type": "code",
   "execution_count": 806,
   "metadata": {},
   "outputs": [
    {
     "name": "stdout",
     "output_type": "stream",
     "text": [
      "0\n"
     ]
    },
    {
     "data": {
      "application/vnd.microsoft.datawrangler.viewer.v0+json": {
       "columns": [
        {
         "name": "index",
         "rawType": "int64",
         "type": "integer"
        },
        {
         "name": "answer",
         "rawType": "int64",
         "type": "integer"
        },
        {
         "name": "token_usage",
         "rawType": "int64",
         "type": "integer"
        }
       ],
       "conversionMethod": "pd.DataFrame",
       "ref": "31fd7b4e-5a50-47c2-9cb2-8d364290161d",
       "rows": [
        [
         "0",
         "1",
         "1"
        ],
        [
         "1",
         "1",
         "1"
        ],
        [
         "2",
         "0",
         "1"
        ],
        [
         "3",
         "1",
         "1"
        ],
        [
         "4",
         "0",
         "1"
        ],
        [
         "5",
         "1",
         "1"
        ],
        [
         "6",
         "0",
         "1"
        ],
        [
         "7",
         "0",
         "1"
        ],
        [
         "8",
         "0",
         "1"
        ],
        [
         "9",
         "0",
         "1"
        ],
        [
         "10",
         "1",
         "1"
        ],
        [
         "11",
         "0",
         "1"
        ],
        [
         "12",
         "0",
         "1"
        ],
        [
         "13",
         "0",
         "1"
        ],
        [
         "14",
         "0",
         "1"
        ],
        [
         "15",
         "0",
         "1"
        ],
        [
         "16",
         "1",
         "1"
        ],
        [
         "17",
         "1",
         "1"
        ],
        [
         "18",
         "0",
         "1"
        ],
        [
         "19",
         "0",
         "1"
        ],
        [
         "20",
         "1",
         "1"
        ],
        [
         "21",
         "0",
         "1"
        ],
        [
         "22",
         "1",
         "1"
        ],
        [
         "23",
         "0",
         "1"
        ],
        [
         "24",
         "0",
         "1"
        ],
        [
         "25",
         "0",
         "1"
        ],
        [
         "26",
         "0",
         "1"
        ],
        [
         "27",
         "0",
         "1"
        ],
        [
         "28",
         "0",
         "1"
        ],
        [
         "29",
         "0",
         "1"
        ],
        [
         "30",
         "0",
         "1"
        ],
        [
         "31",
         "0",
         "1"
        ],
        [
         "32",
         "1",
         "1"
        ],
        [
         "33",
         "0",
         "1"
        ],
        [
         "34",
         "0",
         "1"
        ],
        [
         "35",
         "1",
         "1"
        ],
        [
         "36",
         "0",
         "1"
        ],
        [
         "37",
         "1",
         "1"
        ],
        [
         "38",
         "0",
         "1"
        ],
        [
         "39",
         "0",
         "1"
        ]
       ],
       "shape": {
        "columns": 2,
        "rows": 40
       }
      },
      "text/html": [
       "<div>\n",
       "<style scoped>\n",
       "    .dataframe tbody tr th:only-of-type {\n",
       "        vertical-align: middle;\n",
       "    }\n",
       "\n",
       "    .dataframe tbody tr th {\n",
       "        vertical-align: top;\n",
       "    }\n",
       "\n",
       "    .dataframe thead th {\n",
       "        text-align: right;\n",
       "    }\n",
       "</style>\n",
       "<table border=\"1\" class=\"dataframe\">\n",
       "  <thead>\n",
       "    <tr style=\"text-align: right;\">\n",
       "      <th></th>\n",
       "      <th>answer</th>\n",
       "      <th>token_usage</th>\n",
       "    </tr>\n",
       "  </thead>\n",
       "  <tbody>\n",
       "    <tr>\n",
       "      <th>0</th>\n",
       "      <td>1</td>\n",
       "      <td>1</td>\n",
       "    </tr>\n",
       "    <tr>\n",
       "      <th>1</th>\n",
       "      <td>1</td>\n",
       "      <td>1</td>\n",
       "    </tr>\n",
       "    <tr>\n",
       "      <th>2</th>\n",
       "      <td>0</td>\n",
       "      <td>1</td>\n",
       "    </tr>\n",
       "    <tr>\n",
       "      <th>3</th>\n",
       "      <td>1</td>\n",
       "      <td>1</td>\n",
       "    </tr>\n",
       "    <tr>\n",
       "      <th>4</th>\n",
       "      <td>0</td>\n",
       "      <td>1</td>\n",
       "    </tr>\n",
       "    <tr>\n",
       "      <th>5</th>\n",
       "      <td>1</td>\n",
       "      <td>1</td>\n",
       "    </tr>\n",
       "    <tr>\n",
       "      <th>6</th>\n",
       "      <td>0</td>\n",
       "      <td>1</td>\n",
       "    </tr>\n",
       "    <tr>\n",
       "      <th>7</th>\n",
       "      <td>0</td>\n",
       "      <td>1</td>\n",
       "    </tr>\n",
       "    <tr>\n",
       "      <th>8</th>\n",
       "      <td>0</td>\n",
       "      <td>1</td>\n",
       "    </tr>\n",
       "    <tr>\n",
       "      <th>9</th>\n",
       "      <td>0</td>\n",
       "      <td>1</td>\n",
       "    </tr>\n",
       "    <tr>\n",
       "      <th>10</th>\n",
       "      <td>1</td>\n",
       "      <td>1</td>\n",
       "    </tr>\n",
       "    <tr>\n",
       "      <th>11</th>\n",
       "      <td>0</td>\n",
       "      <td>1</td>\n",
       "    </tr>\n",
       "    <tr>\n",
       "      <th>12</th>\n",
       "      <td>0</td>\n",
       "      <td>1</td>\n",
       "    </tr>\n",
       "    <tr>\n",
       "      <th>13</th>\n",
       "      <td>0</td>\n",
       "      <td>1</td>\n",
       "    </tr>\n",
       "    <tr>\n",
       "      <th>14</th>\n",
       "      <td>0</td>\n",
       "      <td>1</td>\n",
       "    </tr>\n",
       "    <tr>\n",
       "      <th>15</th>\n",
       "      <td>0</td>\n",
       "      <td>1</td>\n",
       "    </tr>\n",
       "    <tr>\n",
       "      <th>16</th>\n",
       "      <td>1</td>\n",
       "      <td>1</td>\n",
       "    </tr>\n",
       "    <tr>\n",
       "      <th>17</th>\n",
       "      <td>1</td>\n",
       "      <td>1</td>\n",
       "    </tr>\n",
       "    <tr>\n",
       "      <th>18</th>\n",
       "      <td>0</td>\n",
       "      <td>1</td>\n",
       "    </tr>\n",
       "    <tr>\n",
       "      <th>19</th>\n",
       "      <td>0</td>\n",
       "      <td>1</td>\n",
       "    </tr>\n",
       "    <tr>\n",
       "      <th>20</th>\n",
       "      <td>1</td>\n",
       "      <td>1</td>\n",
       "    </tr>\n",
       "    <tr>\n",
       "      <th>21</th>\n",
       "      <td>0</td>\n",
       "      <td>1</td>\n",
       "    </tr>\n",
       "    <tr>\n",
       "      <th>22</th>\n",
       "      <td>1</td>\n",
       "      <td>1</td>\n",
       "    </tr>\n",
       "    <tr>\n",
       "      <th>23</th>\n",
       "      <td>0</td>\n",
       "      <td>1</td>\n",
       "    </tr>\n",
       "    <tr>\n",
       "      <th>24</th>\n",
       "      <td>0</td>\n",
       "      <td>1</td>\n",
       "    </tr>\n",
       "    <tr>\n",
       "      <th>25</th>\n",
       "      <td>0</td>\n",
       "      <td>1</td>\n",
       "    </tr>\n",
       "    <tr>\n",
       "      <th>26</th>\n",
       "      <td>0</td>\n",
       "      <td>1</td>\n",
       "    </tr>\n",
       "    <tr>\n",
       "      <th>27</th>\n",
       "      <td>0</td>\n",
       "      <td>1</td>\n",
       "    </tr>\n",
       "    <tr>\n",
       "      <th>28</th>\n",
       "      <td>0</td>\n",
       "      <td>1</td>\n",
       "    </tr>\n",
       "    <tr>\n",
       "      <th>29</th>\n",
       "      <td>0</td>\n",
       "      <td>1</td>\n",
       "    </tr>\n",
       "    <tr>\n",
       "      <th>30</th>\n",
       "      <td>0</td>\n",
       "      <td>1</td>\n",
       "    </tr>\n",
       "    <tr>\n",
       "      <th>31</th>\n",
       "      <td>0</td>\n",
       "      <td>1</td>\n",
       "    </tr>\n",
       "    <tr>\n",
       "      <th>32</th>\n",
       "      <td>1</td>\n",
       "      <td>1</td>\n",
       "    </tr>\n",
       "    <tr>\n",
       "      <th>33</th>\n",
       "      <td>0</td>\n",
       "      <td>1</td>\n",
       "    </tr>\n",
       "    <tr>\n",
       "      <th>34</th>\n",
       "      <td>0</td>\n",
       "      <td>1</td>\n",
       "    </tr>\n",
       "    <tr>\n",
       "      <th>35</th>\n",
       "      <td>1</td>\n",
       "      <td>1</td>\n",
       "    </tr>\n",
       "    <tr>\n",
       "      <th>36</th>\n",
       "      <td>0</td>\n",
       "      <td>1</td>\n",
       "    </tr>\n",
       "    <tr>\n",
       "      <th>37</th>\n",
       "      <td>1</td>\n",
       "      <td>1</td>\n",
       "    </tr>\n",
       "    <tr>\n",
       "      <th>38</th>\n",
       "      <td>0</td>\n",
       "      <td>1</td>\n",
       "    </tr>\n",
       "    <tr>\n",
       "      <th>39</th>\n",
       "      <td>0</td>\n",
       "      <td>1</td>\n",
       "    </tr>\n",
       "  </tbody>\n",
       "</table>\n",
       "</div>"
      ],
      "text/plain": [
       "    answer  token_usage\n",
       "0        1            1\n",
       "1        1            1\n",
       "2        0            1\n",
       "3        1            1\n",
       "4        0            1\n",
       "5        1            1\n",
       "6        0            1\n",
       "7        0            1\n",
       "8        0            1\n",
       "9        0            1\n",
       "10       1            1\n",
       "11       0            1\n",
       "12       0            1\n",
       "13       0            1\n",
       "14       0            1\n",
       "15       0            1\n",
       "16       1            1\n",
       "17       1            1\n",
       "18       0            1\n",
       "19       0            1\n",
       "20       1            1\n",
       "21       0            1\n",
       "22       1            1\n",
       "23       0            1\n",
       "24       0            1\n",
       "25       0            1\n",
       "26       0            1\n",
       "27       0            1\n",
       "28       0            1\n",
       "29       0            1\n",
       "30       0            1\n",
       "31       0            1\n",
       "32       1            1\n",
       "33       0            1\n",
       "34       0            1\n",
       "35       1            1\n",
       "36       0            1\n",
       "37       1            1\n",
       "38       0            1\n",
       "39       0            1"
      ]
     },
     "execution_count": 806,
     "metadata": {},
     "output_type": "execute_result"
    }
   ],
   "source": [
    "import enum\n",
    "import typing\n",
    "import sys\n",
    "\n",
    "import pydantic\n",
    "import langchain_openai\n",
    "import langchain_ollama\n",
    "import langchain_core\n",
    "import tqdm.auto\n",
    "import pandas as pd\n",
    "\n",
    "from consol.output_formats import AbstractOutput, ReasonedMixin, FloatOutput, ABCDEOutput\n",
    "from consol.confidence_models import AbstractConfidenceModel, MsprtConfidenceModel, SprtConfidenceModel, PValueConfidenceModel, BayesianPosteriorConfidenceModel, VoteConfidenceModel\n",
    "\n",
    "class LlmModelEnum(enum.StrEnum):\n",
    "    GPT_4O = \"gpt-4o\"\n",
    "    GPT_4O_MINI = \"gpt-4o-mini\"\n",
    "    O3_MINI_LOW = \"o3-mini-low\"\n",
    "    O3_MINI_MEDIUM = \"o3-mini-medium\"\n",
    "    O3_MINI_HIGH = \"o3-mini-high\"\n",
    "    OLLAMA_LLAMA3_2_8B = \"ollama:llama3.2:8b\"\n",
    "\n",
    "class ConfidenceModelEnum(enum.StrEnum):\n",
    "    Msprt = \"msprt\"\n",
    "    Sprt = \"sprt\"\n",
    "    Pvalue = \"pvalue\"\n",
    "    BayesianPosterior = \"bayesian_posterior\"\n",
    "    Vote = \"vote\"\n",
    "\n",
    "class OutputTypeEnum(enum.StrEnum):\n",
    "    Float = \"float\"\n",
    "    Abcde = \"abcde\"\n",
    "\n",
    "class ConfidentSolverConfig(pydantic.BaseModel):\n",
    "    # llm_model: LlmModelEnum\n",
    "    max_trials: typing.Optional[int]\n",
    "\n",
    "class ConfidentSolver:\n",
    "    def __init__(\n",
    "        self,\n",
    "        p_dist,\n",
    "        confidence_model: typing.Union[ConfidenceModelEnum, AbstractConfidenceModel],\n",
    "        max_trials: typing.Optional[int],\n",
    "    ):\n",
    "        self.config = ConfidentSolverConfig(\n",
    "            # llm_model=llm_model,\n",
    "            max_trials=max_trials,\n",
    "        )\n",
    "\n",
    "        if confidence_model == ConfidenceModelEnum.Msprt:\n",
    "            self.confidence_model = MsprtConfidenceModel()\n",
    "        elif confidence_model == ConfidenceModelEnum.Sprt:\n",
    "            self.confidence_model = SprtConfidenceModel()\n",
    "        elif confidence_model == ConfidenceModelEnum.Pvalue:\n",
    "            self.confidence_model = PValueConfidenceModel()\n",
    "        elif confidence_model == ConfidenceModelEnum.BayesianPosterior:\n",
    "            self.confidence_model = BayesianPosteriorConfidenceModel()\n",
    "        elif confidence_model == ConfidenceModelEnum.Vote:\n",
    "            self.confidence_model = VoteConfidenceModel()\n",
    "        elif isinstance(confidence_model, AbstractConfidenceModel):\n",
    "            self.confidence_model = confidence_model\n",
    "        else:\n",
    "            raise ValueError(f\"Unknown Confidence Model: {confidence_model}\")\n",
    "\n",
    "        self.p_dist = p_dist\n",
    "\n",
    "\n",
    "    def invoke(self, debug=False, **kwargs):\n",
    "        max_trials = self.config.max_trials\n",
    "        total_raw_outputs = []\n",
    "        with tqdm.auto.tqdm(total=max_trials, disable=True) as pbar:\n",
    "            while True:\n",
    "                first, second = self._get_top_two_answers(total_raw_outputs)\n",
    "                trials = self._determine_trials(first, second, max_trials, len(total_raw_outputs))\n",
    "                if trials == 0:\n",
    "                    pbar.close()\n",
    "                    break\n",
    "                raw_outputs = self._collect_raw_outputs(trials, **kwargs)\n",
    "                total_raw_outputs += raw_outputs\n",
    "                pbar.update(trials)\n",
    "        df = self._create_dataframe(total_raw_outputs)\n",
    "        if debug:\n",
    "            return df\n",
    "        return df['answer'].mode().iloc[0]\n",
    "\n",
    "    def _prepare_messages(self, input):\n",
    "        if isinstance(input, str):\n",
    "            return [langchain_core.messages.HumanMessage(input)]\n",
    "        return input\n",
    "\n",
    "    def _get_top_two_answers(self, total_raw_outputs):\n",
    "        total_ss = pd.Series([x['answer'] for x in total_raw_outputs]).value_counts()\n",
    "        two = total_ss.sort_values(ascending=False).head(2).to_list()\n",
    "        while len(two) < 2:\n",
    "            two += [0]\n",
    "        return two[0], two[1]\n",
    "\n",
    "    def _determine_trials(self, first, second, max_trials, current_trials):\n",
    "        for trials in range(0, max_trials + 1):\n",
    "            if first + trials == 0:\n",
    "                continue\n",
    "            if self.confidence_model.test(first + trials, second):\n",
    "                break\n",
    "        if trials >= max_trials - current_trials:\n",
    "            trials = max_trials - current_trials\n",
    "        return trials\n",
    "\n",
    "    def _collect_raw_outputs(self, trials):\n",
    "        raw_outputs = [{\n",
    "            'answer': np.argmax(_),\n",
    "            'token_usage': 1,\n",
    "        } for _ in scipy.stats.multinomial(1, self.p_dist).rvs(trials)]\n",
    "\n",
    "\n",
    "        return raw_outputs\n",
    "\n",
    "    def _create_dataframe(self, total_raw_outputs):\n",
    "        return pd.DataFrame({\n",
    "            'answer': [x['answer'] for x in total_raw_outputs],\n",
    "            'token_usage': [x['token_usage'] for x in total_raw_outputs],\n",
    "        })\n",
    "\n",
    "df = ConfidentSolver(\n",
    "    p_dist=[0.6,0.3,0.1],\n",
    "    confidence_model=\"sprt\",\n",
    "    max_trials=40,\n",
    ").invoke(debug=True)\n",
    "print(df.answer.mode().iloc[0])\n",
    "df"
   ]
  },
  {
   "cell_type": "code",
   "execution_count": null,
   "metadata": {},
   "outputs": [],
   "source": []
  },
  {
   "cell_type": "code",
   "execution_count": 1001,
   "metadata": {},
   "outputs": [],
   "source": [
    "import pandas as pd\n",
    "import glob\n",
    "\n",
    "aime24df = pd.read_parquet(\"hf://datasets/Maxwell-Jia/AIME_2024/aime_2024_problems.parquet\")\n",
    "\n",
    "def get_model_problem_summary(globpath, n=40):\n",
    "    assert n <= 40\n",
    "    df = pd.concat([pd.read_csv(filepath, index_col=0).head(n).assign(id=int(filepath.split(\"/\")[-1].split('.')[0])) for filepath in sorted(glob.glob(globpath))]).reset_index(drop=True)\n",
    "    df2 = aime24df.Answer.rename('target').to_frame()\n",
    "    df2['answer'] = df.groupby('id').answer.agg(lambda x: x.value_counts().index[0])\n",
    "    df2['trials'] = df.groupby('id').token_usage.count()\n",
    "    df2['token_usage'] = df.groupby('id').token_usage.sum()\n",
    "    df2['answer'] = df.groupby('id').answer.agg(lambda x: x.value_counts().index[0])\n",
    "    df2['answer_json'] = df.groupby('id').answer.agg(lambda x: x.value_counts().to_json())\n",
    "    return df2\n",
    "\n",
    "df = get_model_problem_summary(\"./resources/o3minilow-aime24-vote/*.csv\")"
   ]
  },
  {
   "cell_type": "code",
   "execution_count": 1002,
   "metadata": {},
   "outputs": [],
   "source": [
    "import json"
   ]
  },
  {
   "cell_type": "code",
   "execution_count": 1277,
   "metadata": {},
   "outputs": [],
   "source": [
    "import matplotlib.pyplot as plt\n",
    "def consistency_to_efficiency_plot(model_problem_summary_df, confidence_model, max_trials=1e4):\n",
    "    rates = []\n",
    "    nruns = []\n",
    "    for _ in tqdm.auto.trange(100):\n",
    "        iscorrect = []\n",
    "        nrun = 0\n",
    "        for _, row in model_problem_summary_df.iterrows():\n",
    "            arr = np.array(list(json.loads(row.answer_json).values()))\n",
    "            p_dist = arr / arr.sum()\n",
    "\n",
    "            resdf = ConfidentSolver(\n",
    "                p_dist=p_dist,\n",
    "                confidence_model=confidence_model,\n",
    "                max_trials=max_trials,\n",
    "            ).invoke(debug=True)\n",
    "\n",
    "            iscorrect.append(resdf.answer.mode().iloc[0] == 0)\n",
    "            nrun += resdf.shape[0]\n",
    "\n",
    "        rate = np.mean(iscorrect)\n",
    "        rates.append(rate)\n",
    "        nruns.append(nrun / model_problem_summary_df.shape[0])\n",
    "\n",
    "    df = pd.DataFrame({\n",
    "        \"rates\": rates,\n",
    "        \"nruns\": nruns,\n",
    "        \"avg_nruns\": np.mean(nruns),\n",
    "    })\n",
    "\n",
    "    # fig, ax = plt.subplots(1, 2, figsize=(12, 6))\n",
    "    # df.rates.plot.hist(ax=ax[0], title='Consistency Rates')\n",
    "    # df.nruns.plot.hist(ax=ax[1], title='Number of Runs')\n",
    "    # plt.tight_layout()\n",
    "    # plt.show()\n",
    "    return df"
   ]
  },
  {
   "cell_type": "code",
   "execution_count": 1278,
   "metadata": {},
   "outputs": [
    {
     "data": {
      "application/vnd.jupyter.widget-view+json": {
       "model_id": "83f26ff2f4a348aa81ddc28432ad213e",
       "version_major": 2,
       "version_minor": 0
      },
      "text/plain": [
       "  0%|          | 0/100 [00:00<?, ?it/s]"
      ]
     },
     "metadata": {},
     "output_type": "display_data"
    },
    {
     "data": {
      "application/vnd.jupyter.widget-view+json": {
       "model_id": "73a07cccf26c4fd58fc3931d5029e927",
       "version_major": 2,
       "version_minor": 0
      },
      "text/plain": [
       "  0%|          | 0/100 [00:00<?, ?it/s]"
      ]
     },
     "metadata": {},
     "output_type": "display_data"
    },
    {
     "data": {
      "application/vnd.jupyter.widget-view+json": {
       "model_id": "188672d230b042d5bb31ba8f987b9ed2",
       "version_major": 2,
       "version_minor": 0
      },
      "text/plain": [
       "  0%|          | 0/100 [00:00<?, ?it/s]"
      ]
     },
     "metadata": {},
     "output_type": "display_data"
    },
    {
     "data": {
      "application/vnd.jupyter.widget-view+json": {
       "model_id": "702cc84e04194542835b6daadb82d781",
       "version_major": 2,
       "version_minor": 0
      },
      "text/plain": [
       "  0%|          | 0/100 [00:00<?, ?it/s]"
      ]
     },
     "metadata": {},
     "output_type": "display_data"
    },
    {
     "data": {
      "application/vnd.jupyter.widget-view+json": {
       "model_id": "73afbc54847e4f1a9595d3d640b5c35c",
       "version_major": 2,
       "version_minor": 0
      },
      "text/plain": [
       "  0%|          | 0/100 [00:00<?, ?it/s]"
      ]
     },
     "metadata": {},
     "output_type": "display_data"
    },
    {
     "data": {
      "application/vnd.jupyter.widget-view+json": {
       "model_id": "a88b32fa735540d3a2a0a5cc476823a4",
       "version_major": 2,
       "version_minor": 0
      },
      "text/plain": [
       "  0%|          | 0/100 [00:00<?, ?it/s]"
      ]
     },
     "metadata": {},
     "output_type": "display_data"
    },
    {
     "data": {
      "application/vnd.jupyter.widget-view+json": {
       "model_id": "67210d19998c4f078c0b2f0d67c933c4",
       "version_major": 2,
       "version_minor": 0
      },
      "text/plain": [
       "  0%|          | 0/100 [00:00<?, ?it/s]"
      ]
     },
     "metadata": {},
     "output_type": "display_data"
    },
    {
     "data": {
      "application/vnd.jupyter.widget-view+json": {
       "model_id": "c2d9e60ceede4662aa61128c31f4e6fb",
       "version_major": 2,
       "version_minor": 0
      },
      "text/plain": [
       "  0%|          | 0/100 [00:00<?, ?it/s]"
      ]
     },
     "metadata": {},
     "output_type": "display_data"
    },
    {
     "data": {
      "application/vnd.jupyter.widget-view+json": {
       "model_id": "067ef3e6e8d14d69b66bddb95828336d",
       "version_major": 2,
       "version_minor": 0
      },
      "text/plain": [
       "  0%|          | 0/100 [00:00<?, ?it/s]"
      ]
     },
     "metadata": {},
     "output_type": "display_data"
    },
    {
     "data": {
      "application/vnd.jupyter.widget-view+json": {
       "model_id": "65c74b8d0a5e4bae8cab25902ed4ef24",
       "version_major": 2,
       "version_minor": 0
      },
      "text/plain": [
       "  0%|          | 0/100 [00:00<?, ?it/s]"
      ]
     },
     "metadata": {},
     "output_type": "display_data"
    },
    {
     "data": {
      "application/vnd.jupyter.widget-view+json": {
       "model_id": "aa8d5995f1b744b6b6bd168cb4ae7d9e",
       "version_major": 2,
       "version_minor": 0
      },
      "text/plain": [
       "  0%|          | 0/100 [00:00<?, ?it/s]"
      ]
     },
     "metadata": {},
     "output_type": "display_data"
    },
    {
     "data": {
      "application/vnd.jupyter.widget-view+json": {
       "model_id": "6f8540ca244649bfb1612fbdf20f4570",
       "version_major": 2,
       "version_minor": 0
      },
      "text/plain": [
       "  0%|          | 0/100 [00:00<?, ?it/s]"
      ]
     },
     "metadata": {},
     "output_type": "display_data"
    },
    {
     "data": {
      "application/vnd.jupyter.widget-view+json": {
       "model_id": "ea8f3df9215c45c59fd55f360441afaf",
       "version_major": 2,
       "version_minor": 0
      },
      "text/plain": [
       "  0%|          | 0/100 [00:00<?, ?it/s]"
      ]
     },
     "metadata": {},
     "output_type": "display_data"
    },
    {
     "data": {
      "application/vnd.jupyter.widget-view+json": {
       "model_id": "c3fc5800c6a040cf897518788b7b4ecd",
       "version_major": 2,
       "version_minor": 0
      },
      "text/plain": [
       "  0%|          | 0/100 [00:00<?, ?it/s]"
      ]
     },
     "metadata": {},
     "output_type": "display_data"
    },
    {
     "data": {
      "application/vnd.jupyter.widget-view+json": {
       "model_id": "4c74731273864eb888ed747df828c740",
       "version_major": 2,
       "version_minor": 0
      },
      "text/plain": [
       "  0%|          | 0/100 [00:00<?, ?it/s]"
      ]
     },
     "metadata": {},
     "output_type": "display_data"
    },
    {
     "data": {
      "application/vnd.jupyter.widget-view+json": {
       "model_id": "7932b5946d98421d845af506aa9a6022",
       "version_major": 2,
       "version_minor": 0
      },
      "text/plain": [
       "  0%|          | 0/100 [00:00<?, ?it/s]"
      ]
     },
     "metadata": {},
     "output_type": "display_data"
    },
    {
     "data": {
      "application/vnd.jupyter.widget-view+json": {
       "model_id": "72b2b093ad1e4245be6d8a2e0abf9de5",
       "version_major": 2,
       "version_minor": 0
      },
      "text/plain": [
       "  0%|          | 0/100 [00:00<?, ?it/s]"
      ]
     },
     "metadata": {},
     "output_type": "display_data"
    },
    {
     "data": {
      "application/vnd.jupyter.widget-view+json": {
       "model_id": "e7048e6290f749848df617ec04cf61c1",
       "version_major": 2,
       "version_minor": 0
      },
      "text/plain": [
       "  0%|          | 0/100 [00:00<?, ?it/s]"
      ]
     },
     "metadata": {},
     "output_type": "display_data"
    },
    {
     "data": {
      "application/vnd.jupyter.widget-view+json": {
       "model_id": "d5749f33566148468b02790857544c5b",
       "version_major": 2,
       "version_minor": 0
      },
      "text/plain": [
       "  0%|          | 0/100 [00:00<?, ?it/s]"
      ]
     },
     "metadata": {},
     "output_type": "display_data"
    },
    {
     "data": {
      "application/vnd.jupyter.widget-view+json": {
       "model_id": "0eaa968333204172b437ce5fd148cc10",
       "version_major": 2,
       "version_minor": 0
      },
      "text/plain": [
       "  0%|          | 0/100 [00:00<?, ?it/s]"
      ]
     },
     "metadata": {},
     "output_type": "display_data"
    },
    {
     "data": {
      "application/vnd.jupyter.widget-view+json": {
       "model_id": "0c57d6b5fe9341599eb664e509565402",
       "version_major": 2,
       "version_minor": 0
      },
      "text/plain": [
       "  0%|          | 0/100 [00:00<?, ?it/s]"
      ]
     },
     "metadata": {},
     "output_type": "display_data"
    },
    {
     "data": {
      "application/vnd.jupyter.widget-view+json": {
       "model_id": "65e8fb63632849b8a6dafe1bac1f7156",
       "version_major": 2,
       "version_minor": 0
      },
      "text/plain": [
       "  0%|          | 0/100 [00:00<?, ?it/s]"
      ]
     },
     "metadata": {},
     "output_type": "display_data"
    },
    {
     "data": {
      "application/vnd.jupyter.widget-view+json": {
       "model_id": "e4b380fa5fcc4111a0a9e55b1284c56b",
       "version_major": 2,
       "version_minor": 0
      },
      "text/plain": [
       "  0%|          | 0/100 [00:00<?, ?it/s]"
      ]
     },
     "metadata": {},
     "output_type": "display_data"
    },
    {
     "data": {
      "application/vnd.jupyter.widget-view+json": {
       "model_id": "f20e8990cc214a8a80cab3009ce50268",
       "version_major": 2,
       "version_minor": 0
      },
      "text/plain": [
       "  0%|          | 0/100 [00:00<?, ?it/s]"
      ]
     },
     "metadata": {},
     "output_type": "display_data"
    },
    {
     "data": {
      "application/vnd.jupyter.widget-view+json": {
       "model_id": "3ed1e5abaa8a4e5caaab1143a8da9afb",
       "version_major": 2,
       "version_minor": 0
      },
      "text/plain": [
       "  0%|          | 0/100 [00:00<?, ?it/s]"
      ]
     },
     "metadata": {},
     "output_type": "display_data"
    },
    {
     "data": {
      "application/vnd.jupyter.widget-view+json": {
       "model_id": "d4a98eaffb554fd6a6ff52fc2404b0a7",
       "version_major": 2,
       "version_minor": 0
      },
      "text/plain": [
       "  0%|          | 0/100 [00:00<?, ?it/s]"
      ]
     },
     "metadata": {},
     "output_type": "display_data"
    },
    {
     "data": {
      "application/vnd.jupyter.widget-view+json": {
       "model_id": "77bd639014044d1abc039100cbe6f999",
       "version_major": 2,
       "version_minor": 0
      },
      "text/plain": [
       "  0%|          | 0/100 [00:00<?, ?it/s]"
      ]
     },
     "metadata": {},
     "output_type": "display_data"
    },
    {
     "data": {
      "application/vnd.jupyter.widget-view+json": {
       "model_id": "3bed9e19858540fc84a3c5d15b303357",
       "version_major": 2,
       "version_minor": 0
      },
      "text/plain": [
       "  0%|          | 0/100 [00:00<?, ?it/s]"
      ]
     },
     "metadata": {},
     "output_type": "display_data"
    },
    {
     "data": {
      "application/vnd.jupyter.widget-view+json": {
       "model_id": "88980314dc0742c2a8a91d6b38dd5511",
       "version_major": 2,
       "version_minor": 0
      },
      "text/plain": [
       "  0%|          | 0/100 [00:00<?, ?it/s]"
      ]
     },
     "metadata": {},
     "output_type": "display_data"
    },
    {
     "data": {
      "application/vnd.jupyter.widget-view+json": {
       "model_id": "6b7d693954334d578b38381f963eec3f",
       "version_major": 2,
       "version_minor": 0
      },
      "text/plain": [
       "  0%|          | 0/100 [00:00<?, ?it/s]"
      ]
     },
     "metadata": {},
     "output_type": "display_data"
    },
    {
     "data": {
      "application/vnd.jupyter.widget-view+json": {
       "model_id": "0f31b27d58a247c0a32011aeb729a297",
       "version_major": 2,
       "version_minor": 0
      },
      "text/plain": [
       "  0%|          | 0/100 [00:00<?, ?it/s]"
      ]
     },
     "metadata": {},
     "output_type": "display_data"
    },
    {
     "data": {
      "application/vnd.jupyter.widget-view+json": {
       "model_id": "1e63f597e8464861b24e501cd07edcbd",
       "version_major": 2,
       "version_minor": 0
      },
      "text/plain": [
       "  0%|          | 0/100 [00:00<?, ?it/s]"
      ]
     },
     "metadata": {},
     "output_type": "display_data"
    },
    {
     "data": {
      "application/vnd.jupyter.widget-view+json": {
       "model_id": "6f9b78a3ab784cd49a23847177958933",
       "version_major": 2,
       "version_minor": 0
      },
      "text/plain": [
       "  0%|          | 0/100 [00:00<?, ?it/s]"
      ]
     },
     "metadata": {},
     "output_type": "display_data"
    },
    {
     "data": {
      "application/vnd.jupyter.widget-view+json": {
       "model_id": "84be1de495bf411382a0fc43af069577",
       "version_major": 2,
       "version_minor": 0
      },
      "text/plain": [
       "  0%|          | 0/100 [00:00<?, ?it/s]"
      ]
     },
     "metadata": {},
     "output_type": "display_data"
    },
    {
     "data": {
      "application/vnd.jupyter.widget-view+json": {
       "model_id": "27873b1a2993434eb1111265c5ecf6ec",
       "version_major": 2,
       "version_minor": 0
      },
      "text/plain": [
       "  0%|          | 0/100 [00:00<?, ?it/s]"
      ]
     },
     "metadata": {},
     "output_type": "display_data"
    },
    {
     "data": {
      "application/vnd.jupyter.widget-view+json": {
       "model_id": "86042eaca14245c0af59c05b7cc96f71",
       "version_major": 2,
       "version_minor": 0
      },
      "text/plain": [
       "  0%|          | 0/100 [00:00<?, ?it/s]"
      ]
     },
     "metadata": {},
     "output_type": "display_data"
    },
    {
     "data": {
      "application/vnd.jupyter.widget-view+json": {
       "model_id": "ca3113352ba94ec7b928d4e5af89db4d",
       "version_major": 2,
       "version_minor": 0
      },
      "text/plain": [
       "  0%|          | 0/100 [00:00<?, ?it/s]"
      ]
     },
     "metadata": {},
     "output_type": "display_data"
    },
    {
     "data": {
      "application/vnd.jupyter.widget-view+json": {
       "model_id": "87c1a1f241c54e48924b0c4e00f5854c",
       "version_major": 2,
       "version_minor": 0
      },
      "text/plain": [
       "  0%|          | 0/100 [00:00<?, ?it/s]"
      ]
     },
     "metadata": {},
     "output_type": "display_data"
    },
    {
     "data": {
      "application/vnd.jupyter.widget-view+json": {
       "model_id": "6db15c244dd2459fb05bd7edbe0dd06b",
       "version_major": 2,
       "version_minor": 0
      },
      "text/plain": [
       "  0%|          | 0/100 [00:00<?, ?it/s]"
      ]
     },
     "metadata": {},
     "output_type": "display_data"
    },
    {
     "data": {
      "application/vnd.jupyter.widget-view+json": {
       "model_id": "679e4645b7964401943288aa3f66950e",
       "version_major": 2,
       "version_minor": 0
      },
      "text/plain": [
       "  0%|          | 0/100 [00:00<?, ?it/s]"
      ]
     },
     "metadata": {},
     "output_type": "display_data"
    },
    {
     "data": {
      "application/vnd.jupyter.widget-view+json": {
       "model_id": "cbe2e9dd18534153a0a24f1258299439",
       "version_major": 2,
       "version_minor": 0
      },
      "text/plain": [
       "  0%|          | 0/100 [00:00<?, ?it/s]"
      ]
     },
     "metadata": {},
     "output_type": "display_data"
    },
    {
     "data": {
      "application/vnd.jupyter.widget-view+json": {
       "model_id": "1c0f3d2c908341539f00420798c3bac7",
       "version_major": 2,
       "version_minor": 0
      },
      "text/plain": [
       "  0%|          | 0/100 [00:00<?, ?it/s]"
      ]
     },
     "metadata": {},
     "output_type": "display_data"
    },
    {
     "data": {
      "application/vnd.jupyter.widget-view+json": {
       "model_id": "f3f65f3c26f849698202e5533815f95f",
       "version_major": 2,
       "version_minor": 0
      },
      "text/plain": [
       "  0%|          | 0/100 [00:00<?, ?it/s]"
      ]
     },
     "metadata": {},
     "output_type": "display_data"
    },
    {
     "data": {
      "application/vnd.jupyter.widget-view+json": {
       "model_id": "3fa9154067764f959940ed44f19b3dd5",
       "version_major": 2,
       "version_minor": 0
      },
      "text/plain": [
       "  0%|          | 0/100 [00:00<?, ?it/s]"
      ]
     },
     "metadata": {},
     "output_type": "display_data"
    },
    {
     "data": {
      "application/vnd.jupyter.widget-view+json": {
       "model_id": "deebeb18f3474c528eaefee88adba811",
       "version_major": 2,
       "version_minor": 0
      },
      "text/plain": [
       "  0%|          | 0/100 [00:00<?, ?it/s]"
      ]
     },
     "metadata": {},
     "output_type": "display_data"
    },
    {
     "data": {
      "application/vnd.jupyter.widget-view+json": {
       "model_id": "bf4998fd89044371943340a4c5745e9a",
       "version_major": 2,
       "version_minor": 0
      },
      "text/plain": [
       "  0%|          | 0/100 [00:00<?, ?it/s]"
      ]
     },
     "metadata": {},
     "output_type": "display_data"
    },
    {
     "data": {
      "application/vnd.jupyter.widget-view+json": {
       "model_id": "3c2a39dad7ed42be82eec042eb4f838a",
       "version_major": 2,
       "version_minor": 0
      },
      "text/plain": [
       "  0%|          | 0/100 [00:00<?, ?it/s]"
      ]
     },
     "metadata": {},
     "output_type": "display_data"
    },
    {
     "data": {
      "application/vnd.jupyter.widget-view+json": {
       "model_id": "4df55efdd2644f44983e999930068472",
       "version_major": 2,
       "version_minor": 0
      },
      "text/plain": [
       "  0%|          | 0/100 [00:00<?, ?it/s]"
      ]
     },
     "metadata": {},
     "output_type": "display_data"
    },
    {
     "data": {
      "application/vnd.jupyter.widget-view+json": {
       "model_id": "cca8270cc25b4ff9a78a4722ffba90d4",
       "version_major": 2,
       "version_minor": 0
      },
      "text/plain": [
       "  0%|          | 0/100 [00:00<?, ?it/s]"
      ]
     },
     "metadata": {},
     "output_type": "display_data"
    },
    {
     "data": {
      "application/vnd.jupyter.widget-view+json": {
       "model_id": "df11b99bd75945f09f99c3078dfa38fc",
       "version_major": 2,
       "version_minor": 0
      },
      "text/plain": [
       "  0%|          | 0/100 [00:00<?, ?it/s]"
      ]
     },
     "metadata": {},
     "output_type": "display_data"
    },
    {
     "data": {
      "application/vnd.jupyter.widget-view+json": {
       "model_id": "e8da6fe3657d4c6aa45eb1601747786f",
       "version_major": 2,
       "version_minor": 0
      },
      "text/plain": [
       "  0%|          | 0/100 [00:00<?, ?it/s]"
      ]
     },
     "metadata": {},
     "output_type": "display_data"
    },
    {
     "data": {
      "application/vnd.jupyter.widget-view+json": {
       "model_id": "c72df57eda234e17adaaa0782678efbe",
       "version_major": 2,
       "version_minor": 0
      },
      "text/plain": [
       "  0%|          | 0/100 [00:00<?, ?it/s]"
      ]
     },
     "metadata": {},
     "output_type": "display_data"
    },
    {
     "data": {
      "application/vnd.jupyter.widget-view+json": {
       "model_id": "f1672d24b5c344f48954af65d98485c1",
       "version_major": 2,
       "version_minor": 0
      },
      "text/plain": [
       "  0%|          | 0/100 [00:00<?, ?it/s]"
      ]
     },
     "metadata": {},
     "output_type": "display_data"
    },
    {
     "data": {
      "application/vnd.jupyter.widget-view+json": {
       "model_id": "b832f5e909d14fbf98a105a7f2d63521",
       "version_major": 2,
       "version_minor": 0
      },
      "text/plain": [
       "  0%|          | 0/100 [00:00<?, ?it/s]"
      ]
     },
     "metadata": {},
     "output_type": "display_data"
    },
    {
     "data": {
      "application/vnd.jupyter.widget-view+json": {
       "model_id": "2f66bb02d4214f00a5bb54decb16c599",
       "version_major": 2,
       "version_minor": 0
      },
      "text/plain": [
       "  0%|          | 0/100 [00:00<?, ?it/s]"
      ]
     },
     "metadata": {},
     "output_type": "display_data"
    },
    {
     "data": {
      "application/vnd.jupyter.widget-view+json": {
       "model_id": "a61b32e6109a4a3488bbd08edc26db7b",
       "version_major": 2,
       "version_minor": 0
      },
      "text/plain": [
       "  0%|          | 0/100 [00:00<?, ?it/s]"
      ]
     },
     "metadata": {},
     "output_type": "display_data"
    },
    {
     "data": {
      "application/vnd.jupyter.widget-view+json": {
       "model_id": "9925575e24bd48a0b6cb00f26d6f7892",
       "version_major": 2,
       "version_minor": 0
      },
      "text/plain": [
       "  0%|          | 0/100 [00:00<?, ?it/s]"
      ]
     },
     "metadata": {},
     "output_type": "display_data"
    },
    {
     "data": {
      "application/vnd.jupyter.widget-view+json": {
       "model_id": "a7c697d85ee74c468f8582fc543d08ef",
       "version_major": 2,
       "version_minor": 0
      },
      "text/plain": [
       "  0%|          | 0/100 [00:00<?, ?it/s]"
      ]
     },
     "metadata": {},
     "output_type": "display_data"
    },
    {
     "data": {
      "application/vnd.jupyter.widget-view+json": {
       "model_id": "fb1508d75331466ba79ac9d02c43f1c5",
       "version_major": 2,
       "version_minor": 0
      },
      "text/plain": [
       "  0%|          | 0/100 [00:00<?, ?it/s]"
      ]
     },
     "metadata": {},
     "output_type": "display_data"
    },
    {
     "data": {
      "application/vnd.jupyter.widget-view+json": {
       "model_id": "e2a77248ef48476bbcf2a5a42a1b9d9f",
       "version_major": 2,
       "version_minor": 0
      },
      "text/plain": [
       "  0%|          | 0/100 [00:00<?, ?it/s]"
      ]
     },
     "metadata": {},
     "output_type": "display_data"
    },
    {
     "data": {
      "application/vnd.jupyter.widget-view+json": {
       "model_id": "2911f546b5c2470c8cca973771006a1b",
       "version_major": 2,
       "version_minor": 0
      },
      "text/plain": [
       "  0%|          | 0/100 [00:00<?, ?it/s]"
      ]
     },
     "metadata": {},
     "output_type": "display_data"
    }
   ],
   "source": [
    "dfs = []\n",
    "dfs += [consistency_to_efficiency_plot(get_model_problem_summary(\"./resources/o3minilow-aime24-vote/*.csv\"), VoteConfidenceModel(), max_trials=1).assign(cm=\"Self-Cons\")]\n",
    "dfs += [consistency_to_efficiency_plot(get_model_problem_summary(\"./resources/o3minilow-aime24-vote/*.csv\"), VoteConfidenceModel(), max_trials=2).assign(cm=\"Self-Cons\")]\n",
    "dfs += [consistency_to_efficiency_plot(get_model_problem_summary(\"./resources/o3minilow-aime24-vote/*.csv\"), VoteConfidenceModel(), max_trials=3).assign(cm=\"Self-Cons\")]\n",
    "dfs += [consistency_to_efficiency_plot(get_model_problem_summary(\"./resources/o3minilow-aime24-vote/*.csv\"), VoteConfidenceModel(), max_trials=4).assign(cm=\"Self-Cons\")]\n",
    "dfs += [consistency_to_efficiency_plot(get_model_problem_summary(\"./resources/o3minilow-aime24-vote/*.csv\"), VoteConfidenceModel(), max_trials=5).assign(cm=\"Self-Cons\")]\n",
    "dfs += [consistency_to_efficiency_plot(get_model_problem_summary(\"./resources/o3minilow-aime24-vote/*.csv\"), VoteConfidenceModel(), max_trials=6).assign(cm=\"Self-Cons\")]\n",
    "dfs += [consistency_to_efficiency_plot(get_model_problem_summary(\"./resources/o3minilow-aime24-vote/*.csv\"), VoteConfidenceModel(), max_trials=10).assign(cm=\"Self-Cons\")]\n",
    "dfs += [consistency_to_efficiency_plot(get_model_problem_summary(\"./resources/o3minilow-aime24-vote/*.csv\"), VoteConfidenceModel(), max_trials=20).assign(cm=\"Self-Cons\")]\n",
    "dfs += [consistency_to_efficiency_plot(get_model_problem_summary(\"./resources/o3minilow-aime24-vote/*.csv\"), VoteConfidenceModel(), max_trials=40).assign(cm=\"Self-Cons\")]\n",
    "dfs += [consistency_to_efficiency_plot(get_model_problem_summary(\"./resources/o3minilow-aime24-vote/*.csv\"), VoteConfidenceModel(), max_trials=64).assign(cm=\"Self-Cons\")]\n",
    "dfs += [consistency_to_efficiency_plot(get_model_problem_summary(\"./resources/o3minilow-aime24-vote/*.csv\"), VoteConfidenceModel(), max_trials=128).assign(cm=\"Self-Cons\")]\n",
    "dfs += [consistency_to_efficiency_plot(get_model_problem_summary(\"./resources/o3minilow-aime24-vote/*.csv\"), MsprtConfidenceModel(beta=0.87), max_trials=40).assign(cm=\"mSPRT@40\")]\n",
    "dfs += [consistency_to_efficiency_plot(get_model_problem_summary(\"./resources/o3minilow-aime24-vote/*.csv\"), MsprtConfidenceModel(beta=0.8), max_trials=40).assign(cm=\"mSPRT@40\")]\n",
    "dfs += [consistency_to_efficiency_plot(get_model_problem_summary(\"./resources/o3minilow-aime24-vote/*.csv\"), MsprtConfidenceModel(beta=0.7), max_trials=40).assign(cm=\"mSPRT@40\")]\n",
    "dfs += [consistency_to_efficiency_plot(get_model_problem_summary(\"./resources/o3minilow-aime24-vote/*.csv\"), MsprtConfidenceModel(beta=0.5), max_trials=40).assign(cm=\"mSPRT@40\")]\n",
    "dfs += [consistency_to_efficiency_plot(get_model_problem_summary(\"./resources/o3minilow-aime24-vote/*.csv\"), MsprtConfidenceModel(beta=0.3), max_trials=40).assign(cm=\"mSPRT@40\")]\n",
    "dfs += [consistency_to_efficiency_plot(get_model_problem_summary(\"./resources/o3minilow-aime24-vote/*.csv\"), MsprtConfidenceModel(beta=0.1), max_trials=40).assign(cm=\"mSPRT@40\")]\n",
    "dfs += [consistency_to_efficiency_plot(get_model_problem_summary(\"./resources/o3minilow-aime24-vote/*.csv\"), SprtConfidenceModel(beta=0.92), max_trials=40).assign(cm=\"SPRT@40\")]\n",
    "dfs += [consistency_to_efficiency_plot(get_model_problem_summary(\"./resources/o3minilow-aime24-vote/*.csv\"), SprtConfidenceModel(beta=0.9), max_trials=40).assign(cm=\"SPRT@40\")]\n",
    "dfs += [consistency_to_efficiency_plot(get_model_problem_summary(\"./resources/o3minilow-aime24-vote/*.csv\"), SprtConfidenceModel(beta=0.8), max_trials=40).assign(cm=\"SPRT@40\")]\n",
    "dfs += [consistency_to_efficiency_plot(get_model_problem_summary(\"./resources/o3minilow-aime24-vote/*.csv\"), SprtConfidenceModel(beta=0.7), max_trials=40).assign(cm=\"SPRT@40\")]\n",
    "dfs += [consistency_to_efficiency_plot(get_model_problem_summary(\"./resources/o3minilow-aime24-vote/*.csv\"), SprtConfidenceModel(beta=0.6), max_trials=40).assign(cm=\"SPRT@40\")]\n",
    "dfs += [consistency_to_efficiency_plot(get_model_problem_summary(\"./resources/o3minilow-aime24-vote/*.csv\"), SprtConfidenceModel(beta=0.1), max_trials=40).assign(cm=\"SPRT@40\")]\n",
    "dfs += [consistency_to_efficiency_plot(get_model_problem_summary(\"./resources/o3minilow-aime24-vote/*.csv\"), BayesianPosteriorConfidenceModel(confidence_threshold=0.751), max_trials=40).assign(cm=\"Ada-Cons@40\")]\n",
    "dfs += [consistency_to_efficiency_plot(get_model_problem_summary(\"./resources/o3minilow-aime24-vote/*.csv\"), BayesianPosteriorConfidenceModel(confidence_threshold=0.8), max_trials=40).assign(cm=\"Ada-Cons@40\")]\n",
    "dfs += [consistency_to_efficiency_plot(get_model_problem_summary(\"./resources/o3minilow-aime24-vote/*.csv\"), BayesianPosteriorConfidenceModel(confidence_threshold=0.85), max_trials=40).assign(cm=\"Ada-Cons@40\")]\n",
    "dfs += [consistency_to_efficiency_plot(get_model_problem_summary(\"./resources/o3minilow-aime24-vote/*.csv\"), BayesianPosteriorConfidenceModel(confidence_threshold=0.875), max_trials=40).assign(cm=\"Ada-Cons@40\")]\n",
    "dfs += [consistency_to_efficiency_plot(get_model_problem_summary(\"./resources/o3minilow-aime24-vote/*.csv\"), BayesianPosteriorConfidenceModel(confidence_threshold=0.9), max_trials=40).assign(cm=\"Ada-Cons@40\")]\n",
    "dfs += [consistency_to_efficiency_plot(get_model_problem_summary(\"./resources/o3minilow-aime24-vote/*.csv\"), BayesianPosteriorConfidenceModel(confidence_threshold=0.95), max_trials=40).assign(cm=\"Ada-Cons@40\")]\n",
    "dfs += [consistency_to_efficiency_plot(get_model_problem_summary(\"./resources/o3minilow-aime24-vote/*.csv\"), PValueConfidenceModel(pvalue_threshold=0.4), max_trials=40).assign(cm=\"P-Value@40\")]\n",
    "dfs += [consistency_to_efficiency_plot(get_model_problem_summary(\"./resources/o3minilow-aime24-vote/*.csv\"), PValueConfidenceModel(pvalue_threshold=0.3), max_trials=40).assign(cm=\"P-Value@40\")]\n",
    "dfs += [consistency_to_efficiency_plot(get_model_problem_summary(\"./resources/o3minilow-aime24-vote/*.csv\"), PValueConfidenceModel(pvalue_threshold=0.25), max_trials=40).assign(cm=\"P-Value@40\")]\n",
    "dfs += [consistency_to_efficiency_plot(get_model_problem_summary(\"./resources/o3minilow-aime24-vote/*.csv\"), PValueConfidenceModel(pvalue_threshold=0.2), max_trials=40).assign(cm=\"P-Value@40\")]\n",
    "dfs += [consistency_to_efficiency_plot(get_model_problem_summary(\"./resources/o3minilow-aime24-vote/*.csv\"), PValueConfidenceModel(pvalue_threshold=0.15), max_trials=40).assign(cm=\"P-Value@40\")]\n",
    "dfs += [consistency_to_efficiency_plot(get_model_problem_summary(\"./resources/o3minilow-aime24-vote/*.csv\"), PValueConfidenceModel(pvalue_threshold=0.1), max_trials=40).assign(cm=\"P-Value@40\")]\n",
    "dfs += [consistency_to_efficiency_plot(get_model_problem_summary(\"./resources/o3minilow-aime24-vote/*.csv\"), PValueConfidenceModel(pvalue_threshold=0.05), max_trials=40).assign(cm=\"P-Value@40\")]\n",
    "dfs += [consistency_to_efficiency_plot(get_model_problem_summary(\"./resources/o3minilow-aime24-vote/*.csv\"), MsprtConfidenceModel(beta=0.87), max_trials=1024).assign(cm=\"mSPRT@1024\")]\n",
    "dfs += [consistency_to_efficiency_plot(get_model_problem_summary(\"./resources/o3minilow-aime24-vote/*.csv\"), MsprtConfidenceModel(beta=0.8), max_trials=1024).assign(cm=\"mSPRT@1024\")]\n",
    "dfs += [consistency_to_efficiency_plot(get_model_problem_summary(\"./resources/o3minilow-aime24-vote/*.csv\"), MsprtConfidenceModel(beta=0.7), max_trials=1024).assign(cm=\"mSPRT@1024\")]\n",
    "dfs += [consistency_to_efficiency_plot(get_model_problem_summary(\"./resources/o3minilow-aime24-vote/*.csv\"), MsprtConfidenceModel(beta=0.5), max_trials=1024).assign(cm=\"mSPRT@1024\")]\n",
    "dfs += [consistency_to_efficiency_plot(get_model_problem_summary(\"./resources/o3minilow-aime24-vote/*.csv\"), MsprtConfidenceModel(beta=0.3), max_trials=1024).assign(cm=\"mSPRT@1024\")]\n",
    "dfs += [consistency_to_efficiency_plot(get_model_problem_summary(\"./resources/o3minilow-aime24-vote/*.csv\"), MsprtConfidenceModel(beta=0.1), max_trials=1024).assign(cm=\"mSPRT@1024\")]\n",
    "dfs += [consistency_to_efficiency_plot(get_model_problem_summary(\"./resources/o3minilow-aime24-vote/*.csv\"), SprtConfidenceModel(beta=0.92), max_trials=1024).assign(cm=\"SPRT@1024\")]\n",
    "dfs += [consistency_to_efficiency_plot(get_model_problem_summary(\"./resources/o3minilow-aime24-vote/*.csv\"), SprtConfidenceModel(beta=0.9), max_trials=1024).assign(cm=\"SPRT@1024\")]\n",
    "dfs += [consistency_to_efficiency_plot(get_model_problem_summary(\"./resources/o3minilow-aime24-vote/*.csv\"), SprtConfidenceModel(beta=0.8), max_trials=1024).assign(cm=\"SPRT@1024\")]\n",
    "dfs += [consistency_to_efficiency_plot(get_model_problem_summary(\"./resources/o3minilow-aime24-vote/*.csv\"), SprtConfidenceModel(beta=0.7), max_trials=1024).assign(cm=\"SPRT@1024\")]\n",
    "dfs += [consistency_to_efficiency_plot(get_model_problem_summary(\"./resources/o3minilow-aime24-vote/*.csv\"), SprtConfidenceModel(beta=0.6), max_trials=1024).assign(cm=\"SPRT@1024\")]\n",
    "dfs += [consistency_to_efficiency_plot(get_model_problem_summary(\"./resources/o3minilow-aime24-vote/*.csv\"), SprtConfidenceModel(beta=0.1), max_trials=1024).assign(cm=\"SPRT@1024\")]\n",
    "dfs += [consistency_to_efficiency_plot(get_model_problem_summary(\"./resources/o3minilow-aime24-vote/*.csv\"), BayesianPosteriorConfidenceModel(confidence_threshold=0.751), max_trials=1024).assign(cm=\"Ada-Cons@1024\")]\n",
    "dfs += [consistency_to_efficiency_plot(get_model_problem_summary(\"./resources/o3minilow-aime24-vote/*.csv\"), BayesianPosteriorConfidenceModel(confidence_threshold=0.8), max_trials=1024).assign(cm=\"Ada-Cons@1024\")]\n",
    "dfs += [consistency_to_efficiency_plot(get_model_problem_summary(\"./resources/o3minilow-aime24-vote/*.csv\"), BayesianPosteriorConfidenceModel(confidence_threshold=0.85), max_trials=1024).assign(cm=\"Ada-Cons@1024\")]\n",
    "dfs += [consistency_to_efficiency_plot(get_model_problem_summary(\"./resources/o3minilow-aime24-vote/*.csv\"), BayesianPosteriorConfidenceModel(confidence_threshold=0.875), max_trials=1024).assign(cm=\"Ada-Cons@1024\")]\n",
    "dfs += [consistency_to_efficiency_plot(get_model_problem_summary(\"./resources/o3minilow-aime24-vote/*.csv\"), BayesianPosteriorConfidenceModel(confidence_threshold=0.9), max_trials=1024).assign(cm=\"Ada-Cons@1024\")]\n",
    "dfs += [consistency_to_efficiency_plot(get_model_problem_summary(\"./resources/o3minilow-aime24-vote/*.csv\"), BayesianPosteriorConfidenceModel(confidence_threshold=0.95), max_trials=1024).assign(cm=\"Ada-Cons@1024\")]\n",
    "dfs += [consistency_to_efficiency_plot(get_model_problem_summary(\"./resources/o3minilow-aime24-vote/*.csv\"), PValueConfidenceModel(pvalue_threshold=0.4), max_trials=1024).assign(cm=\"P-Value@1024\")]\n",
    "dfs += [consistency_to_efficiency_plot(get_model_problem_summary(\"./resources/o3minilow-aime24-vote/*.csv\"), PValueConfidenceModel(pvalue_threshold=0.3), max_trials=1024).assign(cm=\"P-Value@1024\")]\n",
    "dfs += [consistency_to_efficiency_plot(get_model_problem_summary(\"./resources/o3minilow-aime24-vote/*.csv\"), PValueConfidenceModel(pvalue_threshold=0.25), max_trials=1024).assign(cm=\"P-Value@1024\")]\n",
    "dfs += [consistency_to_efficiency_plot(get_model_problem_summary(\"./resources/o3minilow-aime24-vote/*.csv\"), PValueConfidenceModel(pvalue_threshold=0.2), max_trials=1024).assign(cm=\"P-Value@1024\")]\n",
    "dfs += [consistency_to_efficiency_plot(get_model_problem_summary(\"./resources/o3minilow-aime24-vote/*.csv\"), PValueConfidenceModel(pvalue_threshold=0.15), max_trials=1024).assign(cm=\"P-Value@1024\")]\n",
    "dfs += [consistency_to_efficiency_plot(get_model_problem_summary(\"./resources/o3minilow-aime24-vote/*.csv\"), PValueConfidenceModel(pvalue_threshold=0.1), max_trials=1024).assign(cm=\"P-Value@1024\")]\n",
    "dfs += [consistency_to_efficiency_plot(get_model_problem_summary(\"./resources/o3minilow-aime24-vote/*.csv\"), PValueConfidenceModel(pvalue_threshold=0.05), max_trials=1024).assign(cm=\"P-Value@1024\")]\n",
    "df = pd.concat(dfs)\n"
   ]
  },
  {
   "cell_type": "code",
   "execution_count": 1279,
   "metadata": {},
   "outputs": [
    {
     "data": {
      "text/plain": [
       "<Axes: xlabel='avg_nruns', ylabel='rates'>"
      ]
     },
     "execution_count": 1279,
     "metadata": {},
     "output_type": "execute_result"
    },
    {
     "data": {
      "image/png": "[encoded data removed]",
      "text/plain": [
       "<Figure size 1600x800 with 1 Axes>"
      ]
     },
     "metadata": {},
     "output_type": "display_data"
    }
   ],
   "source": [
    "import seaborn as sns\n",
    "import matplotlib\n",
    "plt.figure(figsize=(16, 8))\n",
    "plt.xscale(matplotlib.scale.LogScale('x', base=2))\n",
    "sns.lineplot(df, x=\"avg_nruns\", y=\"rates\", hue=\"cm\", marker=\"o\", alpha=.9, linewidth=3, errorbar=(\"ci\", 95))\n",
    "\n",
    "\n",
    "# sns.lineplot(df[df.cm==\"vote\"], x=\"nruns\", y=\"rates\", alpha=0.9)\n",
    "# sns.lineplot(df[df.cm==\"mSPRT\"], x=\"nruns\", y=\"rates\", alpha=0.9)"
   ]
  },
  {
   "cell_type": "code",
   "execution_count": null,
   "metadata": {},
   "outputs": [],
   "source": []
  },
  {
   "cell_type": "code",
   "execution_count": 1280,
   "metadata": {},
   "outputs": [
    {
     "data": {
      "application/vnd.jupyter.widget-view+json": {
       "model_id": "8e8993e773d44b5780c57703da214eb7",
       "version_major": 2,
       "version_minor": 0
      },
      "text/plain": [
       "  0%|          | 0/100 [00:00<?, ?it/s]"
      ]
     },
     "metadata": {},
     "output_type": "display_data"
    },
    {
     "data": {
      "application/vnd.jupyter.widget-view+json": {
       "model_id": "a81c49055f5b438982bb22aa7fd6df4b",
       "version_major": 2,
       "version_minor": 0
      },
      "text/plain": [
       "  0%|          | 0/100 [00:00<?, ?it/s]"
      ]
     },
     "metadata": {},
     "output_type": "display_data"
    },
    {
     "data": {
      "application/vnd.jupyter.widget-view+json": {
       "model_id": "1d94fdc9e79b470193da0ed345d7b440",
       "version_major": 2,
       "version_minor": 0
      },
      "text/plain": [
       "  0%|          | 0/100 [00:00<?, ?it/s]"
      ]
     },
     "metadata": {},
     "output_type": "display_data"
    },
    {
     "data": {
      "application/vnd.jupyter.widget-view+json": {
       "model_id": "c4f9894ac35046b8be6a7912852cd0fe",
       "version_major": 2,
       "version_minor": 0
      },
      "text/plain": [
       "  0%|          | 0/100 [00:00<?, ?it/s]"
      ]
     },
     "metadata": {},
     "output_type": "display_data"
    },
    {
     "data": {
      "application/vnd.jupyter.widget-view+json": {
       "model_id": "1799143d3af84b57be2df29bc387f77e",
       "version_major": 2,
       "version_minor": 0
      },
      "text/plain": [
       "  0%|          | 0/100 [00:00<?, ?it/s]"
      ]
     },
     "metadata": {},
     "output_type": "display_data"
    },
    {
     "data": {
      "application/vnd.jupyter.widget-view+json": {
       "model_id": "75226c3b0086406797b7c5c02274cbab",
       "version_major": 2,
       "version_minor": 0
      },
      "text/plain": [
       "  0%|          | 0/100 [00:00<?, ?it/s]"
      ]
     },
     "metadata": {},
     "output_type": "display_data"
    },
    {
     "data": {
      "application/vnd.jupyter.widget-view+json": {
       "model_id": "abb1cc6150bb4603a18aa294ff9e280e",
       "version_major": 2,
       "version_minor": 0
      },
      "text/plain": [
       "  0%|          | 0/100 [00:00<?, ?it/s]"
      ]
     },
     "metadata": {},
     "output_type": "display_data"
    },
    {
     "data": {
      "application/vnd.jupyter.widget-view+json": {
       "model_id": "c53bbc6a30294b0bbbbc65fe0368f0c2",
       "version_major": 2,
       "version_minor": 0
      },
      "text/plain": [
       "  0%|          | 0/100 [00:00<?, ?it/s]"
      ]
     },
     "metadata": {},
     "output_type": "display_data"
    },
    {
     "data": {
      "application/vnd.jupyter.widget-view+json": {
       "model_id": "7976c82dc3434cae9ff821e284f47b1d",
       "version_major": 2,
       "version_minor": 0
      },
      "text/plain": [
       "  0%|          | 0/100 [00:00<?, ?it/s]"
      ]
     },
     "metadata": {},
     "output_type": "display_data"
    },
    {
     "data": {
      "application/vnd.jupyter.widget-view+json": {
       "model_id": "35da89ba2ec3449ea542c65eb39cfabc",
       "version_major": 2,
       "version_minor": 0
      },
      "text/plain": [
       "  0%|          | 0/100 [00:00<?, ?it/s]"
      ]
     },
     "metadata": {},
     "output_type": "display_data"
    },
    {
     "data": {
      "application/vnd.jupyter.widget-view+json": {
       "model_id": "e28b7d27b86542f2ba28ec7715fdfcfb",
       "version_major": 2,
       "version_minor": 0
      },
      "text/plain": [
       "  0%|          | 0/100 [00:00<?, ?it/s]"
      ]
     },
     "metadata": {},
     "output_type": "display_data"
    },
    {
     "data": {
      "application/vnd.jupyter.widget-view+json": {
       "model_id": "0956ab857cd84994b8a202a7ec1acf81",
       "version_major": 2,
       "version_minor": 0
      },
      "text/plain": [
       "  0%|          | 0/100 [00:00<?, ?it/s]"
      ]
     },
     "metadata": {},
     "output_type": "display_data"
    },
    {
     "data": {
      "application/vnd.jupyter.widget-view+json": {
       "model_id": "9bfab128896a4ffabc8bfdd2f7df8db6",
       "version_major": 2,
       "version_minor": 0
      },
      "text/plain": [
       "  0%|          | 0/100 [00:00<?, ?it/s]"
      ]
     },
     "metadata": {},
     "output_type": "display_data"
    },
    {
     "data": {
      "application/vnd.jupyter.widget-view+json": {
       "model_id": "4bb1130a67d14dc6a9e8cfc80363b192",
       "version_major": 2,
       "version_minor": 0
      },
      "text/plain": [
       "  0%|          | 0/100 [00:00<?, ?it/s]"
      ]
     },
     "metadata": {},
     "output_type": "display_data"
    },
    {
     "data": {
      "application/vnd.jupyter.widget-view+json": {
       "model_id": "90d119da24a941d4af1ef11ba8a18a26",
       "version_major": 2,
       "version_minor": 0
      },
      "text/plain": [
       "  0%|          | 0/100 [00:00<?, ?it/s]"
      ]
     },
     "metadata": {},
     "output_type": "display_data"
    },
    {
     "data": {
      "application/vnd.jupyter.widget-view+json": {
       "model_id": "c75593ef999d471296bcf5631e289458",
       "version_major": 2,
       "version_minor": 0
      },
      "text/plain": [
       "  0%|          | 0/100 [00:00<?, ?it/s]"
      ]
     },
     "metadata": {},
     "output_type": "display_data"
    },
    {
     "data": {
      "application/vnd.jupyter.widget-view+json": {
       "model_id": "3c82b40dcc794f4b847c4204c3227cfa",
       "version_major": 2,
       "version_minor": 0
      },
      "text/plain": [
       "  0%|          | 0/100 [00:00<?, ?it/s]"
      ]
     },
     "metadata": {},
     "output_type": "display_data"
    },
    {
     "data": {
      "application/vnd.jupyter.widget-view+json": {
       "model_id": "01665aa61e1b42b4a6a6246cc1f7c47d",
       "version_major": 2,
       "version_minor": 0
      },
      "text/plain": [
       "  0%|          | 0/100 [00:00<?, ?it/s]"
      ]
     },
     "metadata": {},
     "output_type": "display_data"
    },
    {
     "data": {
      "application/vnd.jupyter.widget-view+json": {
       "model_id": "2f10463c3bb14f6ca81fb32588637ea9",
       "version_major": 2,
       "version_minor": 0
      },
      "text/plain": [
       "  0%|          | 0/100 [00:00<?, ?it/s]"
      ]
     },
     "metadata": {},
     "output_type": "display_data"
    },
    {
     "data": {
      "application/vnd.jupyter.widget-view+json": {
       "model_id": "2bb7cbff01424db38b04ea0664a083f5",
       "version_major": 2,
       "version_minor": 0
      },
      "text/plain": [
       "  0%|          | 0/100 [00:00<?, ?it/s]"
      ]
     },
     "metadata": {},
     "output_type": "display_data"
    },
    {
     "data": {
      "application/vnd.jupyter.widget-view+json": {
       "model_id": "90eecbe5b9c046a3bab8ff7f8996e359",
       "version_major": 2,
       "version_minor": 0
      },
      "text/plain": [
       "  0%|          | 0/100 [00:00<?, ?it/s]"
      ]
     },
     "metadata": {},
     "output_type": "display_data"
    },
    {
     "data": {
      "application/vnd.jupyter.widget-view+json": {
       "model_id": "5cb52c0fcb834046919c18bd930e4869",
       "version_major": 2,
       "version_minor": 0
      },
      "text/plain": [
       "  0%|          | 0/100 [00:00<?, ?it/s]"
      ]
     },
     "metadata": {},
     "output_type": "display_data"
    },
    {
     "data": {
      "application/vnd.jupyter.widget-view+json": {
       "model_id": "3dededc7eef344e1bb03c17bd284a3d1",
       "version_major": 2,
       "version_minor": 0
      },
      "text/plain": [
       "  0%|          | 0/100 [00:00<?, ?it/s]"
      ]
     },
     "metadata": {},
     "output_type": "display_data"
    },
    {
     "data": {
      "application/vnd.jupyter.widget-view+json": {
       "model_id": "dd039d5dd4bf47ffabc94f67ef7e4299",
       "version_major": 2,
       "version_minor": 0
      },
      "text/plain": [
       "  0%|          | 0/100 [00:00<?, ?it/s]"
      ]
     },
     "metadata": {},
     "output_type": "display_data"
    },
    {
     "data": {
      "application/vnd.jupyter.widget-view+json": {
       "model_id": "2d11479c22d04ca5b3c6c3c2b5c264a1",
       "version_major": 2,
       "version_minor": 0
      },
      "text/plain": [
       "  0%|          | 0/100 [00:00<?, ?it/s]"
      ]
     },
     "metadata": {},
     "output_type": "display_data"
    },
    {
     "data": {
      "application/vnd.jupyter.widget-view+json": {
       "model_id": "19c5182f6a7441e79e67d3c7000b87e0",
       "version_major": 2,
       "version_minor": 0
      },
      "text/plain": [
       "  0%|          | 0/100 [00:00<?, ?it/s]"
      ]
     },
     "metadata": {},
     "output_type": "display_data"
    },
    {
     "data": {
      "application/vnd.jupyter.widget-view+json": {
       "model_id": "4d5d6a8aeec143cdaa023718435eaef9",
       "version_major": 2,
       "version_minor": 0
      },
      "text/plain": [
       "  0%|          | 0/100 [00:00<?, ?it/s]"
      ]
     },
     "metadata": {},
     "output_type": "display_data"
    },
    {
     "data": {
      "application/vnd.jupyter.widget-view+json": {
       "model_id": "05d23c4b09e44254a3211c0c41aa0288",
       "version_major": 2,
       "version_minor": 0
      },
      "text/plain": [
       "  0%|          | 0/100 [00:00<?, ?it/s]"
      ]
     },
     "metadata": {},
     "output_type": "display_data"
    },
    {
     "data": {
      "application/vnd.jupyter.widget-view+json": {
       "model_id": "88c00b027e974cde9ea549ecce32f668",
       "version_major": 2,
       "version_minor": 0
      },
      "text/plain": [
       "  0%|          | 0/100 [00:00<?, ?it/s]"
      ]
     },
     "metadata": {},
     "output_type": "display_data"
    },
    {
     "data": {
      "application/vnd.jupyter.widget-view+json": {
       "model_id": "bd90faf613e4497dad82944ef1d2e320",
       "version_major": 2,
       "version_minor": 0
      },
      "text/plain": [
       "  0%|          | 0/100 [00:00<?, ?it/s]"
      ]
     },
     "metadata": {},
     "output_type": "display_data"
    },
    {
     "data": {
      "application/vnd.jupyter.widget-view+json": {
       "model_id": "867484edc9ed4a7480d060cb9088650b",
       "version_major": 2,
       "version_minor": 0
      },
      "text/plain": [
       "  0%|          | 0/100 [00:00<?, ?it/s]"
      ]
     },
     "metadata": {},
     "output_type": "display_data"
    },
    {
     "data": {
      "application/vnd.jupyter.widget-view+json": {
       "model_id": "2ce2c4e792504044b9f79f60f8db3bad",
       "version_major": 2,
       "version_minor": 0
      },
      "text/plain": [
       "  0%|          | 0/100 [00:00<?, ?it/s]"
      ]
     },
     "metadata": {},
     "output_type": "display_data"
    },
    {
     "data": {
      "application/vnd.jupyter.widget-view+json": {
       "model_id": "a99dba1df581466aa4dbb29573ce1d38",
       "version_major": 2,
       "version_minor": 0
      },
      "text/plain": [
       "  0%|          | 0/100 [00:00<?, ?it/s]"
      ]
     },
     "metadata": {},
     "output_type": "display_data"
    },
    {
     "data": {
      "application/vnd.jupyter.widget-view+json": {
       "model_id": "a7f237fe70f04dc98ad97f5461f8bec2",
       "version_major": 2,
       "version_minor": 0
      },
      "text/plain": [
       "  0%|          | 0/100 [00:00<?, ?it/s]"
      ]
     },
     "metadata": {},
     "output_type": "display_data"
    },
    {
     "data": {
      "application/vnd.jupyter.widget-view+json": {
       "model_id": "792167cdc0474cb8821d0211b4358e5c",
       "version_major": 2,
       "version_minor": 0
      },
      "text/plain": [
       "  0%|          | 0/100 [00:00<?, ?it/s]"
      ]
     },
     "metadata": {},
     "output_type": "display_data"
    },
    {
     "data": {
      "application/vnd.jupyter.widget-view+json": {
       "model_id": "f3bc7d91d9144b2cb1ed864a44f41d36",
       "version_major": 2,
       "version_minor": 0
      },
      "text/plain": [
       "  0%|          | 0/100 [00:00<?, ?it/s]"
      ]
     },
     "metadata": {},
     "output_type": "display_data"
    },
    {
     "data": {
      "application/vnd.jupyter.widget-view+json": {
       "model_id": "f7e4c8cea4c3443086a26b84dfa89089",
       "version_major": 2,
       "version_minor": 0
      },
      "text/plain": [
       "  0%|          | 0/100 [00:00<?, ?it/s]"
      ]
     },
     "metadata": {},
     "output_type": "display_data"
    },
    {
     "data": {
      "application/vnd.jupyter.widget-view+json": {
       "model_id": "f1f859d8266847ea8a6566e0edcb223e",
       "version_major": 2,
       "version_minor": 0
      },
      "text/plain": [
       "  0%|          | 0/100 [00:00<?, ?it/s]"
      ]
     },
     "metadata": {},
     "output_type": "display_data"
    },
    {
     "data": {
      "application/vnd.jupyter.widget-view+json": {
       "model_id": "04e16c2c59cf418e80f8b176cb406592",
       "version_major": 2,
       "version_minor": 0
      },
      "text/plain": [
       "  0%|          | 0/100 [00:00<?, ?it/s]"
      ]
     },
     "metadata": {},
     "output_type": "display_data"
    },
    {
     "data": {
      "application/vnd.jupyter.widget-view+json": {
       "model_id": "cd4a50d34774483ca02becae15b51e76",
       "version_major": 2,
       "version_minor": 0
      },
      "text/plain": [
       "  0%|          | 0/100 [00:00<?, ?it/s]"
      ]
     },
     "metadata": {},
     "output_type": "display_data"
    },
    {
     "data": {
      "application/vnd.jupyter.widget-view+json": {
       "model_id": "bdeeb481d9ad45f4b9091727e2e688be",
       "version_major": 2,
       "version_minor": 0
      },
      "text/plain": [
       "  0%|          | 0/100 [00:00<?, ?it/s]"
      ]
     },
     "metadata": {},
     "output_type": "display_data"
    },
    {
     "data": {
      "application/vnd.jupyter.widget-view+json": {
       "model_id": "791cb7eb1a2c40b0b35304289abdd59a",
       "version_major": 2,
       "version_minor": 0
      },
      "text/plain": [
       "  0%|          | 0/100 [00:00<?, ?it/s]"
      ]
     },
     "metadata": {},
     "output_type": "display_data"
    },
    {
     "data": {
      "application/vnd.jupyter.widget-view+json": {
       "model_id": "f6ccd057e20f436b9584bccb52995adb",
       "version_major": 2,
       "version_minor": 0
      },
      "text/plain": [
       "  0%|          | 0/100 [00:00<?, ?it/s]"
      ]
     },
     "metadata": {},
     "output_type": "display_data"
    },
    {
     "data": {
      "application/vnd.jupyter.widget-view+json": {
       "model_id": "b1aea14db97e435fbc82cf4cff68d66b",
       "version_major": 2,
       "version_minor": 0
      },
      "text/plain": [
       "  0%|          | 0/100 [00:00<?, ?it/s]"
      ]
     },
     "metadata": {},
     "output_type": "display_data"
    },
    {
     "data": {
      "application/vnd.jupyter.widget-view+json": {
       "model_id": "23e1217ab11149e58e10509455520dd6",
       "version_major": 2,
       "version_minor": 0
      },
      "text/plain": [
       "  0%|          | 0/100 [00:00<?, ?it/s]"
      ]
     },
     "metadata": {},
     "output_type": "display_data"
    },
    {
     "data": {
      "application/vnd.jupyter.widget-view+json": {
       "model_id": "d749c05ac286414898ab8a81ece41952",
       "version_major": 2,
       "version_minor": 0
      },
      "text/plain": [
       "  0%|          | 0/100 [00:00<?, ?it/s]"
      ]
     },
     "metadata": {},
     "output_type": "display_data"
    },
    {
     "data": {
      "application/vnd.jupyter.widget-view+json": {
       "model_id": "1acb972f7f4945ae98949e6b4942312d",
       "version_major": 2,
       "version_minor": 0
      },
      "text/plain": [
       "  0%|          | 0/100 [00:00<?, ?it/s]"
      ]
     },
     "metadata": {},
     "output_type": "display_data"
    },
    {
     "data": {
      "application/vnd.jupyter.widget-view+json": {
       "model_id": "b4cbcfd017234e5ab3b9ec4513e19026",
       "version_major": 2,
       "version_minor": 0
      },
      "text/plain": [
       "  0%|          | 0/100 [00:00<?, ?it/s]"
      ]
     },
     "metadata": {},
     "output_type": "display_data"
    },
    {
     "data": {
      "application/vnd.jupyter.widget-view+json": {
       "model_id": "4f44c0d5768c4a2bb629e5256ec6feaa",
       "version_major": 2,
       "version_minor": 0
      },
      "text/plain": [
       "  0%|          | 0/100 [00:00<?, ?it/s]"
      ]
     },
     "metadata": {},
     "output_type": "display_data"
    },
    {
     "data": {
      "application/vnd.jupyter.widget-view+json": {
       "model_id": "523d0a3ccceb4fff9640e86ad2e2b2cf",
       "version_major": 2,
       "version_minor": 0
      },
      "text/plain": [
       "  0%|          | 0/100 [00:00<?, ?it/s]"
      ]
     },
     "metadata": {},
     "output_type": "display_data"
    },
    {
     "data": {
      "application/vnd.jupyter.widget-view+json": {
       "model_id": "5fb2c0afb1364d63947b8d004e8e8502",
       "version_major": 2,
       "version_minor": 0
      },
      "text/plain": [
       "  0%|          | 0/100 [00:00<?, ?it/s]"
      ]
     },
     "metadata": {},
     "output_type": "display_data"
    },
    {
     "data": {
      "application/vnd.jupyter.widget-view+json": {
       "model_id": "b83397c4e5fb460f89ccceb72f0aceb7",
       "version_major": 2,
       "version_minor": 0
      },
      "text/plain": [
       "  0%|          | 0/100 [00:00<?, ?it/s]"
      ]
     },
     "metadata": {},
     "output_type": "display_data"
    },
    {
     "data": {
      "application/vnd.jupyter.widget-view+json": {
       "model_id": "8fc15de3cbca4206bfd5c7dddd59283d",
       "version_major": 2,
       "version_minor": 0
      },
      "text/plain": [
       "  0%|          | 0/100 [00:00<?, ?it/s]"
      ]
     },
     "metadata": {},
     "output_type": "display_data"
    },
    {
     "data": {
      "application/vnd.jupyter.widget-view+json": {
       "model_id": "5d32087ba1644cceba63524b2b76ad03",
       "version_major": 2,
       "version_minor": 0
      },
      "text/plain": [
       "  0%|          | 0/100 [00:00<?, ?it/s]"
      ]
     },
     "metadata": {},
     "output_type": "display_data"
    },
    {
     "data": {
      "application/vnd.jupyter.widget-view+json": {
       "model_id": "a7f67ba331b344cb9f9834c63415188c",
       "version_major": 2,
       "version_minor": 0
      },
      "text/plain": [
       "  0%|          | 0/100 [00:00<?, ?it/s]"
      ]
     },
     "metadata": {},
     "output_type": "display_data"
    },
    {
     "data": {
      "application/vnd.jupyter.widget-view+json": {
       "model_id": "4fd2bd6021cb41158eaad3565b57d8d3",
       "version_major": 2,
       "version_minor": 0
      },
      "text/plain": [
       "  0%|          | 0/100 [00:00<?, ?it/s]"
      ]
     },
     "metadata": {},
     "output_type": "display_data"
    },
    {
     "data": {
      "application/vnd.jupyter.widget-view+json": {
       "model_id": "119720e7b24549af9cdccd9acbf027ba",
       "version_major": 2,
       "version_minor": 0
      },
      "text/plain": [
       "  0%|          | 0/100 [00:00<?, ?it/s]"
      ]
     },
     "metadata": {},
     "output_type": "display_data"
    },
    {
     "data": {
      "application/vnd.jupyter.widget-view+json": {
       "model_id": "f776dc12aa1b41d5a1ffe4d81953a333",
       "version_major": 2,
       "version_minor": 0
      },
      "text/plain": [
       "  0%|          | 0/100 [00:00<?, ?it/s]"
      ]
     },
     "metadata": {},
     "output_type": "display_data"
    },
    {
     "data": {
      "application/vnd.jupyter.widget-view+json": {
       "model_id": "f60a7e38d1244a62b67fe4d0274b6afd",
       "version_major": 2,
       "version_minor": 0
      },
      "text/plain": [
       "  0%|          | 0/100 [00:00<?, ?it/s]"
      ]
     },
     "metadata": {},
     "output_type": "display_data"
    },
    {
     "data": {
      "application/vnd.jupyter.widget-view+json": {
       "model_id": "9290cfaf77a94ffb9abb2e4eca697421",
       "version_major": 2,
       "version_minor": 0
      },
      "text/plain": [
       "  0%|          | 0/100 [00:00<?, ?it/s]"
      ]
     },
     "metadata": {},
     "output_type": "display_data"
    },
    {
     "data": {
      "application/vnd.jupyter.widget-view+json": {
       "model_id": "e864334a875d4cb8b74fb44235ee0270",
       "version_major": 2,
       "version_minor": 0
      },
      "text/plain": [
       "  0%|          | 0/100 [00:00<?, ?it/s]"
      ]
     },
     "metadata": {},
     "output_type": "display_data"
    }
   ],
   "source": [
    "dfs = []\n",
    "dfs += [consistency_to_efficiency_plot(get_model_problem_summary(\"./resources/o3minihigh-aime24-vote/*.csv\"), VoteConfidenceModel(), max_trials=1).assign(cm=\"Self-Cons\")]\n",
    "dfs += [consistency_to_efficiency_plot(get_model_problem_summary(\"./resources/o3minihigh-aime24-vote/*.csv\"), VoteConfidenceModel(), max_trials=2).assign(cm=\"Self-Cons\")]\n",
    "dfs += [consistency_to_efficiency_plot(get_model_problem_summary(\"./resources/o3minihigh-aime24-vote/*.csv\"), VoteConfidenceModel(), max_trials=3).assign(cm=\"Self-Cons\")]\n",
    "dfs += [consistency_to_efficiency_plot(get_model_problem_summary(\"./resources/o3minihigh-aime24-vote/*.csv\"), VoteConfidenceModel(), max_trials=4).assign(cm=\"Self-Cons\")]\n",
    "dfs += [consistency_to_efficiency_plot(get_model_problem_summary(\"./resources/o3minihigh-aime24-vote/*.csv\"), VoteConfidenceModel(), max_trials=5).assign(cm=\"Self-Cons\")]\n",
    "dfs += [consistency_to_efficiency_plot(get_model_problem_summary(\"./resources/o3minihigh-aime24-vote/*.csv\"), VoteConfidenceModel(), max_trials=6).assign(cm=\"Self-Cons\")]\n",
    "dfs += [consistency_to_efficiency_plot(get_model_problem_summary(\"./resources/o3minihigh-aime24-vote/*.csv\"), VoteConfidenceModel(), max_trials=10).assign(cm=\"Self-Cons\")]\n",
    "dfs += [consistency_to_efficiency_plot(get_model_problem_summary(\"./resources/o3minihigh-aime24-vote/*.csv\"), VoteConfidenceModel(), max_trials=20).assign(cm=\"Self-Cons\")]\n",
    "dfs += [consistency_to_efficiency_plot(get_model_problem_summary(\"./resources/o3minihigh-aime24-vote/*.csv\"), VoteConfidenceModel(), max_trials=40).assign(cm=\"Self-Cons\")]\n",
    "dfs += [consistency_to_efficiency_plot(get_model_problem_summary(\"./resources/o3minihigh-aime24-vote/*.csv\"), VoteConfidenceModel(), max_trials=64).assign(cm=\"Self-Cons\")]\n",
    "dfs += [consistency_to_efficiency_plot(get_model_problem_summary(\"./resources/o3minihigh-aime24-vote/*.csv\"), VoteConfidenceModel(), max_trials=128).assign(cm=\"Self-Cons\")]\n",
    "dfs += [consistency_to_efficiency_plot(get_model_problem_summary(\"./resources/o3minihigh-aime24-vote/*.csv\"), MsprtConfidenceModel(beta=0.87), max_trials=40).assign(cm=\"mSPRT@40\")]\n",
    "dfs += [consistency_to_efficiency_plot(get_model_problem_summary(\"./resources/o3minihigh-aime24-vote/*.csv\"), MsprtConfidenceModel(beta=0.8), max_trials=40).assign(cm=\"mSPRT@40\")]\n",
    "dfs += [consistency_to_efficiency_plot(get_model_problem_summary(\"./resources/o3minihigh-aime24-vote/*.csv\"), MsprtConfidenceModel(beta=0.7), max_trials=40).assign(cm=\"mSPRT@40\")]\n",
    "dfs += [consistency_to_efficiency_plot(get_model_problem_summary(\"./resources/o3minihigh-aime24-vote/*.csv\"), MsprtConfidenceModel(beta=0.5), max_trials=40).assign(cm=\"mSPRT@40\")]\n",
    "dfs += [consistency_to_efficiency_plot(get_model_problem_summary(\"./resources/o3minihigh-aime24-vote/*.csv\"), MsprtConfidenceModel(beta=0.3), max_trials=40).assign(cm=\"mSPRT@40\")]\n",
    "dfs += [consistency_to_efficiency_plot(get_model_problem_summary(\"./resources/o3minihigh-aime24-vote/*.csv\"), MsprtConfidenceModel(beta=0.1), max_trials=40).assign(cm=\"mSPRT@40\")]\n",
    "dfs += [consistency_to_efficiency_plot(get_model_problem_summary(\"./resources/o3minihigh-aime24-vote/*.csv\"), SprtConfidenceModel(beta=0.92), max_trials=40).assign(cm=\"SPRT@40\")]\n",
    "dfs += [consistency_to_efficiency_plot(get_model_problem_summary(\"./resources/o3minihigh-aime24-vote/*.csv\"), SprtConfidenceModel(beta=0.9), max_trials=40).assign(cm=\"SPRT@40\")]\n",
    "dfs += [consistency_to_efficiency_plot(get_model_problem_summary(\"./resources/o3minihigh-aime24-vote/*.csv\"), SprtConfidenceModel(beta=0.8), max_trials=40).assign(cm=\"SPRT@40\")]\n",
    "dfs += [consistency_to_efficiency_plot(get_model_problem_summary(\"./resources/o3minihigh-aime24-vote/*.csv\"), SprtConfidenceModel(beta=0.7), max_trials=40).assign(cm=\"SPRT@40\")]\n",
    "dfs += [consistency_to_efficiency_plot(get_model_problem_summary(\"./resources/o3minihigh-aime24-vote/*.csv\"), SprtConfidenceModel(beta=0.6), max_trials=40).assign(cm=\"SPRT@40\")]\n",
    "dfs += [consistency_to_efficiency_plot(get_model_problem_summary(\"./resources/o3minihigh-aime24-vote/*.csv\"), SprtConfidenceModel(beta=0.1), max_trials=40).assign(cm=\"SPRT@40\")]\n",
    "dfs += [consistency_to_efficiency_plot(get_model_problem_summary(\"./resources/o3minihigh-aime24-vote/*.csv\"), BayesianPosteriorConfidenceModel(confidence_threshold=0.751), max_trials=40).assign(cm=\"Ada-Cons@40\")]\n",
    "dfs += [consistency_to_efficiency_plot(get_model_problem_summary(\"./resources/o3minihigh-aime24-vote/*.csv\"), BayesianPosteriorConfidenceModel(confidence_threshold=0.8), max_trials=40).assign(cm=\"Ada-Cons@40\")]\n",
    "dfs += [consistency_to_efficiency_plot(get_model_problem_summary(\"./resources/o3minihigh-aime24-vote/*.csv\"), BayesianPosteriorConfidenceModel(confidence_threshold=0.85), max_trials=40).assign(cm=\"Ada-Cons@40\")]\n",
    "dfs += [consistency_to_efficiency_plot(get_model_problem_summary(\"./resources/o3minihigh-aime24-vote/*.csv\"), BayesianPosteriorConfidenceModel(confidence_threshold=0.875), max_trials=40).assign(cm=\"Ada-Cons@40\")]\n",
    "dfs += [consistency_to_efficiency_plot(get_model_problem_summary(\"./resources/o3minihigh-aime24-vote/*.csv\"), BayesianPosteriorConfidenceModel(confidence_threshold=0.9), max_trials=40).assign(cm=\"Ada-Cons@40\")]\n",
    "dfs += [consistency_to_efficiency_plot(get_model_problem_summary(\"./resources/o3minihigh-aime24-vote/*.csv\"), BayesianPosteriorConfidenceModel(confidence_threshold=0.95), max_trials=40).assign(cm=\"Ada-Cons@40\")]\n",
    "dfs += [consistency_to_efficiency_plot(get_model_problem_summary(\"./resources/o3minihigh-aime24-vote/*.csv\"), PValueConfidenceModel(pvalue_threshold=0.4), max_trials=40).assign(cm=\"P-Value@40\")]\n",
    "dfs += [consistency_to_efficiency_plot(get_model_problem_summary(\"./resources/o3minihigh-aime24-vote/*.csv\"), PValueConfidenceModel(pvalue_threshold=0.3), max_trials=40).assign(cm=\"P-Value@40\")]\n",
    "dfs += [consistency_to_efficiency_plot(get_model_problem_summary(\"./resources/o3minihigh-aime24-vote/*.csv\"), PValueConfidenceModel(pvalue_threshold=0.25), max_trials=40).assign(cm=\"P-Value@40\")]\n",
    "dfs += [consistency_to_efficiency_plot(get_model_problem_summary(\"./resources/o3minihigh-aime24-vote/*.csv\"), PValueConfidenceModel(pvalue_threshold=0.2), max_trials=40).assign(cm=\"P-Value@40\")]\n",
    "dfs += [consistency_to_efficiency_plot(get_model_problem_summary(\"./resources/o3minihigh-aime24-vote/*.csv\"), PValueConfidenceModel(pvalue_threshold=0.15), max_trials=40).assign(cm=\"P-Value@40\")]\n",
    "dfs += [consistency_to_efficiency_plot(get_model_problem_summary(\"./resources/o3minihigh-aime24-vote/*.csv\"), PValueConfidenceModel(pvalue_threshold=0.1), max_trials=40).assign(cm=\"P-Value@40\")]\n",
    "dfs += [consistency_to_efficiency_plot(get_model_problem_summary(\"./resources/o3minihigh-aime24-vote/*.csv\"), PValueConfidenceModel(pvalue_threshold=0.05), max_trials=40).assign(cm=\"P-Value@40\")]\n",
    "dfs += [consistency_to_efficiency_plot(get_model_problem_summary(\"./resources/o3minihigh-aime24-vote/*.csv\"), MsprtConfidenceModel(beta=0.87), max_trials=1024).assign(cm=\"mSPRT@1024\")]\n",
    "dfs += [consistency_to_efficiency_plot(get_model_problem_summary(\"./resources/o3minihigh-aime24-vote/*.csv\"), MsprtConfidenceModel(beta=0.8), max_trials=1024).assign(cm=\"mSPRT@1024\")]\n",
    "dfs += [consistency_to_efficiency_plot(get_model_problem_summary(\"./resources/o3minihigh-aime24-vote/*.csv\"), MsprtConfidenceModel(beta=0.7), max_trials=1024).assign(cm=\"mSPRT@1024\")]\n",
    "dfs += [consistency_to_efficiency_plot(get_model_problem_summary(\"./resources/o3minihigh-aime24-vote/*.csv\"), MsprtConfidenceModel(beta=0.5), max_trials=1024).assign(cm=\"mSPRT@1024\")]\n",
    "dfs += [consistency_to_efficiency_plot(get_model_problem_summary(\"./resources/o3minihigh-aime24-vote/*.csv\"), MsprtConfidenceModel(beta=0.3), max_trials=1024).assign(cm=\"mSPRT@1024\")]\n",
    "dfs += [consistency_to_efficiency_plot(get_model_problem_summary(\"./resources/o3minihigh-aime24-vote/*.csv\"), MsprtConfidenceModel(beta=0.1), max_trials=1024).assign(cm=\"mSPRT@1024\")]\n",
    "dfs += [consistency_to_efficiency_plot(get_model_problem_summary(\"./resources/o3minihigh-aime24-vote/*.csv\"), SprtConfidenceModel(beta=0.92), max_trials=1024).assign(cm=\"SPRT@1024\")]\n",
    "dfs += [consistency_to_efficiency_plot(get_model_problem_summary(\"./resources/o3minihigh-aime24-vote/*.csv\"), SprtConfidenceModel(beta=0.9), max_trials=1024).assign(cm=\"SPRT@1024\")]\n",
    "dfs += [consistency_to_efficiency_plot(get_model_problem_summary(\"./resources/o3minihigh-aime24-vote/*.csv\"), SprtConfidenceModel(beta=0.8), max_trials=1024).assign(cm=\"SPRT@1024\")]\n",
    "dfs += [consistency_to_efficiency_plot(get_model_problem_summary(\"./resources/o3minihigh-aime24-vote/*.csv\"), SprtConfidenceModel(beta=0.7), max_trials=1024).assign(cm=\"SPRT@1024\")]\n",
    "dfs += [consistency_to_efficiency_plot(get_model_problem_summary(\"./resources/o3minihigh-aime24-vote/*.csv\"), SprtConfidenceModel(beta=0.6), max_trials=1024).assign(cm=\"SPRT@1024\")]\n",
    "dfs += [consistency_to_efficiency_plot(get_model_problem_summary(\"./resources/o3minihigh-aime24-vote/*.csv\"), SprtConfidenceModel(beta=0.1), max_trials=1024).assign(cm=\"SPRT@1024\")]\n",
    "dfs += [consistency_to_efficiency_plot(get_model_problem_summary(\"./resources/o3minihigh-aime24-vote/*.csv\"), BayesianPosteriorConfidenceModel(confidence_threshold=0.751), max_trials=1024).assign(cm=\"Ada-Cons@1024\")]\n",
    "dfs += [consistency_to_efficiency_plot(get_model_problem_summary(\"./resources/o3minihigh-aime24-vote/*.csv\"), BayesianPosteriorConfidenceModel(confidence_threshold=0.8), max_trials=1024).assign(cm=\"Ada-Cons@1024\")]\n",
    "dfs += [consistency_to_efficiency_plot(get_model_problem_summary(\"./resources/o3minihigh-aime24-vote/*.csv\"), BayesianPosteriorConfidenceModel(confidence_threshold=0.85), max_trials=1024).assign(cm=\"Ada-Cons@1024\")]\n",
    "dfs += [consistency_to_efficiency_plot(get_model_problem_summary(\"./resources/o3minihigh-aime24-vote/*.csv\"), BayesianPosteriorConfidenceModel(confidence_threshold=0.875), max_trials=1024).assign(cm=\"Ada-Cons@1024\")]\n",
    "dfs += [consistency_to_efficiency_plot(get_model_problem_summary(\"./resources/o3minihigh-aime24-vote/*.csv\"), BayesianPosteriorConfidenceModel(confidence_threshold=0.9), max_trials=1024).assign(cm=\"Ada-Cons@1024\")]\n",
    "dfs += [consistency_to_efficiency_plot(get_model_problem_summary(\"./resources/o3minihigh-aime24-vote/*.csv\"), BayesianPosteriorConfidenceModel(confidence_threshold=0.95), max_trials=1024).assign(cm=\"Ada-Cons@1024\")]\n",
    "dfs += [consistency_to_efficiency_plot(get_model_problem_summary(\"./resources/o3minihigh-aime24-vote/*.csv\"), PValueConfidenceModel(pvalue_threshold=0.4), max_trials=1024).assign(cm=\"P-Value@1024\")]\n",
    "dfs += [consistency_to_efficiency_plot(get_model_problem_summary(\"./resources/o3minihigh-aime24-vote/*.csv\"), PValueConfidenceModel(pvalue_threshold=0.3), max_trials=1024).assign(cm=\"P-Value@1024\")]\n",
    "dfs += [consistency_to_efficiency_plot(get_model_problem_summary(\"./resources/o3minihigh-aime24-vote/*.csv\"), PValueConfidenceModel(pvalue_threshold=0.25), max_trials=1024).assign(cm=\"P-Value@1024\")]\n",
    "dfs += [consistency_to_efficiency_plot(get_model_problem_summary(\"./resources/o3minihigh-aime24-vote/*.csv\"), PValueConfidenceModel(pvalue_threshold=0.2), max_trials=1024).assign(cm=\"P-Value@1024\")]\n",
    "dfs += [consistency_to_efficiency_plot(get_model_problem_summary(\"./resources/o3minihigh-aime24-vote/*.csv\"), PValueConfidenceModel(pvalue_threshold=0.15), max_trials=1024).assign(cm=\"P-Value@1024\")]\n",
    "dfs += [consistency_to_efficiency_plot(get_model_problem_summary(\"./resources/o3minihigh-aime24-vote/*.csv\"), PValueConfidenceModel(pvalue_threshold=0.1), max_trials=1024).assign(cm=\"P-Value@1024\")]\n",
    "dfs += [consistency_to_efficiency_plot(get_model_problem_summary(\"./resources/o3minihigh-aime24-vote/*.csv\"), PValueConfidenceModel(pvalue_threshold=0.05), max_trials=1024).assign(cm=\"P-Value@1024\")]\n",
    "df = pd.concat(dfs)"
   ]
  },
  {
   "cell_type": "code",
   "execution_count": 1281,
   "metadata": {},
   "outputs": [
    {
     "data": {
      "text/plain": [
       "<Axes: xlabel='avg_nruns', ylabel='rates'>"
      ]
     },
     "execution_count": 1281,
     "metadata": {},
     "output_type": "execute_result"
    },
    {
     "data": {
      "image/png": "[encoded data removed]",
      "text/plain": [
       "<Figure size 1600x800 with 1 Axes>"
      ]
     },
     "metadata": {},
     "output_type": "display_data"
    }
   ],
   "source": [
    "import seaborn as sns\n",
    "import matplotlib\n",
    "plt.figure(figsize=(16, 8))\n",
    "plt.xscale(matplotlib.scale.LogScale('x', base=2))\n",
    "sns.lineplot(df, x=\"avg_nruns\", y=\"rates\", hue=\"cm\", marker=\"o\", alpha=.9, linewidth=3, errorbar=(\"ci\", 95))\n"
   ]
  },
  {
   "cell_type": "code",
   "execution_count": null,
   "metadata": {},
   "outputs": [],
   "source": []
  },
  {
   "cell_type": "code",
   "execution_count": null,
   "metadata": {},
   "outputs": [],
   "source": []
  },
  {
   "cell_type": "code",
   "execution_count": null,
   "metadata": {},
   "outputs": [],
   "source": []
  },
  {
   "cell_type": "code",
   "execution_count": null,
   "metadata": {},
   "outputs": [
    {
     "data": {
      "application/vnd.jupyter.widget-view+json": {
       "model_id": "447375da4f1e4d2da3a2229bbbccb519",
       "version_major": 2,
       "version_minor": 0
      },
      "text/plain": [
       "  0%|          | 0/100 [00:00<?, ?it/s]"
      ]
     },
     "metadata": {},
     "output_type": "display_data"
    },
    {
     "data": {
      "text/plain": [
       "count    100.000000\n",
       "mean       4.404333\n",
       "std        0.462819\n",
       "min        3.300000\n",
       "25%        4.100000\n",
       "50%        4.350000\n",
       "75%        4.666667\n",
       "max        6.733333\n",
       "Name: nruns, dtype: float64"
      ]
     },
     "execution_count": 1164,
     "metadata": {},
     "output_type": "execute_result"
    }
   ],
   "source": [
    "consistency_to_efficiency_plot(get_model_problem_summary(\"./resources/o3minilow-aime24-vote/*.csv\"), MsprtConfidenceModel(beta=0.87)).nruns.describe()"
   ]
  },
  {
   "cell_type": "code",
   "execution_count": 1157,
   "metadata": {},
   "outputs": [
    {
     "data": {
      "application/vnd.jupyter.widget-view+json": {
       "model_id": "5eb698b2a2634a96b7cd18b863551968",
       "version_major": 2,
       "version_minor": 0
      },
      "text/plain": [
       "  0%|          | 0/100 [00:00<?, ?it/s]"
      ]
     },
     "metadata": {},
     "output_type": "display_data"
    },
    {
     "data": {
      "text/plain": [
       "0     4.233333\n",
       "1     5.700000\n",
       "2     5.200000\n",
       "3     4.566667\n",
       "4     5.033333\n",
       "        ...   \n",
       "95    4.533333\n",
       "96    3.866667\n",
       "97    3.866667\n",
       "98    4.133333\n",
       "99    5.133333\n",
       "Name: nruns, Length: 100, dtype: float64"
      ]
     },
     "execution_count": 1157,
     "metadata": {},
     "output_type": "execute_result"
    }
   ],
   "source": [
    "consistency_to_efficiency_plot(get_model_problem_summary(\"./resources/o3minilow-aime24-vote/*.csv\"), SprtConfidenceModel(beta=0.92)).nruns"
   ]
  },
  {
   "cell_type": "code",
   "execution_count": 1193,
   "metadata": {},
   "outputs": [
    {
     "data": {
      "application/vnd.jupyter.widget-view+json": {
       "model_id": "a0079c64f46d42758bf3101681190eb8",
       "version_major": 2,
       "version_minor": 0
      },
      "text/plain": [
       "  0%|          | 0/100 [00:00<?, ?it/s]"
      ]
     },
     "metadata": {},
     "output_type": "display_data"
    },
    {
     "data": {
      "text/plain": [
       "count    100.000000\n",
       "mean       6.936000\n",
       "std        2.547007\n",
       "min        3.500000\n",
       "25%        5.291667\n",
       "50%        6.250000\n",
       "75%        7.741667\n",
       "max       21.466667\n",
       "Name: nruns, dtype: float64"
      ]
     },
     "execution_count": 1193,
     "metadata": {},
     "output_type": "execute_result"
    }
   ],
   "source": [
    "consistency_to_efficiency_plot(get_model_problem_summary(\"./resources/o3minilow-aime24-vote/*.csv\"), BayesianPosteriorConfidenceModel(confidence_threshold=0.751)).nruns.describe()"
   ]
  },
  {
   "cell_type": "code",
   "execution_count": 1184,
   "metadata": {},
   "outputs": [
    {
     "data": {
      "application/vnd.jupyter.widget-view+json": {
       "model_id": "25b2e37488094de3bf5258bc76eb30aa",
       "version_major": 2,
       "version_minor": 0
      },
      "text/plain": [
       "  0%|          | 0/100 [00:00<?, ?it/s]"
      ]
     },
     "metadata": {},
     "output_type": "display_data"
    },
    {
     "data": {
      "text/plain": [
       "count    100.000000\n",
       "mean       5.483000\n",
       "std        0.960739\n",
       "min        3.433333\n",
       "25%        4.858333\n",
       "50%        5.433333\n",
       "75%        6.050000\n",
       "max        8.133333\n",
       "Name: nruns, dtype: float64"
      ]
     },
     "execution_count": 1184,
     "metadata": {},
     "output_type": "execute_result"
    }
   ],
   "source": [
    "consistency_to_efficiency_plot(get_model_problem_summary(\"./resources/o3minilow-aime24-vote/*.csv\"), PValueConfidenceModel(pvalue_threshold=0.40)).nruns.describe()"
   ]
  },
  {
   "cell_type": "code",
   "execution_count": 998,
   "metadata": {},
   "outputs": [
    {
     "data": {
      "application/vnd.jupyter.widget-view+json": {
       "model_id": "b3506841ca8644c58cf81c3d13870c6d",
       "version_major": 2,
       "version_minor": 0
      },
      "text/plain": [
       "  0%|          | 0/100 [00:00<?, ?it/s]"
      ]
     },
     "metadata": {},
     "output_type": "display_data"
    },
    {
     "data": {
      "image/png": "[encoded data removed]",
      "text/plain": [
       "<Figure size 1200x600 with 2 Axes>"
      ]
     },
     "metadata": {},
     "output_type": "display_data"
    }
   ],
   "source": [
    "consistency_to_efficiency_plot(get_model_problem_summary(\"./resources/o3minilow-aime24-vote/*.csv\"), VoteConfidenceModel(), max_trials=10)"
   ]
  }
 ],
 "metadata": {
  "kernelspec": {
   "display_name": "base",
   "language": "python",
   "name": "python3"
  },
  "language_info": {
   "codemirror_mode": {
    "name": "ipython",
    "version": 3
   },
   "file_extension": ".py",
   "mimetype": "text/x-python",
   "name": "python",
   "nbconvert_exporter": "python",
   "pygments_lexer": "ipython3",
   "version": "3.11.5"
  }
 },
 "nbformat": 4,
 "nbformat_minor": 2
}
