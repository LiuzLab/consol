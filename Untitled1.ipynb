{
 "cells": [
  {
   "cell_type": "code",
   "execution_count": 4,
   "id": "03751871-85e7-4a03-b044-9149b219fb04",
   "metadata": {
    "tags": []
   },
   "outputs": [
    {
     "data": {
      "text/plain": [
       "AIMessage(content='1', additional_kwargs={'refusal': None}, response_metadata={'token_usage': {'completion_tokens': 2, 'prompt_tokens': 10, 'total_tokens': 12, 'completion_tokens_details': {'accepted_prediction_tokens': 0, 'audio_tokens': 0, 'reasoning_tokens': 0, 'rejected_prediction_tokens': 0}, 'prompt_tokens_details': {'audio_tokens': 0, 'cached_tokens': 0}}, 'model_name': 'gpt-4o-mini-2024-07-18', 'system_fingerprint': 'fp_06737a9306', 'finish_reason': 'stop', 'logprobs': None}, id='run-65d576d4-c701-47c0-a201-e92baeb2b8e5-0', usage_metadata={'input_tokens': 10, 'output_tokens': 2, 'total_tokens': 12, 'input_token_details': {'audio': 0, 'cache_read': 0}, 'output_token_details': {'audio': 0, 'reasoning': 0}})"
      ]
     },
     "execution_count": 4,
     "metadata": {},
     "output_type": "execute_result"
    }
   ],
   "source": [
    "import pandas as pd\n",
    "\n",
    "import langchain\n",
    "import langchain_core\n",
    "import langchain_openai\n",
    "import dotenv\n",
    "import typing\n",
    "dotenv.load_dotenv()\n",
    "# rate_limiter = langchain_core.rate_limiters.InMemoryRateLimiter(\n",
    "#     requests_per_second=80,\n",
    "# )\n",
    "\n",
    "llm = langchain_openai.ChatOpenAI(\n",
    "    model=\"gpt-4o-mini\",  # Specify the model you want to use\n",
    "    # reasoning_effort=\"low\",\n",
    "    # model=\"gpt-4o\",  # Specify the model you want to use\n",
    "    # rate_limiter=rate_limiter,\n",
    ")\n",
    "llm.invoke(\"say 1\")"
   ]
  },
  {
   "cell_type": "code",
   "execution_count": 57,
   "id": "1787c843-9425-436f-8403-9bc1bf4ac190",
   "metadata": {
    "tags": []
   },
   "outputs": [],
   "source": [
    "def load_dataset(name: typing.Literal['asdiv', 'gsm', 'aime24']) -> pd.DataFrame:\n",
    "    if name == 'aime24':\n",
    "        df = pd.read_parquet(\"hf://datasets/Maxwell-Jia/AIME_2024/aime_2024_problems.parquet\")\n",
    "        df = df.rename(columns={'Problem': 'input', 'Answer': 'target'})\n",
    "        df = df[['input', 'target']]\n",
    "        return df\n",
    "    if name == 'asdiv':\n",
    "        df = pd.read_json('./resources/data/asdiv.jsonl', lines=True)\n",
    "        return df\n",
    "\n",
    "df = load_dataset('aime24').iloc[:30]"
   ]
  },
  {
   "cell_type": "code",
   "execution_count": 9,
   "id": "7eb91bf0-e7f1-465b-b283-20de87993a8f",
   "metadata": {
    "tags": []
   },
   "outputs": [
    {
     "data": {
      "text/plain": [
       "{'raw': AIMessage(content='{\"reasons\":[\"The term within the product can be rewritten as a function of the roots of unity, which can simplify the expression.\",\"The polynomial associated with the product must be evaluated at the roots of unity, leading to simplifications using the properties of roots of unity.\",\"Using properties of symmetric functions and evaluating polynomials at values like 2 and 1/2 help derive the required results for the product.\"],\"answer\":760}', additional_kwargs={'parsed': ReasonedOutput(reasons=['The term within the product can be rewritten as a function of the roots of unity, which can simplify the expression.', 'The polynomial associated with the product must be evaluated at the roots of unity, leading to simplifications using the properties of roots of unity.', 'Using properties of symmetric functions and evaluating polynomials at values like 2 and 1/2 help derive the required results for the product.'], answer=760.0), 'refusal': None}, response_metadata={'token_usage': {'completion_tokens': 88, 'prompt_tokens': 124, 'total_tokens': 212, 'completion_tokens_details': {'accepted_prediction_tokens': 0, 'audio_tokens': 0, 'reasoning_tokens': 0, 'rejected_prediction_tokens': 0}, 'prompt_tokens_details': {'audio_tokens': 0, 'cached_tokens': 0}}, 'model_name': 'gpt-4o-mini-2024-07-18', 'system_fingerprint': 'fp_06737a9306', 'finish_reason': 'stop', 'logprobs': None}, id='run-286906c9-ba4e-46a5-81e7-b291f64d361c-0', usage_metadata={'input_tokens': 124, 'output_tokens': 88, 'total_tokens': 212, 'input_token_details': {'audio': 0, 'cache_read': 0}, 'output_token_details': {'audio': 0, 'reasoning': 0}}),\n",
       " 'parsed': ReasonedOutput(reasons=['The term within the product can be rewritten as a function of the roots of unity, which can simplify the expression.', 'The polynomial associated with the product must be evaluated at the roots of unity, leading to simplifications using the properties of roots of unity.', 'Using properties of symmetric functions and evaluating polynomials at values like 2 and 1/2 help derive the required results for the product.'], answer=760.0),\n",
       " 'parsing_error': None}"
      ]
     },
     "execution_count": 9,
     "metadata": {},
     "output_type": "execute_result"
    }
   ],
   "source": [
    "import pydantic\n",
    "class ReasonedOutput(pydantic.BaseModel):\n",
    "    reasons: typing.List[str]\n",
    "    answer: float\n",
    "llm.with_structured_output(ReasonedOutput, include_raw=True).invoke(df.iloc[-1].input)"
   ]
  },
  {
   "cell_type": "code",
   "execution_count": 199,
   "id": "476e7536-4bf8-4e9c-97c7-381ac7910bc6",
   "metadata": {},
   "outputs": [
    {
     "data": {
      "text/plain": [
       "(ReasonedOutput(reasons=['To calculate the desired probability, we first need to compute the total number of ways to choose 4 numbers from set S containing 10 numbers, which is given by the binomial coefficient C(10, 4). This equals 210.', 'Next, we examine the condition for winning a prize. Jen wins a prize if at least 2 of her numbers are among the randomly chosen ones. We analyze the cases for the number of matches (2, 3, or 4).', 'The probability of winning the grand prize is only 1, because if she has 4 matches, she automatically meets the condition of winning a prize before we even examine the other cases.', 'We compute the scenario when Jen has exactly 2 matches, 3 matches, and 4 matches, and use the complement counting method to find how many outcomes do not satisfy winning a prize.'], answer=19.0),\n",
       " 116)"
      ]
     },
     "execution_count": 199,
     "metadata": {},
     "output_type": "execute_result"
    }
   ],
   "source": [
    "llm.with_structured_output(ReasonedOutput).invoke([\n",
    "    {\n",
    "        \"role\": \"user\",\n",
    "        \"content\": df.iloc[2].input,\n",
    "    },\n",
    "]), df.iloc[2].target"
   ]
  },
  {
   "cell_type": "code",
   "execution_count": 206,
   "id": "957ab5be-1224-4f41-b30f-76c52f5590db",
   "metadata": {},
   "outputs": [
    {
     "data": {
      "text/plain": [
       "ReasonedOutput(reasons=['Wait, we first need to determine the total number of ways Jen can pick 4 distinct numbers from the set $S = \\\\{1, 2, 3, \\\\ldots, 10\\\\}$.', 'The total number of ways to choose 4 numbers from 10 is given by the combination formula: $\\\\binom{n}{r} = \\\\frac{n!}{r!(n-r)!}$. In this case, it is $\\\\binom{10}{4} = \\\\frac{10!}{4!6!} = 210$.', 'Next, we consider what it means for Jen to win a prize, which occurs if at least 2 of her numbers match the 2 of the 4 randomly chosen numbers.', \"The total scenarios for the case where at least 2 of Jen's numbers are in the randomly chosen numbers can be broken down into two cases: 2 matches, or 3 matches, or 4 matches.\", '(1) **Case of exactly 2 matches:** Choose 2 of the 4 numbers that match, and then choose 2 from the remaining 6 numbers (10 total - 4 drawn) that do not match. This is given by: $\\\\binom{4}{2} \\\\binom{6}{2}$. The calculations: $\\\\binom{4}{2} = 6$, $\\\\binom{6}{2} = 15$, thus total for this case is $6 \\\\times 15 = 90$.', '(2) **Case of exactly 3 matches:** Choose 3 of her numbers that match with 3 of the chosen 4 numbers and 1 from the remaining 6 that does not match. This is given by: $\\\\binom{4}{3} \\\\binom{6}{1}$. The calculations: $\\\\binom{4}{3} = 4$, $\\\\binom{6}{1} = 6$, thus total for this case is $4 \\\\times 6 = 24$.', '(3) **Case of exactly 4 matches (the grand prize):** Here, all her numbers match, so there is only 1 way to choose. This is given by: $\\\\binom{4}{4} = 1$.', 'Now, we add up all the cases of Jen winning a prize: $90 + 24 + 1 = 115$. So, the total ways for her to win a prize is 115.', 'Next, we want to determine the conditional probability of her winning the grand prize given that she won a prize. This is calculated as the ratio of favorable outcomes for winning the grand prize to the total outcomes for winning a prize.', 'Let the number of favorable outcomes (grand prize) be 1 (only one way to choose 4 correctly), and the total outcomes (winning a prize) is 115 from the earlier calculation. Therefore, the probability of Jen winning the grand prize given that she won a prize is: $P(\\\\text{grand prize | prize}) = \\\\frac{1}{115}$.', 'We express this probability in the form of a fraction: $\\\\frac{m}{n}$ where $m$ and $n$ are coprime. Here, $m=1$ and $n=115$. Therefore, $m+n=1+115=116.'], answer=116.0)"
      ]
     },
     "execution_count": 206,
     "metadata": {},
     "output_type": "execute_result"
    }
   ],
   "source": [
    "reasons=['Calculate the total valid combinations for winning a prize.', 'Calculate the favorable combinations for winning the grand prize.', 'Use conditional probability formula to find the required probability.']\n",
    "llm.with_structured_output(ReasonedOutput).invoke([\n",
    "    {\n",
    "        \"role\": \"system\",\n",
    "        \"content\": \"You are Reasoner Agent to provide the next agent with the Reasoning Logic to answer the user's query. You can produce long reasoning\",\n",
    "    }, {\n",
    "        \"role\": \"system\",\n",
    "        \"content\": f\"User's Query: {df.iloc[2].input}\",\n",
    "    }, {\n",
    "        \"role\": \"user\",\n",
    "        \"content\": f\"You have thought so far like this: <think>{'<br/>'.join(reasons)}</think>\",\n",
    "    }, {\n",
    "        \"role\": \"user\",\n",
    "        \"content\": \"Start your reasons by saying 'Wait,'\",\n",
    "    },\n",
    "])"
   ]
  },
  {
   "cell_type": "code",
   "execution_count": null,
   "id": "db09b871-02b5-40c8-8282-17532f161fba",
   "metadata": {},
   "outputs": [],
   "source": []
  }
 ],
 "metadata": {
  "kernelspec": {
   "display_name": "Python 3 (ipykernel)",
   "language": "python",
   "name": "python3"
  },
  "language_info": {
   "codemirror_mode": {
    "name": "ipython",
    "version": 3
   },
   "file_extension": ".py",
   "mimetype": "text/x-python",
   "name": "python",
   "nbconvert_exporter": "python",
   "pygments_lexer": "ipython3",
   "version": "3.11.5"
  }
 },
 "nbformat": 4,
 "nbformat_minor": 5
}
